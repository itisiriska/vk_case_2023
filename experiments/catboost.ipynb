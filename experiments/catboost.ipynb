{
 "cells": [
  {
   "cell_type": "code",
   "execution_count": 1,
   "id": "16f1076b",
   "metadata": {},
   "outputs": [],
   "source": [
    "import numpy as np\n",
    "import pandas as pd\n",
    "from catboost import CatBoostRegressor, cv, Pool\n",
    "\n",
    "from matplotlib import pyplot as plt  \n",
    "\n",
    "from sklearn.metrics import mean_squared_error, r2_score"
   ]
  },
  {
   "cell_type": "code",
   "execution_count": 2,
   "id": "b7943703",
   "metadata": {},
   "outputs": [
    {
     "name": "stdout",
     "output_type": "stream",
     "text": [
      "CPU times: user 16.8 s, sys: 3.53 s, total: 20.3 s\n",
      "Wall time: 22.1 s\n"
     ]
    }
   ],
   "source": [
    "%%time\n",
    "\n",
    "df = pd.read_csv(\"m_test.csv\")\n",
    "dv = pd.read_csv(\"m_val.csv\") \n",
    "dt = pd.read_csv(\"m_train.csv\") "
   ]
  },
  {
   "cell_type": "code",
   "execution_count": 3,
   "id": "faa60f58",
   "metadata": {},
   "outputs": [
    {
     "data": {
      "text/plain": [
       "(9099455, 17)"
      ]
     },
     "execution_count": 3,
     "metadata": {},
     "output_type": "execute_result"
    }
   ],
   "source": [
    "df.shape"
   ]
  },
  {
   "cell_type": "code",
   "execution_count": 4,
   "id": "a177a59d",
   "metadata": {},
   "outputs": [],
   "source": [
    "X_test = df.drop(columns=['x1'])\n",
    "y_test = df['x1']"
   ]
  },
  {
   "cell_type": "code",
   "execution_count": 5,
   "id": "9494be2f",
   "metadata": {},
   "outputs": [],
   "source": [
    "X_train = dt.drop(columns=['x1'])\n",
    "y_train = dt['x1']"
   ]
  },
  {
   "cell_type": "code",
   "execution_count": 6,
   "id": "3640e711",
   "metadata": {},
   "outputs": [],
   "source": [
    "X_val = dv.drop(columns=['x1'])\n",
    "y_val = dv['x1']"
   ]
  },
  {
   "cell_type": "code",
   "execution_count": 7,
   "id": "121bac95",
   "metadata": {},
   "outputs": [
    {
     "name": "stderr",
     "output_type": "stream",
     "text": [
      "/var/folders/2t/qrfpf64n12j5zf9_gl_6pwgr0000gn/T/ipykernel_62250/3260884313.py:1: FutureWarning: The frame.append method is deprecated and will be removed from pandas in a future version. Use pandas.concat instead.\n",
      "  X_train = X_train.append(X_val, ignore_index=True)\n",
      "/var/folders/2t/qrfpf64n12j5zf9_gl_6pwgr0000gn/T/ipykernel_62250/3260884313.py:2: FutureWarning: The frame.append method is deprecated and will be removed from pandas in a future version. Use pandas.concat instead.\n",
      "  X_train = X_train.append(X_test, ignore_index=True)\n",
      "/var/folders/2t/qrfpf64n12j5zf9_gl_6pwgr0000gn/T/ipykernel_62250/3260884313.py:4: FutureWarning: The series.append method is deprecated and will be removed from pandas in a future version. Use pandas.concat instead.\n",
      "  y_train = y_train.append(y_val, ignore_index=True)\n",
      "/var/folders/2t/qrfpf64n12j5zf9_gl_6pwgr0000gn/T/ipykernel_62250/3260884313.py:5: FutureWarning: The series.append method is deprecated and will be removed from pandas in a future version. Use pandas.concat instead.\n",
      "  y_train = y_train.append(y_test, ignore_index=True)\n"
     ]
    }
   ],
   "source": [
    "X_train = X_train.append(X_val, ignore_index=True)\n",
    "X_train = X_train.append(X_test, ignore_index=True)\n",
    "\n",
    "y_train = y_train.append(y_val, ignore_index=True)\n",
    "y_train = y_train.append(y_test, ignore_index=True)"
   ]
  },
  {
   "cell_type": "code",
   "execution_count": 8,
   "id": "d7d906d4",
   "metadata": {},
   "outputs": [],
   "source": [
    "cb_reg_1 = CatBoostRegressor(random_seed=13, verbose=200)"
   ]
  },
  {
   "cell_type": "code",
   "execution_count": 9,
   "id": "804004cd",
   "metadata": {},
   "outputs": [
    {
     "name": "stderr",
     "output_type": "stream",
     "text": [
      "/Users/sl_ai/anaconda3/envs/hack/lib/python3.8/site-packages/catboost/core.py:1411: FutureWarning: iteritems is deprecated and will be removed in a future version. Use .items instead.\n",
      "  self._init_pool(data, label, cat_features, text_features, embedding_features, embedding_features_data, pairs, weight,\n"
     ]
    },
    {
     "name": "stdout",
     "output_type": "stream",
     "text": [
      "Learning rate set to 0.20872\n",
      "0:\tlearn: 1.1914628\ttotal: 1.96s\tremaining: 32m 37s\n",
      "200:\tlearn: 0.7611129\ttotal: 6m 14s\tremaining: 24m 46s\n",
      "400:\tlearn: 0.7583498\ttotal: 11m 33s\tremaining: 17m 15s\n",
      "600:\tlearn: 0.7568271\ttotal: 17m 52s\tremaining: 11m 51s\n",
      "800:\tlearn: 0.7557088\ttotal: 23m 52s\tremaining: 5m 55s\n",
      "999:\tlearn: 0.7548219\ttotal: 29m 47s\tremaining: 0us\n"
     ]
    }
   ],
   "source": [
    "cb_reg_1.fit(X_train, y_train)\n",
    "cb_preds = cb_reg_1.predict(X_val)"
   ]
  },
  {
   "cell_type": "code",
   "execution_count": 10,
   "id": "a89097bd",
   "metadata": {},
   "outputs": [],
   "source": [
    "cb_reg_1.save_model('cboost_model_1')"
   ]
  },
  {
   "cell_type": "code",
   "execution_count": null,
   "id": "a3e2587f",
   "metadata": {},
   "outputs": [],
   "source": []
  }
 ],
 "metadata": {
  "kernelspec": {
   "display_name": "Python 3 (ipykernel)",
   "language": "python",
   "name": "python3"
  },
  "language_info": {
   "codemirror_mode": {
    "name": "ipython",
    "version": 3
   },
   "file_extension": ".py",
   "mimetype": "text/x-python",
   "name": "python",
   "nbconvert_exporter": "python",
   "pygments_lexer": "ipython3",
   "version": "3.8.16"
  }
 },
 "nbformat": 4,
 "nbformat_minor": 5
}