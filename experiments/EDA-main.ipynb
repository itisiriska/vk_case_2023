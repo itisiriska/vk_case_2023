{
 "cells": [
  {
   "cell_type": "code",
   "execution_count": 1,
   "metadata": {},
   "outputs": [],
   "source": [
    "import pandas as pd\n",
    "import matplotlib.pyplot as plt\n",
    "import seaborn as sns\n",
    "import numpy as np\n",
    "\n",
    "from tqdm import tqdm"
   ]
  },
  {
   "cell_type": "code",
   "execution_count": 2,
   "metadata": {},
   "outputs": [],
   "source": [
    "DATA_PATH = 'data/train.csv'\n",
    "TEST_PATH = 'data/test.csv'\n",
    "ATTRS_PATH = 'data/attr.csv'\n",
    "FIGSIZE = (16, 7)"
   ]
  },
  {
   "cell_type": "code",
   "execution_count": 3,
   "metadata": {},
   "outputs": [],
   "source": [
    "sns.set()\n",
    "tqdm.pandas()\n",
    "\n",
    "pd.set_option('display.float_format', lambda x: '%.5f' % x)"
   ]
  },
  {
   "cell_type": "markdown",
   "metadata": {},
   "source": [
    "# Чтение данных"
   ]
  },
  {
   "cell_type": "code",
   "execution_count": 4,
   "metadata": {},
   "outputs": [
    {
     "data": {
      "text/html": [
       "<div>\n",
       "<style scoped>\n",
       "    .dataframe tbody tr th:only-of-type {\n",
       "        vertical-align: middle;\n",
       "    }\n",
       "\n",
       "    .dataframe tbody tr th {\n",
       "        vertical-align: top;\n",
       "    }\n",
       "\n",
       "    .dataframe thead th {\n",
       "        text-align: right;\n",
       "    }\n",
       "</style>\n",
       "<table border=\"1\" class=\"dataframe\">\n",
       "  <thead>\n",
       "    <tr style=\"text-align: right;\">\n",
       "      <th></th>\n",
       "      <th>ego_id</th>\n",
       "      <th>u</th>\n",
       "      <th>v</th>\n",
       "      <th>t</th>\n",
       "      <th>x1</th>\n",
       "      <th>x2</th>\n",
       "      <th>x3</th>\n",
       "    </tr>\n",
       "  </thead>\n",
       "  <tbody>\n",
       "    <tr>\n",
       "      <th>0</th>\n",
       "      <td>0</td>\n",
       "      <td>131</td>\n",
       "      <td>84</td>\n",
       "      <td>148.00000</td>\n",
       "      <td>0.00000</td>\n",
       "      <td>0.00000</td>\n",
       "      <td>0.00000</td>\n",
       "    </tr>\n",
       "    <tr>\n",
       "      <th>1</th>\n",
       "      <td>0</td>\n",
       "      <td>135</td>\n",
       "      <td>164</td>\n",
       "      <td>396.70000</td>\n",
       "      <td>0.06246</td>\n",
       "      <td>0.00000</td>\n",
       "      <td>0.00000</td>\n",
       "    </tr>\n",
       "    <tr>\n",
       "      <th>2</th>\n",
       "      <td>0</td>\n",
       "      <td>47</td>\n",
       "      <td>15</td>\n",
       "      <td>NaN</td>\n",
       "      <td>0.00000</td>\n",
       "      <td>0.00000</td>\n",
       "      <td>1.00000</td>\n",
       "    </tr>\n",
       "    <tr>\n",
       "      <th>3</th>\n",
       "      <td>0</td>\n",
       "      <td>5</td>\n",
       "      <td>4</td>\n",
       "      <td>594.50000</td>\n",
       "      <td>0.04963</td>\n",
       "      <td>0.00000</td>\n",
       "      <td>0.00000</td>\n",
       "    </tr>\n",
       "    <tr>\n",
       "      <th>4</th>\n",
       "      <td>0</td>\n",
       "      <td>176</td>\n",
       "      <td>219</td>\n",
       "      <td>45.50000</td>\n",
       "      <td>1.23794</td>\n",
       "      <td>0.00000</td>\n",
       "      <td>0.00000</td>\n",
       "    </tr>\n",
       "  </tbody>\n",
       "</table>\n",
       "</div>"
      ],
      "text/plain": [
       "   ego_id    u    v         t      x1      x2      x3\n",
       "0       0  131   84 148.00000 0.00000 0.00000 0.00000\n",
       "1       0  135  164 396.70000 0.06246 0.00000 0.00000\n",
       "2       0   47   15       NaN 0.00000 0.00000 1.00000\n",
       "3       0    5    4 594.50000 0.04963 0.00000 0.00000\n",
       "4       0  176  219  45.50000 1.23794 0.00000 0.00000"
      ]
     },
     "execution_count": 4,
     "metadata": {},
     "output_type": "execute_result"
    }
   ],
   "source": [
    "df = pd.read_csv(DATA_PATH\n",
    "                #  , nrows=30000000\n",
    ")\n",
    "df.head()"
   ]
  },
  {
   "cell_type": "code",
   "execution_count": 5,
   "metadata": {},
   "outputs": [
    {
     "name": "stdout",
     "output_type": "stream",
     "text": [
      "<class 'pandas.core.frame.DataFrame'>\n",
      "RangeIndex: 122280372 entries, 0 to 122280371\n",
      "Data columns (total 7 columns):\n",
      " #   Column  Dtype  \n",
      "---  ------  -----  \n",
      " 0   ego_id  int64  \n",
      " 1   u       int64  \n",
      " 2   v       int64  \n",
      " 3   t       float64\n",
      " 4   x1      float64\n",
      " 5   x2      float64\n",
      " 6   x3      float64\n",
      "dtypes: float64(4), int64(3)\n",
      "memory usage: 6.4 GB\n"
     ]
    }
   ],
   "source": [
    "df.info(memory_usage='deep')"
   ]
  },
  {
   "cell_type": "markdown",
   "metadata": {},
   "source": [
    "```ego_id``` - id эго-графа\n",
    "\n",
    "```u``` - пользователь 1, если u = 0, это центр одуванчика\n",
    "\n",
    "```v``` - пользователь 2\n",
    "\n",
    "```t``` -  целое число дней, прошедшее с возникновения дружбы между\n",
    "каждой парой пользователей  \n",
    "\n",
    "```x1``` - коэфф 1 (таргет)\n",
    "\n",
    "```x2``` - коэфф 2\n",
    "\n",
    "```x3``` - коэфф 3"
   ]
  },
  {
   "cell_type": "markdown",
   "metadata": {},
   "source": [
    "# Распределения данных"
   ]
  },
  {
   "cell_type": "code",
   "execution_count": 6,
   "metadata": {},
   "outputs": [
    {
     "data": {
      "text/html": [
       "<div>\n",
       "<style scoped>\n",
       "    .dataframe tbody tr th:only-of-type {\n",
       "        vertical-align: middle;\n",
       "    }\n",
       "\n",
       "    .dataframe tbody tr th {\n",
       "        vertical-align: top;\n",
       "    }\n",
       "\n",
       "    .dataframe thead th {\n",
       "        text-align: right;\n",
       "    }\n",
       "</style>\n",
       "<table border=\"1\" class=\"dataframe\">\n",
       "  <thead>\n",
       "    <tr style=\"text-align: right;\">\n",
       "      <th></th>\n",
       "      <th>ego_id</th>\n",
       "      <th>u</th>\n",
       "      <th>v</th>\n",
       "      <th>t</th>\n",
       "      <th>x1</th>\n",
       "      <th>x2</th>\n",
       "      <th>x3</th>\n",
       "    </tr>\n",
       "  </thead>\n",
       "  <tbody>\n",
       "    <tr>\n",
       "      <th>count</th>\n",
       "      <td>122280372.00000</td>\n",
       "      <td>122280372.00000</td>\n",
       "      <td>122280372.00000</td>\n",
       "      <td>103563154.00000</td>\n",
       "      <td>122280372.00000</td>\n",
       "      <td>122280372.00000</td>\n",
       "      <td>122280372.00000</td>\n",
       "    </tr>\n",
       "    <tr>\n",
       "      <th>mean</th>\n",
       "      <td>850887205962.44507</td>\n",
       "      <td>87.66378</td>\n",
       "      <td>94.80200</td>\n",
       "      <td>114.01289</td>\n",
       "      <td>0.69098</td>\n",
       "      <td>0.19868</td>\n",
       "      <td>0.15264</td>\n",
       "    </tr>\n",
       "    <tr>\n",
       "      <th>std</th>\n",
       "      <td>495831201020.52600</td>\n",
       "      <td>69.90831</td>\n",
       "      <td>73.97358</td>\n",
       "      <td>112.57239</td>\n",
       "      <td>1.35416</td>\n",
       "      <td>0.78438</td>\n",
       "      <td>0.35964</td>\n",
       "    </tr>\n",
       "    <tr>\n",
       "      <th>min</th>\n",
       "      <td>0.00000</td>\n",
       "      <td>0.00000</td>\n",
       "      <td>0.00000</td>\n",
       "      <td>0.00000</td>\n",
       "      <td>0.00000</td>\n",
       "      <td>0.00000</td>\n",
       "      <td>0.00000</td>\n",
       "    </tr>\n",
       "    <tr>\n",
       "      <th>25%</th>\n",
       "      <td>420906795337.00000</td>\n",
       "      <td>30.00000</td>\n",
       "      <td>34.00000</td>\n",
       "      <td>27.60000</td>\n",
       "      <td>0.00001</td>\n",
       "      <td>0.00000</td>\n",
       "      <td>0.00000</td>\n",
       "    </tr>\n",
       "    <tr>\n",
       "      <th>50%</th>\n",
       "      <td>850403524886.00000</td>\n",
       "      <td>73.00000</td>\n",
       "      <td>79.00000</td>\n",
       "      <td>81.10000</td>\n",
       "      <td>0.07433</td>\n",
       "      <td>0.00000</td>\n",
       "      <td>0.00000</td>\n",
       "    </tr>\n",
       "    <tr>\n",
       "      <th>75%</th>\n",
       "      <td>1279900254705.00000</td>\n",
       "      <td>133.00000</td>\n",
       "      <td>143.00000</td>\n",
       "      <td>161.10000</td>\n",
       "      <td>0.89606</td>\n",
       "      <td>0.00000</td>\n",
       "      <td>0.00000</td>\n",
       "    </tr>\n",
       "    <tr>\n",
       "      <th>max</th>\n",
       "      <td>1709396984692.00000</td>\n",
       "      <td>299.00000</td>\n",
       "      <td>299.00000</td>\n",
       "      <td>594.50000</td>\n",
       "      <td>47.28715</td>\n",
       "      <td>10.74882</td>\n",
       "      <td>1.00000</td>\n",
       "    </tr>\n",
       "  </tbody>\n",
       "</table>\n",
       "</div>"
      ],
      "text/plain": [
       "                   ego_id               u               v               t  \\\n",
       "count     122280372.00000 122280372.00000 122280372.00000 103563154.00000   \n",
       "mean   850887205962.44507        87.66378        94.80200       114.01289   \n",
       "std    495831201020.52600        69.90831        73.97358       112.57239   \n",
       "min               0.00000         0.00000         0.00000         0.00000   \n",
       "25%    420906795337.00000        30.00000        34.00000        27.60000   \n",
       "50%    850403524886.00000        73.00000        79.00000        81.10000   \n",
       "75%   1279900254705.00000       133.00000       143.00000       161.10000   \n",
       "max   1709396984692.00000       299.00000       299.00000       594.50000   \n",
       "\n",
       "                   x1              x2              x3  \n",
       "count 122280372.00000 122280372.00000 122280372.00000  \n",
       "mean          0.69098         0.19868         0.15264  \n",
       "std           1.35416         0.78438         0.35964  \n",
       "min           0.00000         0.00000         0.00000  \n",
       "25%           0.00001         0.00000         0.00000  \n",
       "50%           0.07433         0.00000         0.00000  \n",
       "75%           0.89606         0.00000         0.00000  \n",
       "max          47.28715        10.74882         1.00000  "
      ]
     },
     "execution_count": 6,
     "metadata": {},
     "output_type": "execute_result"
    }
   ],
   "source": [
    "df.describe()"
   ]
  },
  {
   "cell_type": "markdown",
   "metadata": {},
   "source": [
    "У x1 странное максимальное значение, возможно данные обновят"
   ]
  },
  {
   "cell_type": "code",
   "execution_count": 7,
   "metadata": {},
   "outputs": [
    {
     "data": {
      "text/plain": [
       "ego_id    0.00000\n",
       "u         0.00000\n",
       "v         0.00000\n",
       "t        15.30680\n",
       "x1        0.00000\n",
       "x2        0.00000\n",
       "x3        0.00000\n",
       "dtype: float64"
      ]
     },
     "execution_count": 7,
     "metadata": {},
     "output_type": "execute_result"
    }
   ],
   "source": [
    "df.isna().sum() / df.shape[0] * 100"
   ]
  },
  {
   "cell_type": "markdown",
   "metadata": {},
   "source": [
    "Для 15% ребер время неизвестно (NaN). Скорее всего, это те самые пары пользователей, которые не подружились"
   ]
  },
  {
   "cell_type": "code",
   "execution_count": 8,
   "metadata": {},
   "outputs": [
    {
     "data": {
      "image/png": "[encoded data removed]",
      "text/plain": [
       "<Figure size 1600x700 with 1 Axes>"
      ]
     },
     "metadata": {},
     "output_type": "display_data"
    }
   ],
   "source": [
    "plt.figure(figsize=FIGSIZE);\n",
    "df['x1'].plot(kind='hist', bins=100, title='Распределение таргета');"
   ]
  },
  {
   "cell_type": "code",
   "execution_count": 9,
   "metadata": {},
   "outputs": [
    {
     "data": {
      "text/plain": [
       "count   122280372.00000\n",
       "mean            0.69098\n",
       "std             1.35416\n",
       "min             0.00000\n",
       "25%             0.00001\n",
       "50%             0.07433\n",
       "75%             0.89606\n",
       "max            47.28715\n",
       "Name: x1, dtype: float64"
      ]
     },
     "execution_count": 9,
     "metadata": {},
     "output_type": "execute_result"
    }
   ],
   "source": [
    "df['x1'].describe()"
   ]
  },
  {
   "cell_type": "markdown",
   "metadata": {},
   "source": [
    "Видим, что для 50% квартиля значения таргета не превышают 0.1. Такие смещения могут быть из-за максимального значения 47, но можно предположить, что большая часть пар пользователей мало взаимодействует друг с другом. "
   ]
  },
  {
   "cell_type": "code",
   "execution_count": 10,
   "metadata": {},
   "outputs": [
    {
     "data": {
      "image/png": "[encoded data removed]",
      "text/plain": [
       "<Figure size 1600x700 with 1 Axes>"
      ]
     },
     "metadata": {},
     "output_type": "display_data"
    }
   ],
   "source": [
    "plt.figure(figsize=FIGSIZE);\n",
    "df['x2'].plot(kind='hist', bins=10, title='Распределение фичи x2');"
   ]
  },
  {
   "cell_type": "markdown",
   "metadata": {},
   "source": [
    "75% квартиль: все значения равны 0"
   ]
  },
  {
   "cell_type": "code",
   "execution_count": 11,
   "metadata": {},
   "outputs": [
    {
     "data": {
      "image/png": "[encoded data removed]",
      "text/plain": [
       "<Figure size 1600x700 with 1 Axes>"
      ]
     },
     "metadata": {},
     "output_type": "display_data"
    }
   ],
   "source": [
    "plt.figure(figsize=FIGSIZE);\n",
    "df[df['x2'] > 0]['x2'].plot(kind='hist', bins=50, title='Распределение фичи x2, x2 > 0');"
   ]
  },
  {
   "cell_type": "code",
   "execution_count": 12,
   "metadata": {},
   "outputs": [
    {
     "data": {
      "image/png": "[encoded data removed]",
      "text/plain": [
       "<Figure size 1600x700 with 1 Axes>"
      ]
     },
     "metadata": {},
     "output_type": "display_data"
    }
   ],
   "source": [
    "plt.figure(figsize=FIGSIZE);\n",
    "sns.countplot(x='x3', data=df);"
   ]
  },
  {
   "cell_type": "markdown",
   "metadata": {},
   "source": [
    "Фича принимает только 2 значения. Преимущественно равна 0. Согласуется с гипотезой о том, что большая часть пар пользователей не взаимодействуют между собой"
   ]
  },
  {
   "cell_type": "code",
   "execution_count": 13,
   "metadata": {},
   "outputs": [
    {
     "data": {
      "text/plain": [
       "0.15306804922052414"
      ]
     },
     "execution_count": 13,
     "metadata": {},
     "output_type": "execute_result"
    }
   ],
   "source": [
    "df['t'].isna().sum() / df.shape[0]"
   ]
  },
  {
   "cell_type": "code",
   "execution_count": 14,
   "metadata": {},
   "outputs": [
    {
     "data": {
      "image/png": "[encoded data removed]",
      "text/plain": [
       "<Figure size 1600x700 with 1 Axes>"
      ]
     },
     "metadata": {},
     "output_type": "display_data"
    }
   ],
   "source": [
    "plt.figure(figsize=FIGSIZE);\n",
    "df['t'].hist(bins=100);"
   ]
  },
  {
   "cell_type": "code",
   "execution_count": null,
   "metadata": {},
   "outputs": [],
   "source": [
    "plt.figure(figsize=FIGSIZE);\n",
    "df.boxplot(column=['t']);"
   ]
  },
  {
   "cell_type": "markdown",
   "metadata": {},
   "source": [
    "Распределение времени с тяжелым хвостом. Справа, около 600, наблюдаются выбросы"
   ]
  },
  {
   "cell_type": "code",
   "execution_count": 15,
   "metadata": {},
   "outputs": [
    {
     "data": {
      "image/png": "[encoded data removed]",
      "text/plain": [
       "<Figure size 1600x700 with 1 Axes>"
      ]
     },
     "metadata": {},
     "output_type": "display_data"
    }
   ],
   "source": [
    "plt.figure(figsize=FIGSIZE);\n",
    "df['t'].apply(lambda x: np.log(x + 1)).hist(bins=100);  # логарифмируем + 1, чтобы избавиться от 0"
   ]
  },
  {
   "cell_type": "markdown",
   "metadata": {},
   "source": [
    "# Анализ графов"
   ]
  },
  {
   "cell_type": "code",
   "execution_count": 16,
   "metadata": {},
   "outputs": [
    {
     "data": {
      "text/html": [
       "<div>\n",
       "<style scoped>\n",
       "    .dataframe tbody tr th:only-of-type {\n",
       "        vertical-align: middle;\n",
       "    }\n",
       "\n",
       "    .dataframe tbody tr th {\n",
       "        vertical-align: top;\n",
       "    }\n",
       "\n",
       "    .dataframe thead th {\n",
       "        text-align: right;\n",
       "    }\n",
       "</style>\n",
       "<table border=\"1\" class=\"dataframe\">\n",
       "  <thead>\n",
       "    <tr style=\"text-align: right;\">\n",
       "      <th></th>\n",
       "      <th></th>\n",
       "      <th>count</th>\n",
       "    </tr>\n",
       "    <tr>\n",
       "      <th>ego_id</th>\n",
       "      <th>u</th>\n",
       "      <th></th>\n",
       "    </tr>\n",
       "  </thead>\n",
       "  <tbody>\n",
       "    <tr>\n",
       "      <th rowspan=\"5\" valign=\"top\">0</th>\n",
       "      <th>0</th>\n",
       "      <td>193</td>\n",
       "    </tr>\n",
       "    <tr>\n",
       "      <th>2</th>\n",
       "      <td>4</td>\n",
       "    </tr>\n",
       "    <tr>\n",
       "      <th>4</th>\n",
       "      <td>10</td>\n",
       "    </tr>\n",
       "    <tr>\n",
       "      <th>5</th>\n",
       "      <td>24</td>\n",
       "    </tr>\n",
       "    <tr>\n",
       "      <th>6</th>\n",
       "      <td>3</td>\n",
       "    </tr>\n",
       "    <tr>\n",
       "      <th>...</th>\n",
       "      <th>...</th>\n",
       "      <td>...</td>\n",
       "    </tr>\n",
       "    <tr>\n",
       "      <th rowspan=\"5\" valign=\"top\">1709396984692</th>\n",
       "      <th>12</th>\n",
       "      <td>3</td>\n",
       "    </tr>\n",
       "    <tr>\n",
       "      <th>14</th>\n",
       "      <td>4</td>\n",
       "    </tr>\n",
       "    <tr>\n",
       "      <th>15</th>\n",
       "      <td>5</td>\n",
       "    </tr>\n",
       "    <tr>\n",
       "      <th>16</th>\n",
       "      <td>5</td>\n",
       "    </tr>\n",
       "    <tr>\n",
       "      <th>18</th>\n",
       "      <td>1</td>\n",
       "    </tr>\n",
       "  </tbody>\n",
       "</table>\n",
       "<p>11484521 rows × 1 columns</p>\n",
       "</div>"
      ],
      "text/plain": [
       "                  count\n",
       "ego_id        u        \n",
       "0             0     193\n",
       "              2       4\n",
       "              4      10\n",
       "              5      24\n",
       "              6       3\n",
       "...                 ...\n",
       "1709396984692 12      3\n",
       "              14      4\n",
       "              15      5\n",
       "              16      5\n",
       "              18      1\n",
       "\n",
       "[11484521 rows x 1 columns]"
      ]
     },
     "execution_count": 16,
     "metadata": {},
     "output_type": "execute_result"
    }
   ],
   "source": [
    "counts = df.groupby(['ego_id', 'u'])['v'].agg(['count'])\n",
    "counts"
   ]
  },
  {
   "cell_type": "code",
   "execution_count": 17,
   "metadata": {},
   "outputs": [
    {
     "data": {
      "text/plain": [
       "count    193\n",
       "dtype: int64"
      ]
     },
     "execution_count": 17,
     "metadata": {},
     "output_type": "execute_result"
    }
   ],
   "source": [
    "centers = counts.loc[0]  # получаем центры графов \n",
    "centers.max()"
   ]
  },
  {
   "cell_type": "markdown",
   "metadata": {},
   "source": [
    "Среднее значение времени для центра графа, чтобы завести друзей"
   ]
  },
  {
   "cell_type": "code",
   "execution_count": 18,
   "metadata": {},
   "outputs": [
    {
     "data": {
      "text/plain": [
       "u\n",
       "0     212.25812\n",
       "2     594.50000\n",
       "4     441.94000\n",
       "5     386.39583\n",
       "6     413.93333\n",
       "         ...   \n",
       "287    38.40000\n",
       "288    94.30000\n",
       "290    15.00000\n",
       "292   126.50000\n",
       "297   126.50000\n",
       "Name: t, Length: 272, dtype: float64"
      ]
     },
     "execution_count": 18,
     "metadata": {},
     "output_type": "execute_result"
    }
   ],
   "source": [
    "time = df.groupby(['ego_id', 'u'])['t']\n",
    "time.mean().loc[0]"
   ]
  },
  {
   "cell_type": "markdown",
   "metadata": {},
   "source": [
    "Медианное значение времени для центра графа, чтобы завести друзей"
   ]
  },
  {
   "cell_type": "code",
   "execution_count": 19,
   "metadata": {},
   "outputs": [
    {
     "data": {
      "text/plain": [
       "u\n",
       "0     149.20000\n",
       "2     594.50000\n",
       "4     509.40000\n",
       "5     404.60000\n",
       "6     594.50000\n",
       "         ...   \n",
       "287    38.40000\n",
       "288    94.30000\n",
       "290    15.00000\n",
       "292   126.50000\n",
       "297   126.50000\n",
       "Name: t, Length: 272, dtype: float64"
      ]
     },
     "execution_count": 19,
     "metadata": {},
     "output_type": "execute_result"
    }
   ],
   "source": [
    "time.median().loc[0]"
   ]
  },
  {
   "cell_type": "markdown",
   "metadata": {},
   "source": [
    "# Attributes"
   ]
  },
  {
   "cell_type": "code",
   "execution_count": 20,
   "metadata": {},
   "outputs": [
    {
     "data": {
      "text/html": [
       "<div>\n",
       "<style scoped>\n",
       "    .dataframe tbody tr th:only-of-type {\n",
       "        vertical-align: middle;\n",
       "    }\n",
       "\n",
       "    .dataframe tbody tr th {\n",
       "        vertical-align: top;\n",
       "    }\n",
       "\n",
       "    .dataframe thead th {\n",
       "        text-align: right;\n",
       "    }\n",
       "</style>\n",
       "<table border=\"1\" class=\"dataframe\">\n",
       "  <thead>\n",
       "    <tr style=\"text-align: right;\">\n",
       "      <th></th>\n",
       "      <th>ego_id</th>\n",
       "      <th>u</th>\n",
       "      <th>age</th>\n",
       "      <th>city_id</th>\n",
       "      <th>sex</th>\n",
       "      <th>school</th>\n",
       "      <th>university</th>\n",
       "    </tr>\n",
       "  </thead>\n",
       "  <tbody>\n",
       "    <tr>\n",
       "      <th>0</th>\n",
       "      <td>0</td>\n",
       "      <td>227</td>\n",
       "      <td>68</td>\n",
       "      <td>-1</td>\n",
       "      <td>1</td>\n",
       "      <td>778293348</td>\n",
       "      <td>-1</td>\n",
       "    </tr>\n",
       "    <tr>\n",
       "      <th>1</th>\n",
       "      <td>0</td>\n",
       "      <td>45</td>\n",
       "      <td>38</td>\n",
       "      <td>237065842</td>\n",
       "      <td>1</td>\n",
       "      <td>82803468</td>\n",
       "      <td>238500268</td>\n",
       "    </tr>\n",
       "    <tr>\n",
       "      <th>2</th>\n",
       "      <td>0</td>\n",
       "      <td>142</td>\n",
       "      <td>60</td>\n",
       "      <td>237065842</td>\n",
       "      <td>1</td>\n",
       "      <td>196560139</td>\n",
       "      <td>-1</td>\n",
       "    </tr>\n",
       "    <tr>\n",
       "      <th>3</th>\n",
       "      <td>0</td>\n",
       "      <td>280</td>\n",
       "      <td>66</td>\n",
       "      <td>-1</td>\n",
       "      <td>2</td>\n",
       "      <td>963209731</td>\n",
       "      <td>720783270</td>\n",
       "    </tr>\n",
       "    <tr>\n",
       "      <th>4</th>\n",
       "      <td>0</td>\n",
       "      <td>41</td>\n",
       "      <td>18</td>\n",
       "      <td>-1</td>\n",
       "      <td>2</td>\n",
       "      <td>308862409</td>\n",
       "      <td>-1</td>\n",
       "    </tr>\n",
       "  </tbody>\n",
       "</table>\n",
       "</div>"
      ],
      "text/plain": [
       "   ego_id    u  age    city_id  sex     school  university\n",
       "0       0  227   68         -1    1  778293348          -1\n",
       "1       0   45   38  237065842    1   82803468   238500268\n",
       "2       0  142   60  237065842    1  196560139          -1\n",
       "3       0  280   66         -1    2  963209731   720783270\n",
       "4       0   41   18         -1    2  308862409          -1"
      ]
     },
     "execution_count": 20,
     "metadata": {},
     "output_type": "execute_result"
    }
   ],
   "source": [
    "attrs = pd.read_csv(ATTRS_PATH)\n",
    "attrs.head()"
   ]
  },
  {
   "cell_type": "code",
   "execution_count": 21,
   "metadata": {},
   "outputs": [
    {
     "data": {
      "text/plain": [
       "0"
      ]
     },
     "execution_count": 21,
     "metadata": {},
     "output_type": "execute_result"
    }
   ],
   "source": [
    "attrs_ego_id = set(attrs['ego_id'].unique())\n",
    "df_ego_id = set(df['ego_id'].unique())\n",
    "\n",
    "len(df_ego_id.difference(attrs_ego_id))"
   ]
  },
  {
   "cell_type": "markdown",
   "metadata": {},
   "source": [
    "Все пользователи u присутствуют в attrs "
   ]
  },
  {
   "cell_type": "code",
   "execution_count": 22,
   "metadata": {},
   "outputs": [
    {
     "data": {
      "text/plain": [
       "ego_id        0.00000\n",
       "u             0.00000\n",
       "age           0.69206\n",
       "city_id      35.64787\n",
       "sex           0.03747\n",
       "school       59.56195\n",
       "university   72.13572\n",
       "dtype: float64"
      ]
     },
     "execution_count": 22,
     "metadata": {},
     "output_type": "execute_result"
    }
   ],
   "source": [
    "(attrs == -1).sum() / attrs.shape[0] * 100"
   ]
  },
  {
   "cell_type": "markdown",
   "metadata": {},
   "source": [
    "Получили % NaN-значений"
   ]
  },
  {
   "cell_type": "code",
   "execution_count": 23,
   "metadata": {},
   "outputs": [],
   "source": [
    "attrs = attrs.replace({-1: np.NaN})"
   ]
  },
  {
   "cell_type": "code",
   "execution_count": 24,
   "metadata": {},
   "outputs": [
    {
     "data": {
      "text/plain": [
       "ego_id        0.00000\n",
       "u             0.00000\n",
       "age           0.69206\n",
       "city_id      35.64787\n",
       "sex           0.03747\n",
       "school       59.56195\n",
       "university   72.13572\n",
       "dtype: float64"
      ]
     },
     "execution_count": 24,
     "metadata": {},
     "output_type": "execute_result"
    }
   ],
   "source": [
    "attrs.isna().sum() / attrs.shape[0] * 100"
   ]
  },
  {
   "cell_type": "code",
   "execution_count": 25,
   "metadata": {},
   "outputs": [
    {
     "data": {
      "image/png": "[encoded data removed]",
      "text/plain": [
       "<Figure size 1600x700 with 1 Axes>"
      ]
     },
     "metadata": {},
     "output_type": "display_data"
    }
   ],
   "source": [
    "plt.figure(figsize=FIGSIZE);\n",
    "attrs['age'].hist(bins=100);"
   ]
  },
  {
   "cell_type": "code",
   "execution_count": 26,
   "metadata": {},
   "outputs": [
    {
     "data": {
      "text/plain": [
       "count   14827418.00000\n",
       "mean          32.98017\n",
       "std           16.61879\n",
       "min            5.00000\n",
       "25%           22.00000\n",
       "50%           31.00000\n",
       "75%           39.00000\n",
       "max          789.00000\n",
       "Name: age, dtype: float64"
      ]
     },
     "execution_count": 26,
     "metadata": {},
     "output_type": "execute_result"
    }
   ],
   "source": [
    "attrs['age'].describe()"
   ]
  },
  {
   "cell_type": "markdown",
   "metadata": {},
   "source": [
    "Пользователи - преимущественно молодые люди"
   ]
  },
  {
   "cell_type": "code",
   "execution_count": 27,
   "metadata": {},
   "outputs": [
    {
     "data": {
      "text/plain": [
       "1791317"
      ]
     },
     "execution_count": 27,
     "metadata": {},
     "output_type": "execute_result"
    }
   ],
   "source": [
    "attrs['city_id'].nunique()"
   ]
  },
  {
   "cell_type": "code",
   "execution_count": 28,
   "metadata": {},
   "outputs": [
    {
     "data": {
      "text/plain": [
       "city_id\n",
       "16261135.00000       1\n",
       "89878857.00000       2\n",
       "91132085.00000       1\n",
       "122329603.00000      3\n",
       "151639620.00000      1\n",
       "200057624.00000      1\n",
       "237065842.00000    159\n",
       "238321946.00000     22\n",
       "257307113.00000      1\n",
       "298413605.00000     12\n",
       "311391434.00000      1\n",
       "358692542.00000      1\n",
       "398568811.00000      1\n",
       "455967165.00000      1\n",
       "505098895.00000      1\n",
       "515825832.00000     16\n",
       "529466071.00000      1\n",
       "583984465.00000      1\n",
       "637930249.00000      1\n",
       "720792568.00000      1\n",
       "852260251.00000      1\n",
       "868585793.00000      1\n",
       "884041880.00000      3\n",
       "941820163.00000      1\n",
       "979159080.00000      1\n",
       "Name: u, dtype: int64"
      ]
     },
     "execution_count": 28,
     "metadata": {},
     "output_type": "execute_result"
    }
   ],
   "source": [
    "attrs.groupby(['ego_id', 'city_id']).nunique().loc[0, 'u']"
   ]
  },
  {
   "cell_type": "markdown",
   "metadata": {},
   "source": [
    "Несколько групп пользователей-центров нод, которые живут в одном городе"
   ]
  },
  {
   "cell_type": "code",
   "execution_count": 29,
   "metadata": {},
   "outputs": [
    {
     "data": {
      "image/png": "[encoded data removed]",
      "text/plain": [
       "<Figure size 1600x700 with 1 Axes>"
      ]
     },
     "metadata": {},
     "output_type": "display_data"
    }
   ],
   "source": [
    "plt.figure(figsize=FIGSIZE);\n",
    "sns.countplot(x='sex', data=attrs);"
   ]
  },
  {
   "cell_type": "markdown",
   "metadata": {},
   "source": [
    "Незначительный перевес пола 1, пользователи в датасете относительно сбалансированы"
   ]
  },
  {
   "cell_type": "code",
   "execution_count": 30,
   "metadata": {},
   "outputs": [
    {
     "data": {
      "text/plain": [
       "school\n",
       "2552673.00000      1\n",
       "7900518.00000      1\n",
       "9694743.00000      1\n",
       "12969477.00000     1\n",
       "17463303.00000     1\n",
       "                  ..\n",
       "982829159.00000    1\n",
       "986417317.00000    1\n",
       "994112604.00000    3\n",
       "996782138.00000    1\n",
       "997337003.00000    1\n",
       "Name: u, Length: 146, dtype: int64"
      ]
     },
     "execution_count": 30,
     "metadata": {},
     "output_type": "execute_result"
    }
   ],
   "source": [
    "same_school = attrs.groupby(['ego_id', 'school']).nunique().loc[0, 'u']  # \n",
    "same_school"
   ]
  },
  {
   "cell_type": "markdown",
   "metadata": {},
   "source": [
    "Пользователи, которые учились в одной школе"
   ]
  },
  {
   "cell_type": "code",
   "execution_count": 31,
   "metadata": {},
   "outputs": [
    {
     "data": {
      "text/plain": [
       "university\n",
       "15325483.00000      1\n",
       "53276069.00000      1\n",
       "61912051.00000      1\n",
       "62501167.00000      2\n",
       "66999397.00000      5\n",
       "                   ..\n",
       "937129023.00000     1\n",
       "946539133.00000     1\n",
       "953410497.00000     1\n",
       "954988066.00000     1\n",
       "991369526.00000    19\n",
       "Name: u, Length: 85, dtype: int64"
      ]
     },
     "execution_count": 31,
     "metadata": {},
     "output_type": "execute_result"
    }
   ],
   "source": [
    "same_university = attrs.groupby(['ego_id', 'university']).nunique().loc[0, 'u']\n",
    "same_university"
   ]
  },
  {
   "cell_type": "markdown",
   "metadata": {},
   "source": [
    "Пользователи, которые учились в одном университете"
   ]
  },
  {
   "cell_type": "code",
   "execution_count": 32,
   "metadata": {},
   "outputs": [
    {
     "data": {
      "text/plain": [
       "city_id\n",
       "759.00000          1\n",
       "1179.00000         0\n",
       "1324.00000         2\n",
       "3099.00000         0\n",
       "3343.00000         0\n",
       "                  ..\n",
       "999999134.00000    2\n",
       "999999390.00000    0\n",
       "999999531.00000    1\n",
       "999999708.00000    1\n",
       "999999976.00000    0\n",
       "Name: school, Length: 1791317, dtype: int64"
      ]
     },
     "execution_count": 32,
     "metadata": {},
     "output_type": "execute_result"
    }
   ],
   "source": [
    "city_info = attrs.groupby(['city_id'])\n",
    "city_info.count()['school']"
   ]
  },
  {
   "cell_type": "markdown",
   "metadata": {},
   "source": [
    "Посчитали, сколько школ в каждом городе (из того что нам известно)"
   ]
  },
  {
   "cell_type": "code",
   "execution_count": 33,
   "metadata": {},
   "outputs": [
    {
     "data": {
      "text/plain": [
       "city_id\n",
       "759.00000          0\n",
       "1179.00000         0\n",
       "1324.00000         3\n",
       "3099.00000         0\n",
       "3343.00000         0\n",
       "                  ..\n",
       "999999134.00000    2\n",
       "999999390.00000    0\n",
       "999999531.00000    0\n",
       "999999708.00000    0\n",
       "999999976.00000    0\n",
       "Name: university, Length: 1791317, dtype: int64"
      ]
     },
     "execution_count": 33,
     "metadata": {},
     "output_type": "execute_result"
    }
   ],
   "source": [
    "city_info.count()['university']"
   ]
  },
  {
   "cell_type": "markdown",
   "metadata": {},
   "source": [
    "Аналогично с университетами"
   ]
  },
  {
   "cell_type": "code",
   "execution_count": 34,
   "metadata": {},
   "outputs": [
    {
     "data": {
      "text/plain": [
       "school\n",
       "392.00000          1\n",
       "968.00000          1\n",
       "990.00000          0\n",
       "1504.00000         1\n",
       "1792.00000         2\n",
       "                  ..\n",
       "999999079.00000    0\n",
       "999999428.00000    0\n",
       "999999620.00000    1\n",
       "999999823.00000    1\n",
       "999999969.00000    1\n",
       "Name: university, Length: 3743611, dtype: int64"
      ]
     },
     "execution_count": 34,
     "metadata": {},
     "output_type": "execute_result"
    }
   ],
   "source": [
    "university_after_school = attrs.groupby('school').count()['university']\n",
    "university_after_school"
   ]
  },
  {
   "cell_type": "markdown",
   "metadata": {},
   "source": [
    "Пользователи, которые учились в одной школе, поступали в N разных университетов"
   ]
  },
  {
   "cell_type": "code",
   "execution_count": 35,
   "metadata": {},
   "outputs": [
    {
     "data": {
      "text/plain": [
       "count   3743611.00000\n",
       "mean          0.71565\n",
       "std           1.21684\n",
       "min           0.00000\n",
       "25%           0.00000\n",
       "50%           1.00000\n",
       "75%           1.00000\n",
       "max          82.00000\n",
       "Name: university, dtype: float64"
      ]
     },
     "execution_count": 35,
     "metadata": {},
     "output_type": "execute_result"
    }
   ],
   "source": [
    "university_after_school.describe()"
   ]
  },
  {
   "cell_type": "code",
   "execution_count": 36,
   "metadata": {},
   "outputs": [
    {
     "data": {
      "text/plain": [
       "school\n",
       "189635454.00000    82\n",
       "487308878.00000    82\n",
       "Name: university, dtype: int64"
      ]
     },
     "execution_count": 36,
     "metadata": {},
     "output_type": "execute_result"
    }
   ],
   "source": [
    "university_after_school[university_after_school == university_after_school.max()]"
   ]
  },
  {
   "cell_type": "markdown",
   "metadata": {},
   "source": [
    "Супер-школы"
   ]
  },
  {
   "cell_type": "code",
   "execution_count": null,
   "metadata": {},
   "outputs": [],
   "source": []
  }
 ],
 "metadata": {
  "kernelspec": {
   "display_name": "Python 3 (ipykernel)",
   "language": "python",
   "name": "python3"
  },
  "language_info": {
   "codemirror_mode": {
    "name": "ipython",
    "version": 3
   },
   "file_extension": ".py",
   "mimetype": "text/x-python",
   "name": "python",
   "nbconvert_exporter": "python",
   "pygments_lexer": "ipython3",
   "version": "3.8.16"
  }
 },
 "nbformat": 4,
 "nbformat_minor": 2
}
