{
 "cells": [
  {
   "cell_type": "code",
   "execution_count": 1,
   "metadata": {},
   "outputs": [],
   "source": [
    "import numpy as np\n",
    "import pandas as pd\n",
    "import matplotlib.pyplot as plt\n",
    "import seaborn as sns\n",
    "import pickle\n",
    "\n",
    "from tqdm import tqdm\n",
    "from sklearn.metrics import mean_squared_error\n",
    "from lightgbm import LGBMRegressor\n",
    "from catboost import CatBoostRegressor"
   ]
  },
  {
   "cell_type": "code",
   "execution_count": 2,
   "metadata": {},
   "outputs": [],
   "source": [
    "DATA_PATH = 'data/train.csv'\n",
    "ATTRS_PATH = 'data/attr.csv'\n",
    "RANDOM_STATE = 42\n",
    "CHUNKSIZE = 1000000"
   ]
  },
  {
   "cell_type": "code",
   "execution_count": 3,
   "metadata": {},
   "outputs": [],
   "source": [
    "sns.set()\n",
    "tqdm.pandas()"
   ]
  },
  {
   "cell_type": "code",
   "execution_count": 4,
   "metadata": {},
   "outputs": [],
   "source": [
    "attrs = pd.read_csv(ATTRS_PATH)"
   ]
  },
  {
   "cell_type": "code",
   "execution_count": 5,
   "metadata": {},
   "outputs": [],
   "source": [
    "lgbm = LGBMRegressor(random_state=RANDOM_STATE, max_depth=10, n_estimators=30)\n",
    "cb_reg_1 = CatBoostRegressor(random_seed=13, verbose=200)\n",
    "\n",
    "results = pd.DataFrame()"
   ]
  },
  {
   "cell_type": "code",
   "execution_count": 6,
   "metadata": {},
   "outputs": [
    {
     "name": "stdout",
     "output_type": "stream",
     "text": [
      "start learning...\n",
      "chunk 1\n",
      "joined_u\n",
      "joined_v\n",
      "start training...\n"
     ]
    },
    {
     "name": "stderr",
     "output_type": "stream",
     "text": [
      "/Users/sl_ai/anaconda3/envs/hack/lib/python3.8/site-packages/catboost/core.py:1411: FutureWarning: iteritems is deprecated and will be removed in a future version. Use .items instead.\n",
      "  self._init_pool(data, label, cat_features, text_features, embedding_features, embedding_features_data, pairs, weight,\n"
     ]
    },
    {
     "name": "stdout",
     "output_type": "stream",
     "text": [
      "Learning rate set to 0.121949\n",
      "0:\tlearn: 1.1605399\ttotal: 91.7ms\tremaining: 1m 31s\n",
      "200:\tlearn: 0.7045984\ttotal: 6.15s\tremaining: 24.5s\n",
      "400:\tlearn: 0.6927665\ttotal: 12.3s\tremaining: 18.3s\n",
      "600:\tlearn: 0.6847063\ttotal: 18.3s\tremaining: 12.2s\n",
      "800:\tlearn: 0.6784068\ttotal: 24.6s\tremaining: 6.12s\n",
      "999:\tlearn: 0.6728404\ttotal: 30.7s\tremaining: 0us\n",
      "saving...\n",
      "chunk 1 done\n",
      "chunk 2\n",
      "joined_u\n",
      "joined_v\n",
      "start training...\n"
     ]
    },
    {
     "name": "stderr",
     "output_type": "stream",
     "text": [
      "/Users/sl_ai/anaconda3/envs/hack/lib/python3.8/site-packages/catboost/core.py:1411: FutureWarning: iteritems is deprecated and will be removed in a future version. Use .items instead.\n",
      "  self._init_pool(data, label, cat_features, text_features, embedding_features, embedding_features_data, pairs, weight,\n"
     ]
    },
    {
     "name": "stdout",
     "output_type": "stream",
     "text": [
      "Learning rate set to 0.121949\n",
      "0:\tlearn: 1.2754342\ttotal: 39.4ms\tremaining: 39.4s\n",
      "200:\tlearn: 0.7675441\ttotal: 6.07s\tremaining: 24.1s\n",
      "400:\tlearn: 0.7564643\ttotal: 12.1s\tremaining: 18s\n",
      "600:\tlearn: 0.7486069\ttotal: 18.2s\tremaining: 12.1s\n",
      "800:\tlearn: 0.7426898\ttotal: 24.4s\tremaining: 6.05s\n",
      "999:\tlearn: 0.7375221\ttotal: 30.4s\tremaining: 0us\n",
      "saving...\n",
      "chunk 2 done\n",
      "chunk 3\n",
      "joined_u\n",
      "joined_v\n",
      "start training...\n"
     ]
    },
    {
     "name": "stderr",
     "output_type": "stream",
     "text": [
      "/Users/sl_ai/anaconda3/envs/hack/lib/python3.8/site-packages/catboost/core.py:1411: FutureWarning: iteritems is deprecated and will be removed in a future version. Use .items instead.\n",
      "  self._init_pool(data, label, cat_features, text_features, embedding_features, embedding_features_data, pairs, weight,\n"
     ]
    },
    {
     "name": "stdout",
     "output_type": "stream",
     "text": [
      "Learning rate set to 0.121949\n",
      "0:\tlearn: 1.2985674\ttotal: 50.7ms\tremaining: 50.7s\n",
      "200:\tlearn: 0.7641864\ttotal: 5.9s\tremaining: 23.5s\n",
      "400:\tlearn: 0.7539109\ttotal: 11.8s\tremaining: 17.6s\n",
      "600:\tlearn: 0.7464401\ttotal: 17.6s\tremaining: 11.7s\n",
      "800:\tlearn: 0.7400773\ttotal: 23.5s\tremaining: 5.85s\n",
      "999:\tlearn: 0.7347130\ttotal: 29.4s\tremaining: 0us\n",
      "saving...\n",
      "chunk 3 done\n",
      "chunk 4\n",
      "joined_u\n",
      "joined_v\n",
      "start training...\n"
     ]
    },
    {
     "name": "stderr",
     "output_type": "stream",
     "text": [
      "/Users/sl_ai/anaconda3/envs/hack/lib/python3.8/site-packages/catboost/core.py:1411: FutureWarning: iteritems is deprecated and will be removed in a future version. Use .items instead.\n",
      "  self._init_pool(data, label, cat_features, text_features, embedding_features, embedding_features_data, pairs, weight,\n"
     ]
    },
    {
     "name": "stdout",
     "output_type": "stream",
     "text": [
      "Learning rate set to 0.121949\n",
      "0:\tlearn: 1.2523171\ttotal: 44.8ms\tremaining: 44.8s\n",
      "200:\tlearn: 0.7513107\ttotal: 5.93s\tremaining: 23.6s\n",
      "400:\tlearn: 0.7402435\ttotal: 12.1s\tremaining: 18.1s\n",
      "600:\tlearn: 0.7325519\ttotal: 18.2s\tremaining: 12.1s\n",
      "800:\tlearn: 0.7264583\ttotal: 24.4s\tremaining: 6.05s\n",
      "999:\tlearn: 0.7212530\ttotal: 30.5s\tremaining: 0us\n",
      "saving...\n",
      "chunk 4 done\n",
      "chunk 5\n",
      "joined_u\n",
      "joined_v\n",
      "start training...\n"
     ]
    },
    {
     "name": "stderr",
     "output_type": "stream",
     "text": [
      "/Users/sl_ai/anaconda3/envs/hack/lib/python3.8/site-packages/catboost/core.py:1411: FutureWarning: iteritems is deprecated and will be removed in a future version. Use .items instead.\n",
      "  self._init_pool(data, label, cat_features, text_features, embedding_features, embedding_features_data, pairs, weight,\n"
     ]
    },
    {
     "name": "stdout",
     "output_type": "stream",
     "text": [
      "Learning rate set to 0.121949\n",
      "0:\tlearn: 1.2766605\ttotal: 50.8ms\tremaining: 50.8s\n",
      "200:\tlearn: 0.7678760\ttotal: 6.1s\tremaining: 24.3s\n",
      "400:\tlearn: 0.7571604\ttotal: 12.2s\tremaining: 18.2s\n",
      "600:\tlearn: 0.7492921\ttotal: 18.2s\tremaining: 12.1s\n",
      "800:\tlearn: 0.7431660\ttotal: 24.3s\tremaining: 6.03s\n",
      "999:\tlearn: 0.7377302\ttotal: 30.3s\tremaining: 0us\n",
      "saving...\n",
      "chunk 5 done\n",
      "chunk 6\n",
      "joined_u\n",
      "joined_v\n",
      "start training...\n"
     ]
    },
    {
     "name": "stderr",
     "output_type": "stream",
     "text": [
      "/Users/sl_ai/anaconda3/envs/hack/lib/python3.8/site-packages/catboost/core.py:1411: FutureWarning: iteritems is deprecated and will be removed in a future version. Use .items instead.\n",
      "  self._init_pool(data, label, cat_features, text_features, embedding_features, embedding_features_data, pairs, weight,\n"
     ]
    },
    {
     "name": "stdout",
     "output_type": "stream",
     "text": [
      "Learning rate set to 0.121949\n",
      "0:\tlearn: 1.2966321\ttotal: 51.3ms\tremaining: 51.2s\n",
      "200:\tlearn: 0.7563433\ttotal: 6.01s\tremaining: 23.9s\n",
      "400:\tlearn: 0.7456610\ttotal: 12s\tremaining: 17.9s\n",
      "600:\tlearn: 0.7383381\ttotal: 18s\tremaining: 11.9s\n",
      "800:\tlearn: 0.7324693\ttotal: 24s\tremaining: 5.95s\n",
      "999:\tlearn: 0.7273668\ttotal: 29.9s\tremaining: 0us\n",
      "saving...\n",
      "chunk 6 done\n",
      "chunk 7\n",
      "joined_u\n",
      "joined_v\n",
      "start training...\n"
     ]
    },
    {
     "name": "stderr",
     "output_type": "stream",
     "text": [
      "/Users/sl_ai/anaconda3/envs/hack/lib/python3.8/site-packages/catboost/core.py:1411: FutureWarning: iteritems is deprecated and will be removed in a future version. Use .items instead.\n",
      "  self._init_pool(data, label, cat_features, text_features, embedding_features, embedding_features_data, pairs, weight,\n"
     ]
    },
    {
     "name": "stdout",
     "output_type": "stream",
     "text": [
      "Learning rate set to 0.121949\n",
      "0:\tlearn: 1.2414106\ttotal: 40ms\tremaining: 39.9s\n",
      "200:\tlearn: 0.7553765\ttotal: 6.05s\tremaining: 24.1s\n",
      "400:\tlearn: 0.7451969\ttotal: 12.2s\tremaining: 18.2s\n",
      "600:\tlearn: 0.7374944\ttotal: 18.4s\tremaining: 12.2s\n",
      "800:\tlearn: 0.7312401\ttotal: 24.5s\tremaining: 6.09s\n",
      "999:\tlearn: 0.7259938\ttotal: 30.5s\tremaining: 0us\n",
      "saving...\n",
      "chunk 7 done\n",
      "chunk 8\n",
      "joined_u\n",
      "joined_v\n",
      "start training...\n"
     ]
    },
    {
     "name": "stderr",
     "output_type": "stream",
     "text": [
      "/Users/sl_ai/anaconda3/envs/hack/lib/python3.8/site-packages/catboost/core.py:1411: FutureWarning: iteritems is deprecated and will be removed in a future version. Use .items instead.\n",
      "  self._init_pool(data, label, cat_features, text_features, embedding_features, embedding_features_data, pairs, weight,\n"
     ]
    },
    {
     "name": "stdout",
     "output_type": "stream",
     "text": [
      "Learning rate set to 0.121949\n",
      "0:\tlearn: 1.2444823\ttotal: 52.3ms\tremaining: 52.2s\n",
      "200:\tlearn: 0.7561260\ttotal: 6.01s\tremaining: 23.9s\n",
      "400:\tlearn: 0.7456249\ttotal: 12.1s\tremaining: 18.1s\n",
      "600:\tlearn: 0.7385962\ttotal: 18.1s\tremaining: 12s\n",
      "800:\tlearn: 0.7323043\ttotal: 24s\tremaining: 5.96s\n",
      "999:\tlearn: 0.7271597\ttotal: 30.1s\tremaining: 0us\n",
      "saving...\n",
      "chunk 8 done\n",
      "chunk 9\n",
      "joined_u\n",
      "joined_v\n",
      "start training...\n"
     ]
    },
    {
     "name": "stderr",
     "output_type": "stream",
     "text": [
      "/Users/sl_ai/anaconda3/envs/hack/lib/python3.8/site-packages/catboost/core.py:1411: FutureWarning: iteritems is deprecated and will be removed in a future version. Use .items instead.\n",
      "  self._init_pool(data, label, cat_features, text_features, embedding_features, embedding_features_data, pairs, weight,\n"
     ]
    },
    {
     "name": "stdout",
     "output_type": "stream",
     "text": [
      "Learning rate set to 0.121949\n",
      "0:\tlearn: 1.2962858\ttotal: 43.9ms\tremaining: 43.8s\n",
      "200:\tlearn: 0.7557730\ttotal: 5.86s\tremaining: 23.3s\n",
      "400:\tlearn: 0.7455685\ttotal: 11.7s\tremaining: 17.4s\n",
      "600:\tlearn: 0.7378364\ttotal: 17.5s\tremaining: 11.6s\n",
      "800:\tlearn: 0.7318022\ttotal: 23.3s\tremaining: 5.79s\n",
      "999:\tlearn: 0.7262497\ttotal: 29.2s\tremaining: 0us\n",
      "saving...\n",
      "chunk 9 done\n",
      "chunk 10\n",
      "joined_u\n",
      "joined_v\n",
      "start training...\n"
     ]
    },
    {
     "name": "stderr",
     "output_type": "stream",
     "text": [
      "/Users/sl_ai/anaconda3/envs/hack/lib/python3.8/site-packages/catboost/core.py:1411: FutureWarning: iteritems is deprecated and will be removed in a future version. Use .items instead.\n",
      "  self._init_pool(data, label, cat_features, text_features, embedding_features, embedding_features_data, pairs, weight,\n"
     ]
    },
    {
     "name": "stdout",
     "output_type": "stream",
     "text": [
      "Learning rate set to 0.121949\n",
      "0:\tlearn: 1.1995924\ttotal: 43.2ms\tremaining: 43.2s\n",
      "200:\tlearn: 0.7391823\ttotal: 6.17s\tremaining: 24.5s\n",
      "400:\tlearn: 0.7277490\ttotal: 12.2s\tremaining: 18.2s\n",
      "600:\tlearn: 0.7199442\ttotal: 18.2s\tremaining: 12.1s\n",
      "800:\tlearn: 0.7139175\ttotal: 24.3s\tremaining: 6.03s\n",
      "999:\tlearn: 0.7083926\ttotal: 30.2s\tremaining: 0us\n",
      "saving...\n",
      "chunk 10 done\n",
      "chunk 11\n",
      "joined_u\n",
      "joined_v\n",
      "start training...\n"
     ]
    },
    {
     "name": "stderr",
     "output_type": "stream",
     "text": [
      "/Users/sl_ai/anaconda3/envs/hack/lib/python3.8/site-packages/catboost/core.py:1411: FutureWarning: iteritems is deprecated and will be removed in a future version. Use .items instead.\n",
      "  self._init_pool(data, label, cat_features, text_features, embedding_features, embedding_features_data, pairs, weight,\n"
     ]
    },
    {
     "name": "stdout",
     "output_type": "stream",
     "text": [
      "Learning rate set to 0.121949\n",
      "0:\tlearn: 1.3121228\ttotal: 47.6ms\tremaining: 47.5s\n",
      "200:\tlearn: 0.7711793\ttotal: 6.18s\tremaining: 24.6s\n",
      "400:\tlearn: 0.7603042\ttotal: 12.3s\tremaining: 18.3s\n",
      "600:\tlearn: 0.7526766\ttotal: 18.5s\tremaining: 12.3s\n",
      "800:\tlearn: 0.7461770\ttotal: 24.6s\tremaining: 6.12s\n",
      "999:\tlearn: 0.7408106\ttotal: 30.8s\tremaining: 0us\n",
      "saving...\n",
      "chunk 11 done\n",
      "chunk 12\n",
      "joined_u\n",
      "joined_v\n",
      "start training...\n"
     ]
    },
    {
     "name": "stderr",
     "output_type": "stream",
     "text": [
      "/Users/sl_ai/anaconda3/envs/hack/lib/python3.8/site-packages/catboost/core.py:1411: FutureWarning: iteritems is deprecated and will be removed in a future version. Use .items instead.\n",
      "  self._init_pool(data, label, cat_features, text_features, embedding_features, embedding_features_data, pairs, weight,\n"
     ]
    },
    {
     "name": "stdout",
     "output_type": "stream",
     "text": [
      "Learning rate set to 0.121949\n",
      "0:\tlearn: 1.2181293\ttotal: 42ms\tremaining: 42s\n",
      "200:\tlearn: 0.7382285\ttotal: 6.19s\tremaining: 24.6s\n",
      "400:\tlearn: 0.7277681\ttotal: 12.1s\tremaining: 18s\n",
      "600:\tlearn: 0.7203393\ttotal: 17.9s\tremaining: 11.9s\n",
      "800:\tlearn: 0.7144635\ttotal: 23.5s\tremaining: 5.83s\n",
      "999:\tlearn: 0.7092093\ttotal: 29.4s\tremaining: 0us\n",
      "saving...\n",
      "chunk 12 done\n",
      "chunk 13\n",
      "joined_u\n",
      "joined_v\n",
      "start training...\n"
     ]
    },
    {
     "name": "stderr",
     "output_type": "stream",
     "text": [
      "/Users/sl_ai/anaconda3/envs/hack/lib/python3.8/site-packages/catboost/core.py:1411: FutureWarning: iteritems is deprecated and will be removed in a future version. Use .items instead.\n",
      "  self._init_pool(data, label, cat_features, text_features, embedding_features, embedding_features_data, pairs, weight,\n"
     ]
    },
    {
     "name": "stdout",
     "output_type": "stream",
     "text": [
      "Learning rate set to 0.121949\n",
      "0:\tlearn: 1.2660375\ttotal: 44.8ms\tremaining: 44.8s\n",
      "200:\tlearn: 0.7606933\ttotal: 6.03s\tremaining: 24s\n",
      "400:\tlearn: 0.7496464\ttotal: 12.2s\tremaining: 18.2s\n",
      "600:\tlearn: 0.7415393\ttotal: 18.2s\tremaining: 12.1s\n",
      "800:\tlearn: 0.7351212\ttotal: 24.3s\tremaining: 6.03s\n",
      "999:\tlearn: 0.7297437\ttotal: 30.2s\tremaining: 0us\n",
      "saving...\n",
      "chunk 13 done\n",
      "chunk 14\n",
      "joined_u\n",
      "joined_v\n",
      "start training...\n"
     ]
    },
    {
     "name": "stderr",
     "output_type": "stream",
     "text": [
      "/Users/sl_ai/anaconda3/envs/hack/lib/python3.8/site-packages/catboost/core.py:1411: FutureWarning: iteritems is deprecated and will be removed in a future version. Use .items instead.\n",
      "  self._init_pool(data, label, cat_features, text_features, embedding_features, embedding_features_data, pairs, weight,\n"
     ]
    },
    {
     "name": "stdout",
     "output_type": "stream",
     "text": [
      "Learning rate set to 0.121949\n",
      "0:\tlearn: 1.2686300\ttotal: 47.7ms\tremaining: 47.7s\n",
      "200:\tlearn: 0.7346334\ttotal: 5.89s\tremaining: 23.4s\n",
      "400:\tlearn: 0.7234647\ttotal: 11.7s\tremaining: 17.4s\n",
      "600:\tlearn: 0.7161948\ttotal: 17.5s\tremaining: 11.6s\n",
      "800:\tlearn: 0.7104514\ttotal: 23.4s\tremaining: 5.81s\n",
      "999:\tlearn: 0.7055413\ttotal: 29.2s\tremaining: 0us\n",
      "saving...\n",
      "chunk 14 done\n",
      "chunk 15\n",
      "joined_u\n",
      "joined_v\n",
      "start training...\n"
     ]
    },
    {
     "name": "stderr",
     "output_type": "stream",
     "text": [
      "/Users/sl_ai/anaconda3/envs/hack/lib/python3.8/site-packages/catboost/core.py:1411: FutureWarning: iteritems is deprecated and will be removed in a future version. Use .items instead.\n",
      "  self._init_pool(data, label, cat_features, text_features, embedding_features, embedding_features_data, pairs, weight,\n"
     ]
    },
    {
     "name": "stdout",
     "output_type": "stream",
     "text": [
      "Learning rate set to 0.121949\n",
      "0:\tlearn: 1.2521450\ttotal: 41.1ms\tremaining: 41s\n",
      "200:\tlearn: 0.7644448\ttotal: 6.15s\tremaining: 24.4s\n",
      "400:\tlearn: 0.7543999\ttotal: 12.1s\tremaining: 18.1s\n",
      "600:\tlearn: 0.7466740\ttotal: 18.3s\tremaining: 12.1s\n",
      "800:\tlearn: 0.7405075\ttotal: 24.3s\tremaining: 6.04s\n",
      "999:\tlearn: 0.7352646\ttotal: 30.3s\tremaining: 0us\n",
      "saving...\n",
      "chunk 15 done\n",
      "chunk 16\n",
      "joined_u\n",
      "joined_v\n",
      "start training...\n"
     ]
    },
    {
     "name": "stderr",
     "output_type": "stream",
     "text": [
      "/Users/sl_ai/anaconda3/envs/hack/lib/python3.8/site-packages/catboost/core.py:1411: FutureWarning: iteritems is deprecated and will be removed in a future version. Use .items instead.\n",
      "  self._init_pool(data, label, cat_features, text_features, embedding_features, embedding_features_data, pairs, weight,\n"
     ]
    },
    {
     "name": "stdout",
     "output_type": "stream",
     "text": [
      "Learning rate set to 0.121949\n",
      "0:\tlearn: 1.2614252\ttotal: 49.1ms\tremaining: 49.1s\n",
      "200:\tlearn: 0.7438263\ttotal: 5.95s\tremaining: 23.6s\n",
      "400:\tlearn: 0.7338025\ttotal: 11.9s\tremaining: 17.7s\n",
      "600:\tlearn: 0.7263903\ttotal: 17.9s\tremaining: 11.9s\n",
      "800:\tlearn: 0.7204588\ttotal: 24s\tremaining: 5.95s\n",
      "999:\tlearn: 0.7156489\ttotal: 30.1s\tremaining: 0us\n",
      "saving...\n",
      "chunk 16 done\n",
      "chunk 17\n",
      "joined_u\n",
      "joined_v\n",
      "start training...\n"
     ]
    },
    {
     "name": "stderr",
     "output_type": "stream",
     "text": [
      "/Users/sl_ai/anaconda3/envs/hack/lib/python3.8/site-packages/catboost/core.py:1411: FutureWarning: iteritems is deprecated and will be removed in a future version. Use .items instead.\n",
      "  self._init_pool(data, label, cat_features, text_features, embedding_features, embedding_features_data, pairs, weight,\n"
     ]
    },
    {
     "name": "stdout",
     "output_type": "stream",
     "text": [
      "Learning rate set to 0.121949\n",
      "0:\tlearn: 1.2161303\ttotal: 41ms\tremaining: 40.9s\n",
      "200:\tlearn: 0.7473060\ttotal: 6.1s\tremaining: 24.3s\n",
      "400:\tlearn: 0.7362666\ttotal: 12.2s\tremaining: 18.2s\n",
      "600:\tlearn: 0.7287795\ttotal: 18.2s\tremaining: 12.1s\n",
      "800:\tlearn: 0.7225030\ttotal: 24.4s\tremaining: 6.05s\n",
      "999:\tlearn: 0.7171656\ttotal: 30.6s\tremaining: 0us\n",
      "saving...\n",
      "chunk 17 done\n",
      "chunk 18\n",
      "joined_u\n",
      "joined_v\n",
      "start training...\n"
     ]
    },
    {
     "name": "stderr",
     "output_type": "stream",
     "text": [
      "/Users/sl_ai/anaconda3/envs/hack/lib/python3.8/site-packages/catboost/core.py:1411: FutureWarning: iteritems is deprecated and will be removed in a future version. Use .items instead.\n",
      "  self._init_pool(data, label, cat_features, text_features, embedding_features, embedding_features_data, pairs, weight,\n"
     ]
    },
    {
     "name": "stdout",
     "output_type": "stream",
     "text": [
      "Learning rate set to 0.121949\n",
      "0:\tlearn: 1.2767865\ttotal: 38.1ms\tremaining: 38.1s\n",
      "200:\tlearn: 0.7649568\ttotal: 6s\tremaining: 23.8s\n",
      "400:\tlearn: 0.7539715\ttotal: 12.1s\tremaining: 18s\n",
      "600:\tlearn: 0.7461446\ttotal: 18s\tremaining: 12s\n",
      "800:\tlearn: 0.7397557\ttotal: 24.1s\tremaining: 5.98s\n",
      "999:\tlearn: 0.7345406\ttotal: 29.9s\tremaining: 0us\n",
      "saving...\n",
      "chunk 18 done\n",
      "chunk 19\n",
      "joined_u\n",
      "joined_v\n",
      "start training...\n"
     ]
    },
    {
     "name": "stderr",
     "output_type": "stream",
     "text": [
      "/Users/sl_ai/anaconda3/envs/hack/lib/python3.8/site-packages/catboost/core.py:1411: FutureWarning: iteritems is deprecated and will be removed in a future version. Use .items instead.\n",
      "  self._init_pool(data, label, cat_features, text_features, embedding_features, embedding_features_data, pairs, weight,\n"
     ]
    },
    {
     "name": "stdout",
     "output_type": "stream",
     "text": [
      "Learning rate set to 0.121949\n",
      "0:\tlearn: 1.2622095\ttotal: 39.5ms\tremaining: 39.4s\n",
      "200:\tlearn: 0.7515890\ttotal: 6.04s\tremaining: 24s\n",
      "400:\tlearn: 0.7413672\ttotal: 11.9s\tremaining: 17.7s\n",
      "600:\tlearn: 0.7339693\ttotal: 17.6s\tremaining: 11.7s\n",
      "800:\tlearn: 0.7282060\ttotal: 23.4s\tremaining: 5.82s\n",
      "999:\tlearn: 0.7232409\ttotal: 29s\tremaining: 0us\n",
      "saving...\n",
      "chunk 19 done\n",
      "chunk 20\n",
      "joined_u\n",
      "joined_v\n",
      "start training...\n"
     ]
    },
    {
     "name": "stderr",
     "output_type": "stream",
     "text": [
      "/Users/sl_ai/anaconda3/envs/hack/lib/python3.8/site-packages/catboost/core.py:1411: FutureWarning: iteritems is deprecated and will be removed in a future version. Use .items instead.\n",
      "  self._init_pool(data, label, cat_features, text_features, embedding_features, embedding_features_data, pairs, weight,\n"
     ]
    },
    {
     "name": "stdout",
     "output_type": "stream",
     "text": [
      "Learning rate set to 0.121949\n",
      "0:\tlearn: 1.2419978\ttotal: 49.2ms\tremaining: 49.1s\n",
      "200:\tlearn: 0.7567748\ttotal: 6.02s\tremaining: 23.9s\n",
      "400:\tlearn: 0.7457619\ttotal: 11.8s\tremaining: 17.6s\n",
      "600:\tlearn: 0.7383033\ttotal: 17.9s\tremaining: 11.9s\n",
      "800:\tlearn: 0.7315033\ttotal: 23.7s\tremaining: 5.9s\n",
      "999:\tlearn: 0.7261068\ttotal: 29.7s\tremaining: 0us\n",
      "saving...\n",
      "chunk 20 done\n",
      "chunk 21\n",
      "joined_u\n",
      "joined_v\n",
      "start training...\n"
     ]
    },
    {
     "name": "stderr",
     "output_type": "stream",
     "text": [
      "/Users/sl_ai/anaconda3/envs/hack/lib/python3.8/site-packages/catboost/core.py:1411: FutureWarning: iteritems is deprecated and will be removed in a future version. Use .items instead.\n",
      "  self._init_pool(data, label, cat_features, text_features, embedding_features, embedding_features_data, pairs, weight,\n"
     ]
    },
    {
     "name": "stdout",
     "output_type": "stream",
     "text": [
      "Learning rate set to 0.121949\n",
      "0:\tlearn: 1.2959672\ttotal: 40.4ms\tremaining: 40.4s\n",
      "200:\tlearn: 0.7731911\ttotal: 6.05s\tremaining: 24s\n",
      "400:\tlearn: 0.7632233\ttotal: 12.1s\tremaining: 18.1s\n",
      "600:\tlearn: 0.7557240\ttotal: 18.2s\tremaining: 12.1s\n",
      "800:\tlearn: 0.7492804\ttotal: 24.2s\tremaining: 6.02s\n",
      "999:\tlearn: 0.7440248\ttotal: 30.3s\tremaining: 0us\n",
      "saving...\n",
      "chunk 21 done\n",
      "chunk 22\n",
      "joined_u\n",
      "joined_v\n",
      "start training...\n"
     ]
    },
    {
     "name": "stderr",
     "output_type": "stream",
     "text": [
      "/Users/sl_ai/anaconda3/envs/hack/lib/python3.8/site-packages/catboost/core.py:1411: FutureWarning: iteritems is deprecated and will be removed in a future version. Use .items instead.\n",
      "  self._init_pool(data, label, cat_features, text_features, embedding_features, embedding_features_data, pairs, weight,\n"
     ]
    },
    {
     "name": "stdout",
     "output_type": "stream",
     "text": [
      "Learning rate set to 0.121949\n",
      "0:\tlearn: 1.1966292\ttotal: 46.5ms\tremaining: 46.5s\n",
      "200:\tlearn: 0.7329870\ttotal: 5.71s\tremaining: 22.7s\n",
      "400:\tlearn: 0.7232633\ttotal: 11.6s\tremaining: 17.3s\n",
      "600:\tlearn: 0.7162658\ttotal: 17.4s\tremaining: 11.5s\n",
      "800:\tlearn: 0.7103693\ttotal: 23.1s\tremaining: 5.75s\n",
      "999:\tlearn: 0.7053563\ttotal: 29s\tremaining: 0us\n",
      "saving...\n",
      "chunk 22 done\n",
      "chunk 23\n",
      "joined_u\n",
      "joined_v\n",
      "start training...\n"
     ]
    },
    {
     "name": "stderr",
     "output_type": "stream",
     "text": [
      "/Users/sl_ai/anaconda3/envs/hack/lib/python3.8/site-packages/catboost/core.py:1411: FutureWarning: iteritems is deprecated and will be removed in a future version. Use .items instead.\n",
      "  self._init_pool(data, label, cat_features, text_features, embedding_features, embedding_features_data, pairs, weight,\n"
     ]
    },
    {
     "name": "stdout",
     "output_type": "stream",
     "text": [
      "Learning rate set to 0.121949\n",
      "0:\tlearn: 1.2813019\ttotal: 43.5ms\tremaining: 43.4s\n",
      "200:\tlearn: 0.7457353\ttotal: 6.01s\tremaining: 23.9s\n",
      "400:\tlearn: 0.7345544\ttotal: 12.1s\tremaining: 18.1s\n",
      "600:\tlearn: 0.7272372\ttotal: 17.9s\tremaining: 11.9s\n",
      "800:\tlearn: 0.7211226\ttotal: 23.9s\tremaining: 5.93s\n",
      "999:\tlearn: 0.7161292\ttotal: 29.9s\tremaining: 0us\n",
      "saving...\n",
      "chunk 23 done\n",
      "chunk 24\n",
      "joined_u\n",
      "joined_v\n",
      "start training...\n"
     ]
    },
    {
     "name": "stderr",
     "output_type": "stream",
     "text": [
      "/Users/sl_ai/anaconda3/envs/hack/lib/python3.8/site-packages/catboost/core.py:1411: FutureWarning: iteritems is deprecated and will be removed in a future version. Use .items instead.\n",
      "  self._init_pool(data, label, cat_features, text_features, embedding_features, embedding_features_data, pairs, weight,\n"
     ]
    },
    {
     "name": "stdout",
     "output_type": "stream",
     "text": [
      "Learning rate set to 0.121949\n",
      "0:\tlearn: 1.2595777\ttotal: 41.3ms\tremaining: 41.3s\n",
      "200:\tlearn: 0.7399304\ttotal: 5.79s\tremaining: 23s\n",
      "400:\tlearn: 0.7292847\ttotal: 11.7s\tremaining: 17.4s\n",
      "600:\tlearn: 0.7214989\ttotal: 17.5s\tremaining: 11.6s\n",
      "800:\tlearn: 0.7151164\ttotal: 23.4s\tremaining: 5.8s\n",
      "999:\tlearn: 0.7099606\ttotal: 29.3s\tremaining: 0us\n",
      "saving...\n",
      "chunk 24 done\n",
      "chunk 25\n",
      "joined_u\n",
      "joined_v\n",
      "start training...\n"
     ]
    },
    {
     "name": "stderr",
     "output_type": "stream",
     "text": [
      "/Users/sl_ai/anaconda3/envs/hack/lib/python3.8/site-packages/catboost/core.py:1411: FutureWarning: iteritems is deprecated and will be removed in a future version. Use .items instead.\n",
      "  self._init_pool(data, label, cat_features, text_features, embedding_features, embedding_features_data, pairs, weight,\n"
     ]
    },
    {
     "name": "stdout",
     "output_type": "stream",
     "text": [
      "Learning rate set to 0.121949\n",
      "0:\tlearn: 1.2642634\ttotal: 42.4ms\tremaining: 42.3s\n",
      "200:\tlearn: 0.7835954\ttotal: 6.31s\tremaining: 25.1s\n",
      "400:\tlearn: 0.7719374\ttotal: 12.3s\tremaining: 18.4s\n",
      "600:\tlearn: 0.7637470\ttotal: 18.4s\tremaining: 12.2s\n",
      "800:\tlearn: 0.7570330\ttotal: 24.3s\tremaining: 6.03s\n",
      "999:\tlearn: 0.7506905\ttotal: 30.1s\tremaining: 0us\n",
      "saving...\n",
      "chunk 25 done\n",
      "chunk 26\n",
      "joined_u\n",
      "joined_v\n",
      "start training...\n"
     ]
    },
    {
     "name": "stderr",
     "output_type": "stream",
     "text": [
      "/Users/sl_ai/anaconda3/envs/hack/lib/python3.8/site-packages/catboost/core.py:1411: FutureWarning: iteritems is deprecated and will be removed in a future version. Use .items instead.\n",
      "  self._init_pool(data, label, cat_features, text_features, embedding_features, embedding_features_data, pairs, weight,\n"
     ]
    },
    {
     "name": "stdout",
     "output_type": "stream",
     "text": [
      "Learning rate set to 0.121949\n",
      "0:\tlearn: 1.2373927\ttotal: 43ms\tremaining: 43s\n",
      "200:\tlearn: 0.7378884\ttotal: 5.64s\tremaining: 22.4s\n",
      "400:\tlearn: 0.7272243\ttotal: 11.5s\tremaining: 17.1s\n",
      "600:\tlearn: 0.7195777\ttotal: 17.4s\tremaining: 11.5s\n",
      "800:\tlearn: 0.7132227\ttotal: 23.1s\tremaining: 5.74s\n",
      "999:\tlearn: 0.7078875\ttotal: 28.8s\tremaining: 0us\n",
      "saving...\n",
      "chunk 26 done\n",
      "chunk 27\n",
      "joined_u\n",
      "joined_v\n",
      "start training...\n"
     ]
    },
    {
     "name": "stderr",
     "output_type": "stream",
     "text": [
      "/Users/sl_ai/anaconda3/envs/hack/lib/python3.8/site-packages/catboost/core.py:1411: FutureWarning: iteritems is deprecated and will be removed in a future version. Use .items instead.\n",
      "  self._init_pool(data, label, cat_features, text_features, embedding_features, embedding_features_data, pairs, weight,\n"
     ]
    },
    {
     "name": "stdout",
     "output_type": "stream",
     "text": [
      "Learning rate set to 0.121949\n",
      "0:\tlearn: 1.2157483\ttotal: 49.2ms\tremaining: 49.1s\n",
      "200:\tlearn: 0.7361362\ttotal: 6s\tremaining: 23.8s\n",
      "400:\tlearn: 0.7257971\ttotal: 11.8s\tremaining: 17.7s\n",
      "600:\tlearn: 0.7186794\ttotal: 17.7s\tremaining: 11.8s\n",
      "800:\tlearn: 0.7127536\ttotal: 23.6s\tremaining: 5.85s\n",
      "999:\tlearn: 0.7075043\ttotal: 29.6s\tremaining: 0us\n",
      "saving...\n",
      "chunk 27 done\n",
      "chunk 28\n",
      "joined_u\n",
      "joined_v\n",
      "start training...\n"
     ]
    },
    {
     "name": "stderr",
     "output_type": "stream",
     "text": [
      "/Users/sl_ai/anaconda3/envs/hack/lib/python3.8/site-packages/catboost/core.py:1411: FutureWarning: iteritems is deprecated and will be removed in a future version. Use .items instead.\n",
      "  self._init_pool(data, label, cat_features, text_features, embedding_features, embedding_features_data, pairs, weight,\n"
     ]
    },
    {
     "name": "stdout",
     "output_type": "stream",
     "text": [
      "Learning rate set to 0.121949\n",
      "0:\tlearn: 1.2199417\ttotal: 42.9ms\tremaining: 42.8s\n",
      "200:\tlearn: 0.7426009\ttotal: 5.91s\tremaining: 23.5s\n",
      "400:\tlearn: 0.7314585\ttotal: 11.9s\tremaining: 17.8s\n",
      "600:\tlearn: 0.7242355\ttotal: 17.8s\tremaining: 11.8s\n",
      "800:\tlearn: 0.7179396\ttotal: 23.7s\tremaining: 5.88s\n",
      "999:\tlearn: 0.7122987\ttotal: 29.7s\tremaining: 0us\n",
      "saving...\n",
      "chunk 28 done\n",
      "chunk 29\n",
      "joined_u\n",
      "joined_v\n",
      "start training...\n"
     ]
    },
    {
     "name": "stderr",
     "output_type": "stream",
     "text": [
      "/Users/sl_ai/anaconda3/envs/hack/lib/python3.8/site-packages/catboost/core.py:1411: FutureWarning: iteritems is deprecated and will be removed in a future version. Use .items instead.\n",
      "  self._init_pool(data, label, cat_features, text_features, embedding_features, embedding_features_data, pairs, weight,\n"
     ]
    },
    {
     "name": "stdout",
     "output_type": "stream",
     "text": [
      "Learning rate set to 0.121949\n",
      "0:\tlearn: 1.2827357\ttotal: 41.9ms\tremaining: 41.9s\n",
      "200:\tlearn: 0.7615409\ttotal: 5.8s\tremaining: 23s\n",
      "400:\tlearn: 0.7516977\ttotal: 11.7s\tremaining: 17.5s\n",
      "600:\tlearn: 0.7435123\ttotal: 17.6s\tremaining: 11.7s\n",
      "800:\tlearn: 0.7368210\ttotal: 23.3s\tremaining: 5.78s\n",
      "999:\tlearn: 0.7312593\ttotal: 29s\tremaining: 0us\n",
      "saving...\n",
      "chunk 29 done\n",
      "chunk 30\n",
      "joined_u\n",
      "joined_v\n",
      "start training...\n"
     ]
    },
    {
     "name": "stderr",
     "output_type": "stream",
     "text": [
      "/Users/sl_ai/anaconda3/envs/hack/lib/python3.8/site-packages/catboost/core.py:1411: FutureWarning: iteritems is deprecated and will be removed in a future version. Use .items instead.\n",
      "  self._init_pool(data, label, cat_features, text_features, embedding_features, embedding_features_data, pairs, weight,\n"
     ]
    },
    {
     "name": "stdout",
     "output_type": "stream",
     "text": [
      "Learning rate set to 0.121949\n",
      "0:\tlearn: 1.2386942\ttotal: 41.1ms\tremaining: 41s\n",
      "200:\tlearn: 0.7734371\ttotal: 6.16s\tremaining: 24.5s\n",
      "400:\tlearn: 0.7623394\ttotal: 12.4s\tremaining: 18.5s\n",
      "600:\tlearn: 0.7546158\ttotal: 18.5s\tremaining: 12.3s\n",
      "800:\tlearn: 0.7484218\ttotal: 24.5s\tremaining: 6.1s\n",
      "999:\tlearn: 0.7427756\ttotal: 30.4s\tremaining: 0us\n",
      "saving...\n",
      "chunk 30 done\n",
      "chunk 31\n",
      "joined_u\n",
      "joined_v\n",
      "start training...\n"
     ]
    },
    {
     "name": "stderr",
     "output_type": "stream",
     "text": [
      "/Users/sl_ai/anaconda3/envs/hack/lib/python3.8/site-packages/catboost/core.py:1411: FutureWarning: iteritems is deprecated and will be removed in a future version. Use .items instead.\n",
      "  self._init_pool(data, label, cat_features, text_features, embedding_features, embedding_features_data, pairs, weight,\n"
     ]
    },
    {
     "name": "stdout",
     "output_type": "stream",
     "text": [
      "Learning rate set to 0.121949\n",
      "0:\tlearn: 1.2750185\ttotal: 43.4ms\tremaining: 43.4s\n",
      "200:\tlearn: 0.7685391\ttotal: 6.13s\tremaining: 24.4s\n",
      "400:\tlearn: 0.7582449\ttotal: 12s\tremaining: 18s\n",
      "600:\tlearn: 0.7508063\ttotal: 18.2s\tremaining: 12.1s\n",
      "800:\tlearn: 0.7448289\ttotal: 24.3s\tremaining: 6.03s\n",
      "999:\tlearn: 0.7394666\ttotal: 30.3s\tremaining: 0us\n",
      "saving...\n",
      "chunk 31 done\n",
      "chunk 32\n",
      "joined_u\n",
      "joined_v\n",
      "start training...\n"
     ]
    },
    {
     "name": "stderr",
     "output_type": "stream",
     "text": [
      "/Users/sl_ai/anaconda3/envs/hack/lib/python3.8/site-packages/catboost/core.py:1411: FutureWarning: iteritems is deprecated and will be removed in a future version. Use .items instead.\n",
      "  self._init_pool(data, label, cat_features, text_features, embedding_features, embedding_features_data, pairs, weight,\n"
     ]
    },
    {
     "name": "stdout",
     "output_type": "stream",
     "text": [
      "Learning rate set to 0.121949\n",
      "0:\tlearn: 1.2610771\ttotal: 47.9ms\tremaining: 47.8s\n",
      "200:\tlearn: 0.7612533\ttotal: 5.77s\tremaining: 22.9s\n",
      "400:\tlearn: 0.7501957\ttotal: 11.6s\tremaining: 17.3s\n",
      "600:\tlearn: 0.7423350\ttotal: 17.6s\tremaining: 11.7s\n",
      "800:\tlearn: 0.7360981\ttotal: 23.3s\tremaining: 5.79s\n",
      "999:\tlearn: 0.7306849\ttotal: 29s\tremaining: 0us\n",
      "saving...\n",
      "chunk 32 done\n",
      "chunk 33\n",
      "joined_u\n",
      "joined_v\n",
      "start training...\n"
     ]
    },
    {
     "name": "stderr",
     "output_type": "stream",
     "text": [
      "/Users/sl_ai/anaconda3/envs/hack/lib/python3.8/site-packages/catboost/core.py:1411: FutureWarning: iteritems is deprecated and will be removed in a future version. Use .items instead.\n",
      "  self._init_pool(data, label, cat_features, text_features, embedding_features, embedding_features_data, pairs, weight,\n"
     ]
    },
    {
     "name": "stdout",
     "output_type": "stream",
     "text": [
      "Learning rate set to 0.121949\n",
      "0:\tlearn: 1.2775623\ttotal: 42.8ms\tremaining: 42.7s\n",
      "200:\tlearn: 0.7813009\ttotal: 5.9s\tremaining: 23.5s\n",
      "400:\tlearn: 0.7705234\ttotal: 11.9s\tremaining: 17.8s\n",
      "600:\tlearn: 0.7627816\ttotal: 17.8s\tremaining: 11.8s\n",
      "800:\tlearn: 0.7561871\ttotal: 23.7s\tremaining: 5.89s\n",
      "999:\tlearn: 0.7508838\ttotal: 29.6s\tremaining: 0us\n",
      "saving...\n",
      "chunk 33 done\n",
      "chunk 34\n",
      "joined_u\n",
      "joined_v\n",
      "start training...\n"
     ]
    },
    {
     "name": "stderr",
     "output_type": "stream",
     "text": [
      "/Users/sl_ai/anaconda3/envs/hack/lib/python3.8/site-packages/catboost/core.py:1411: FutureWarning: iteritems is deprecated and will be removed in a future version. Use .items instead.\n",
      "  self._init_pool(data, label, cat_features, text_features, embedding_features, embedding_features_data, pairs, weight,\n"
     ]
    },
    {
     "name": "stdout",
     "output_type": "stream",
     "text": [
      "Learning rate set to 0.121949\n",
      "0:\tlearn: 1.2837886\ttotal: 51.9ms\tremaining: 51.8s\n",
      "200:\tlearn: 0.7648247\ttotal: 5.93s\tremaining: 23.6s\n",
      "400:\tlearn: 0.7534809\ttotal: 12.1s\tremaining: 18.1s\n",
      "600:\tlearn: 0.7454472\ttotal: 18.1s\tremaining: 12s\n",
      "800:\tlearn: 0.7391025\ttotal: 24.1s\tremaining: 5.98s\n",
      "999:\tlearn: 0.7337536\ttotal: 30.2s\tremaining: 0us\n",
      "saving...\n",
      "chunk 34 done\n",
      "chunk 35\n",
      "joined_u\n",
      "joined_v\n",
      "start training...\n"
     ]
    },
    {
     "name": "stderr",
     "output_type": "stream",
     "text": [
      "/Users/sl_ai/anaconda3/envs/hack/lib/python3.8/site-packages/catboost/core.py:1411: FutureWarning: iteritems is deprecated and will be removed in a future version. Use .items instead.\n",
      "  self._init_pool(data, label, cat_features, text_features, embedding_features, embedding_features_data, pairs, weight,\n"
     ]
    },
    {
     "name": "stdout",
     "output_type": "stream",
     "text": [
      "Learning rate set to 0.121949\n",
      "0:\tlearn: 1.2554737\ttotal: 44.9ms\tremaining: 44.8s\n",
      "200:\tlearn: 0.7503150\ttotal: 5.81s\tremaining: 23.1s\n",
      "400:\tlearn: 0.7395527\ttotal: 11.5s\tremaining: 17.3s\n",
      "600:\tlearn: 0.7321022\ttotal: 17.2s\tremaining: 11.4s\n",
      "800:\tlearn: 0.7259710\ttotal: 23s\tremaining: 5.72s\n",
      "999:\tlearn: 0.7206728\ttotal: 28.7s\tremaining: 0us\n",
      "saving...\n",
      "chunk 35 done\n",
      "chunk 36\n",
      "joined_u\n",
      "joined_v\n",
      "start training...\n"
     ]
    },
    {
     "name": "stderr",
     "output_type": "stream",
     "text": [
      "/Users/sl_ai/anaconda3/envs/hack/lib/python3.8/site-packages/catboost/core.py:1411: FutureWarning: iteritems is deprecated and will be removed in a future version. Use .items instead.\n",
      "  self._init_pool(data, label, cat_features, text_features, embedding_features, embedding_features_data, pairs, weight,\n"
     ]
    },
    {
     "name": "stdout",
     "output_type": "stream",
     "text": [
      "Learning rate set to 0.121949\n",
      "0:\tlearn: 1.2429329\ttotal: 39.3ms\tremaining: 39.3s\n",
      "200:\tlearn: 0.7334699\ttotal: 6.06s\tremaining: 24.1s\n",
      "400:\tlearn: 0.7235193\ttotal: 11.9s\tremaining: 17.8s\n",
      "600:\tlearn: 0.7161049\ttotal: 17.7s\tremaining: 11.8s\n",
      "800:\tlearn: 0.7101500\ttotal: 23.7s\tremaining: 5.9s\n",
      "999:\tlearn: 0.7049452\ttotal: 29.6s\tremaining: 0us\n",
      "saving...\n",
      "chunk 36 done\n",
      "chunk 37\n",
      "joined_u\n",
      "joined_v\n",
      "start training...\n"
     ]
    },
    {
     "name": "stderr",
     "output_type": "stream",
     "text": [
      "/Users/sl_ai/anaconda3/envs/hack/lib/python3.8/site-packages/catboost/core.py:1411: FutureWarning: iteritems is deprecated and will be removed in a future version. Use .items instead.\n",
      "  self._init_pool(data, label, cat_features, text_features, embedding_features, embedding_features_data, pairs, weight,\n"
     ]
    },
    {
     "name": "stdout",
     "output_type": "stream",
     "text": [
      "Learning rate set to 0.121949\n",
      "0:\tlearn: 1.3248605\ttotal: 42.5ms\tremaining: 42.5s\n",
      "200:\tlearn: 0.7704002\ttotal: 5.86s\tremaining: 23.3s\n",
      "400:\tlearn: 0.7596710\ttotal: 11.5s\tremaining: 17.2s\n",
      "600:\tlearn: 0.7520948\ttotal: 17.3s\tremaining: 11.5s\n",
      "800:\tlearn: 0.7460918\ttotal: 22.9s\tremaining: 5.69s\n",
      "999:\tlearn: 0.7409295\ttotal: 28.5s\tremaining: 0us\n",
      "saving...\n",
      "chunk 37 done\n",
      "chunk 38\n",
      "joined_u\n",
      "joined_v\n",
      "start training...\n"
     ]
    },
    {
     "name": "stderr",
     "output_type": "stream",
     "text": [
      "/Users/sl_ai/anaconda3/envs/hack/lib/python3.8/site-packages/catboost/core.py:1411: FutureWarning: iteritems is deprecated and will be removed in a future version. Use .items instead.\n",
      "  self._init_pool(data, label, cat_features, text_features, embedding_features, embedding_features_data, pairs, weight,\n"
     ]
    },
    {
     "name": "stdout",
     "output_type": "stream",
     "text": [
      "Learning rate set to 0.121949\n",
      "0:\tlearn: 1.2640369\ttotal: 52.6ms\tremaining: 52.5s\n",
      "200:\tlearn: 0.7546489\ttotal: 6s\tremaining: 23.9s\n",
      "400:\tlearn: 0.7434303\ttotal: 11.8s\tremaining: 17.7s\n",
      "600:\tlearn: 0.7351805\ttotal: 17.8s\tremaining: 11.8s\n",
      "800:\tlearn: 0.7282538\ttotal: 23.8s\tremaining: 5.92s\n",
      "999:\tlearn: 0.7226762\ttotal: 29.7s\tremaining: 0us\n",
      "saving...\n",
      "chunk 38 done\n",
      "chunk 39\n",
      "joined_u\n",
      "joined_v\n",
      "start training...\n"
     ]
    },
    {
     "name": "stderr",
     "output_type": "stream",
     "text": [
      "/Users/sl_ai/anaconda3/envs/hack/lib/python3.8/site-packages/catboost/core.py:1411: FutureWarning: iteritems is deprecated and will be removed in a future version. Use .items instead.\n",
      "  self._init_pool(data, label, cat_features, text_features, embedding_features, embedding_features_data, pairs, weight,\n"
     ]
    },
    {
     "name": "stdout",
     "output_type": "stream",
     "text": [
      "Learning rate set to 0.121949\n",
      "0:\tlearn: 1.2258423\ttotal: 42.7ms\tremaining: 42.7s\n",
      "200:\tlearn: 0.7609972\ttotal: 5.97s\tremaining: 23.7s\n",
      "400:\tlearn: 0.7509540\ttotal: 11.9s\tremaining: 17.8s\n",
      "600:\tlearn: 0.7437074\ttotal: 17.9s\tremaining: 11.9s\n",
      "800:\tlearn: 0.7374872\ttotal: 24s\tremaining: 5.96s\n",
      "999:\tlearn: 0.7322516\ttotal: 30.1s\tremaining: 0us\n",
      "saving...\n",
      "chunk 39 done\n",
      "chunk 40\n",
      "joined_u\n",
      "joined_v\n",
      "start training...\n"
     ]
    },
    {
     "name": "stderr",
     "output_type": "stream",
     "text": [
      "/Users/sl_ai/anaconda3/envs/hack/lib/python3.8/site-packages/catboost/core.py:1411: FutureWarning: iteritems is deprecated and will be removed in a future version. Use .items instead.\n",
      "  self._init_pool(data, label, cat_features, text_features, embedding_features, embedding_features_data, pairs, weight,\n"
     ]
    },
    {
     "name": "stdout",
     "output_type": "stream",
     "text": [
      "Learning rate set to 0.121949\n",
      "0:\tlearn: 1.2740758\ttotal: 44.4ms\tremaining: 44.3s\n",
      "200:\tlearn: 0.7335982\ttotal: 5.84s\tremaining: 23.2s\n",
      "400:\tlearn: 0.7239366\ttotal: 11.7s\tremaining: 17.5s\n",
      "600:\tlearn: 0.7171806\ttotal: 17.4s\tremaining: 11.6s\n",
      "800:\tlearn: 0.7117556\ttotal: 23.4s\tremaining: 5.82s\n",
      "999:\tlearn: 0.7067118\ttotal: 29.4s\tremaining: 0us\n",
      "saving...\n",
      "chunk 40 done\n",
      "chunk 41\n",
      "joined_u\n",
      "joined_v\n",
      "start training...\n"
     ]
    },
    {
     "name": "stderr",
     "output_type": "stream",
     "text": [
      "/Users/sl_ai/anaconda3/envs/hack/lib/python3.8/site-packages/catboost/core.py:1411: FutureWarning: iteritems is deprecated and will be removed in a future version. Use .items instead.\n",
      "  self._init_pool(data, label, cat_features, text_features, embedding_features, embedding_features_data, pairs, weight,\n"
     ]
    },
    {
     "name": "stdout",
     "output_type": "stream",
     "text": [
      "Learning rate set to 0.121949\n",
      "0:\tlearn: 1.2210107\ttotal: 52.3ms\tremaining: 52.3s\n",
      "200:\tlearn: 0.7542712\ttotal: 5.94s\tremaining: 23.6s\n",
      "400:\tlearn: 0.7433617\ttotal: 12s\tremaining: 17.9s\n",
      "600:\tlearn: 0.7355456\ttotal: 17.9s\tremaining: 11.9s\n",
      "800:\tlearn: 0.7294941\ttotal: 23.9s\tremaining: 5.93s\n",
      "999:\tlearn: 0.7240057\ttotal: 29.9s\tremaining: 0us\n",
      "saving...\n",
      "chunk 41 done\n",
      "chunk 42\n",
      "joined_u\n",
      "joined_v\n",
      "start training...\n"
     ]
    },
    {
     "name": "stderr",
     "output_type": "stream",
     "text": [
      "/Users/sl_ai/anaconda3/envs/hack/lib/python3.8/site-packages/catboost/core.py:1411: FutureWarning: iteritems is deprecated and will be removed in a future version. Use .items instead.\n",
      "  self._init_pool(data, label, cat_features, text_features, embedding_features, embedding_features_data, pairs, weight,\n"
     ]
    },
    {
     "name": "stdout",
     "output_type": "stream",
     "text": [
      "Learning rate set to 0.121949\n",
      "0:\tlearn: 1.2607019\ttotal: 41.4ms\tremaining: 41.4s\n",
      "200:\tlearn: 0.7292319\ttotal: 5.82s\tremaining: 23.1s\n",
      "400:\tlearn: 0.7187111\ttotal: 11.5s\tremaining: 17.2s\n",
      "600:\tlearn: 0.7110042\ttotal: 17.4s\tremaining: 11.5s\n",
      "800:\tlearn: 0.7051370\ttotal: 23.3s\tremaining: 5.78s\n",
      "999:\tlearn: 0.6999532\ttotal: 28.9s\tremaining: 0us\n",
      "saving...\n",
      "chunk 42 done\n",
      "chunk 43\n",
      "joined_u\n",
      "joined_v\n",
      "start training...\n"
     ]
    },
    {
     "name": "stderr",
     "output_type": "stream",
     "text": [
      "/Users/sl_ai/anaconda3/envs/hack/lib/python3.8/site-packages/catboost/core.py:1411: FutureWarning: iteritems is deprecated and will be removed in a future version. Use .items instead.\n",
      "  self._init_pool(data, label, cat_features, text_features, embedding_features, embedding_features_data, pairs, weight,\n"
     ]
    },
    {
     "name": "stdout",
     "output_type": "stream",
     "text": [
      "Learning rate set to 0.121949\n",
      "0:\tlearn: 1.2388027\ttotal: 49.3ms\tremaining: 49.2s\n",
      "200:\tlearn: 0.7414383\ttotal: 6.02s\tremaining: 23.9s\n",
      "400:\tlearn: 0.7308932\ttotal: 12s\tremaining: 17.9s\n",
      "600:\tlearn: 0.7234967\ttotal: 17.9s\tremaining: 11.9s\n",
      "800:\tlearn: 0.7174893\ttotal: 23.8s\tremaining: 5.91s\n",
      "999:\tlearn: 0.7124661\ttotal: 29.7s\tremaining: 0us\n",
      "saving...\n",
      "chunk 43 done\n",
      "chunk 44\n",
      "joined_u\n",
      "joined_v\n",
      "start training...\n"
     ]
    },
    {
     "name": "stderr",
     "output_type": "stream",
     "text": [
      "/Users/sl_ai/anaconda3/envs/hack/lib/python3.8/site-packages/catboost/core.py:1411: FutureWarning: iteritems is deprecated and will be removed in a future version. Use .items instead.\n",
      "  self._init_pool(data, label, cat_features, text_features, embedding_features, embedding_features_data, pairs, weight,\n"
     ]
    },
    {
     "name": "stdout",
     "output_type": "stream",
     "text": [
      "Learning rate set to 0.121949\n",
      "0:\tlearn: 1.2737419\ttotal: 41.8ms\tremaining: 41.7s\n",
      "200:\tlearn: 0.7876398\ttotal: 5.92s\tremaining: 23.6s\n",
      "400:\tlearn: 0.7767079\ttotal: 11.8s\tremaining: 17.6s\n",
      "600:\tlearn: 0.7682348\ttotal: 17.8s\tremaining: 11.8s\n",
      "800:\tlearn: 0.7614934\ttotal: 23.7s\tremaining: 5.89s\n",
      "999:\tlearn: 0.7556663\ttotal: 29.7s\tremaining: 0us\n",
      "saving...\n",
      "chunk 44 done\n",
      "chunk 45\n",
      "joined_u\n",
      "joined_v\n",
      "start training...\n"
     ]
    },
    {
     "name": "stderr",
     "output_type": "stream",
     "text": [
      "/Users/sl_ai/anaconda3/envs/hack/lib/python3.8/site-packages/catboost/core.py:1411: FutureWarning: iteritems is deprecated and will be removed in a future version. Use .items instead.\n",
      "  self._init_pool(data, label, cat_features, text_features, embedding_features, embedding_features_data, pairs, weight,\n"
     ]
    },
    {
     "name": "stdout",
     "output_type": "stream",
     "text": [
      "Learning rate set to 0.121949\n",
      "0:\tlearn: 1.2864340\ttotal: 38.6ms\tremaining: 38.6s\n",
      "200:\tlearn: 0.7601777\ttotal: 5.78s\tremaining: 23s\n",
      "400:\tlearn: 0.7506723\ttotal: 11.5s\tremaining: 17.3s\n",
      "600:\tlearn: 0.7434493\ttotal: 17.3s\tremaining: 11.5s\n",
      "800:\tlearn: 0.7375373\ttotal: 23.1s\tremaining: 5.73s\n",
      "999:\tlearn: 0.7322991\ttotal: 28.9s\tremaining: 0us\n",
      "saving...\n",
      "chunk 45 done\n",
      "chunk 46\n",
      "joined_u\n",
      "joined_v\n",
      "start training...\n"
     ]
    },
    {
     "name": "stderr",
     "output_type": "stream",
     "text": [
      "/Users/sl_ai/anaconda3/envs/hack/lib/python3.8/site-packages/catboost/core.py:1411: FutureWarning: iteritems is deprecated and will be removed in a future version. Use .items instead.\n",
      "  self._init_pool(data, label, cat_features, text_features, embedding_features, embedding_features_data, pairs, weight,\n"
     ]
    },
    {
     "name": "stdout",
     "output_type": "stream",
     "text": [
      "Learning rate set to 0.121949\n",
      "0:\tlearn: 1.2403514\ttotal: 47.7ms\tremaining: 47.6s\n",
      "200:\tlearn: 0.7574526\ttotal: 5.84s\tremaining: 23.2s\n",
      "400:\tlearn: 0.7463303\ttotal: 11.7s\tremaining: 17.5s\n",
      "600:\tlearn: 0.7385011\ttotal: 17.5s\tremaining: 11.6s\n",
      "800:\tlearn: 0.7320261\ttotal: 23.4s\tremaining: 5.81s\n",
      "999:\tlearn: 0.7265305\ttotal: 29.3s\tremaining: 0us\n",
      "saving...\n",
      "chunk 46 done\n",
      "chunk 47\n",
      "joined_u\n",
      "joined_v\n",
      "start training...\n"
     ]
    },
    {
     "name": "stderr",
     "output_type": "stream",
     "text": [
      "/Users/sl_ai/anaconda3/envs/hack/lib/python3.8/site-packages/catboost/core.py:1411: FutureWarning: iteritems is deprecated and will be removed in a future version. Use .items instead.\n",
      "  self._init_pool(data, label, cat_features, text_features, embedding_features, embedding_features_data, pairs, weight,\n"
     ]
    },
    {
     "name": "stdout",
     "output_type": "stream",
     "text": [
      "Learning rate set to 0.121949\n",
      "0:\tlearn: 1.2763286\ttotal: 41.1ms\tremaining: 41.1s\n",
      "200:\tlearn: 0.7480041\ttotal: 5.91s\tremaining: 23.5s\n",
      "400:\tlearn: 0.7379461\ttotal: 11.7s\tremaining: 17.5s\n",
      "600:\tlearn: 0.7306181\ttotal: 17.6s\tremaining: 11.7s\n",
      "800:\tlearn: 0.7246013\ttotal: 23.5s\tremaining: 5.85s\n",
      "999:\tlearn: 0.7194257\ttotal: 29.2s\tremaining: 0us\n",
      "saving...\n",
      "chunk 47 done\n",
      "chunk 48\n",
      "joined_u\n",
      "joined_v\n",
      "start training...\n"
     ]
    },
    {
     "name": "stderr",
     "output_type": "stream",
     "text": [
      "/Users/sl_ai/anaconda3/envs/hack/lib/python3.8/site-packages/catboost/core.py:1411: FutureWarning: iteritems is deprecated and will be removed in a future version. Use .items instead.\n",
      "  self._init_pool(data, label, cat_features, text_features, embedding_features, embedding_features_data, pairs, weight,\n"
     ]
    },
    {
     "name": "stdout",
     "output_type": "stream",
     "text": [
      "Learning rate set to 0.121949\n",
      "0:\tlearn: 1.2414461\ttotal: 44.9ms\tremaining: 44.9s\n",
      "200:\tlearn: 0.7435917\ttotal: 6.02s\tremaining: 23.9s\n",
      "400:\tlearn: 0.7336895\ttotal: 12s\tremaining: 17.9s\n",
      "600:\tlearn: 0.7266037\ttotal: 17.9s\tremaining: 11.9s\n",
      "800:\tlearn: 0.7204356\ttotal: 23.8s\tremaining: 5.92s\n",
      "999:\tlearn: 0.7150097\ttotal: 29.7s\tremaining: 0us\n",
      "saving...\n",
      "chunk 48 done\n",
      "chunk 49\n",
      "joined_u\n",
      "joined_v\n",
      "start training...\n"
     ]
    },
    {
     "name": "stderr",
     "output_type": "stream",
     "text": [
      "/Users/sl_ai/anaconda3/envs/hack/lib/python3.8/site-packages/catboost/core.py:1411: FutureWarning: iteritems is deprecated and will be removed in a future version. Use .items instead.\n",
      "  self._init_pool(data, label, cat_features, text_features, embedding_features, embedding_features_data, pairs, weight,\n"
     ]
    },
    {
     "name": "stdout",
     "output_type": "stream",
     "text": [
      "Learning rate set to 0.121949\n",
      "0:\tlearn: 1.2935529\ttotal: 43.8ms\tremaining: 43.7s\n",
      "200:\tlearn: 0.7685640\ttotal: 6.01s\tremaining: 23.9s\n",
      "400:\tlearn: 0.7581765\ttotal: 11.9s\tremaining: 17.7s\n",
      "600:\tlearn: 0.7503476\ttotal: 18s\tremaining: 11.9s\n",
      "800:\tlearn: 0.7441436\ttotal: 23.9s\tremaining: 5.94s\n",
      "999:\tlearn: 0.7390399\ttotal: 29.8s\tremaining: 0us\n",
      "saving...\n",
      "chunk 49 done\n",
      "chunk 50\n",
      "joined_u\n",
      "joined_v\n",
      "start training...\n"
     ]
    },
    {
     "name": "stderr",
     "output_type": "stream",
     "text": [
      "/Users/sl_ai/anaconda3/envs/hack/lib/python3.8/site-packages/catboost/core.py:1411: FutureWarning: iteritems is deprecated and will be removed in a future version. Use .items instead.\n",
      "  self._init_pool(data, label, cat_features, text_features, embedding_features, embedding_features_data, pairs, weight,\n"
     ]
    },
    {
     "name": "stdout",
     "output_type": "stream",
     "text": [
      "Learning rate set to 0.121949\n",
      "0:\tlearn: 1.3288996\ttotal: 51.6ms\tremaining: 51.5s\n",
      "200:\tlearn: 0.7803105\ttotal: 6.04s\tremaining: 24s\n",
      "400:\tlearn: 0.7699474\ttotal: 12s\tremaining: 18s\n",
      "600:\tlearn: 0.7627103\ttotal: 18s\tremaining: 12s\n",
      "800:\tlearn: 0.7568779\ttotal: 23.9s\tremaining: 5.94s\n",
      "999:\tlearn: 0.7515790\ttotal: 29.9s\tremaining: 0us\n",
      "saving...\n",
      "chunk 50 done\n",
      "chunk 51\n",
      "joined_u\n",
      "joined_v\n",
      "start training...\n"
     ]
    },
    {
     "name": "stderr",
     "output_type": "stream",
     "text": [
      "/Users/sl_ai/anaconda3/envs/hack/lib/python3.8/site-packages/catboost/core.py:1411: FutureWarning: iteritems is deprecated and will be removed in a future version. Use .items instead.\n",
      "  self._init_pool(data, label, cat_features, text_features, embedding_features, embedding_features_data, pairs, weight,\n"
     ]
    },
    {
     "name": "stdout",
     "output_type": "stream",
     "text": [
      "Learning rate set to 0.121949\n",
      "0:\tlearn: 1.2265097\ttotal: 39.3ms\tremaining: 39.2s\n",
      "200:\tlearn: 0.7162683\ttotal: 5.83s\tremaining: 23.2s\n",
      "400:\tlearn: 0.7057522\ttotal: 11.7s\tremaining: 17.5s\n",
      "600:\tlearn: 0.6986120\ttotal: 17.5s\tremaining: 11.6s\n",
      "800:\tlearn: 0.6928095\ttotal: 23.2s\tremaining: 5.76s\n",
      "999:\tlearn: 0.6876496\ttotal: 29s\tremaining: 0us\n",
      "saving...\n",
      "chunk 51 done\n",
      "chunk 52\n",
      "joined_u\n",
      "joined_v\n",
      "start training...\n"
     ]
    },
    {
     "name": "stderr",
     "output_type": "stream",
     "text": [
      "/Users/sl_ai/anaconda3/envs/hack/lib/python3.8/site-packages/catboost/core.py:1411: FutureWarning: iteritems is deprecated and will be removed in a future version. Use .items instead.\n",
      "  self._init_pool(data, label, cat_features, text_features, embedding_features, embedding_features_data, pairs, weight,\n"
     ]
    },
    {
     "name": "stdout",
     "output_type": "stream",
     "text": [
      "Learning rate set to 0.121949\n",
      "0:\tlearn: 1.2740259\ttotal: 46.2ms\tremaining: 46.1s\n",
      "200:\tlearn: 0.7690278\ttotal: 5.92s\tremaining: 23.6s\n",
      "400:\tlearn: 0.7583370\ttotal: 11.9s\tremaining: 17.8s\n",
      "600:\tlearn: 0.7502598\ttotal: 17.9s\tremaining: 11.9s\n",
      "800:\tlearn: 0.7438740\ttotal: 24s\tremaining: 5.96s\n",
      "999:\tlearn: 0.7385713\ttotal: 29.9s\tremaining: 0us\n",
      "saving...\n",
      "chunk 52 done\n",
      "chunk 53\n",
      "joined_u\n",
      "joined_v\n",
      "start training...\n"
     ]
    },
    {
     "name": "stderr",
     "output_type": "stream",
     "text": [
      "/Users/sl_ai/anaconda3/envs/hack/lib/python3.8/site-packages/catboost/core.py:1411: FutureWarning: iteritems is deprecated and will be removed in a future version. Use .items instead.\n",
      "  self._init_pool(data, label, cat_features, text_features, embedding_features, embedding_features_data, pairs, weight,\n"
     ]
    },
    {
     "name": "stdout",
     "output_type": "stream",
     "text": [
      "Learning rate set to 0.121949\n",
      "0:\tlearn: 1.2784680\ttotal: 43.7ms\tremaining: 43.7s\n",
      "200:\tlearn: 0.7481738\ttotal: 5.91s\tremaining: 23.5s\n",
      "400:\tlearn: 0.7379930\ttotal: 11.7s\tremaining: 17.5s\n",
      "600:\tlearn: 0.7307125\ttotal: 17.5s\tremaining: 11.6s\n",
      "800:\tlearn: 0.7248472\ttotal: 23.3s\tremaining: 5.78s\n",
      "999:\tlearn: 0.7200365\ttotal: 29s\tremaining: 0us\n",
      "saving...\n",
      "chunk 53 done\n",
      "chunk 54\n",
      "joined_u\n",
      "joined_v\n",
      "start training...\n"
     ]
    },
    {
     "name": "stderr",
     "output_type": "stream",
     "text": [
      "/Users/sl_ai/anaconda3/envs/hack/lib/python3.8/site-packages/catboost/core.py:1411: FutureWarning: iteritems is deprecated and will be removed in a future version. Use .items instead.\n",
      "  self._init_pool(data, label, cat_features, text_features, embedding_features, embedding_features_data, pairs, weight,\n"
     ]
    },
    {
     "name": "stdout",
     "output_type": "stream",
     "text": [
      "Learning rate set to 0.121949\n",
      "0:\tlearn: 1.2223651\ttotal: 39.6ms\tremaining: 39.6s\n",
      "200:\tlearn: 0.7304786\ttotal: 5.98s\tremaining: 23.8s\n",
      "400:\tlearn: 0.7197722\ttotal: 11.9s\tremaining: 17.8s\n",
      "600:\tlearn: 0.7123966\ttotal: 17.8s\tremaining: 11.8s\n",
      "800:\tlearn: 0.7065164\ttotal: 23.7s\tremaining: 5.9s\n",
      "999:\tlearn: 0.7013101\ttotal: 29.6s\tremaining: 0us\n",
      "saving...\n",
      "chunk 54 done\n",
      "chunk 55\n",
      "joined_u\n",
      "joined_v\n",
      "start training...\n"
     ]
    },
    {
     "name": "stderr",
     "output_type": "stream",
     "text": [
      "/Users/sl_ai/anaconda3/envs/hack/lib/python3.8/site-packages/catboost/core.py:1411: FutureWarning: iteritems is deprecated and will be removed in a future version. Use .items instead.\n",
      "  self._init_pool(data, label, cat_features, text_features, embedding_features, embedding_features_data, pairs, weight,\n"
     ]
    },
    {
     "name": "stdout",
     "output_type": "stream",
     "text": [
      "Learning rate set to 0.121949\n",
      "0:\tlearn: 1.2643975\ttotal: 41.7ms\tremaining: 41.7s\n",
      "200:\tlearn: 0.7604616\ttotal: 6.01s\tremaining: 23.9s\n",
      "400:\tlearn: 0.7490823\ttotal: 11.9s\tremaining: 17.8s\n",
      "600:\tlearn: 0.7409900\ttotal: 18s\tremaining: 11.9s\n",
      "800:\tlearn: 0.7341775\ttotal: 23.9s\tremaining: 5.95s\n",
      "999:\tlearn: 0.7288526\ttotal: 29.8s\tremaining: 0us\n",
      "saving...\n",
      "chunk 55 done\n",
      "chunk 56\n",
      "joined_u\n",
      "joined_v\n",
      "start training...\n"
     ]
    },
    {
     "name": "stderr",
     "output_type": "stream",
     "text": [
      "/Users/sl_ai/anaconda3/envs/hack/lib/python3.8/site-packages/catboost/core.py:1411: FutureWarning: iteritems is deprecated and will be removed in a future version. Use .items instead.\n",
      "  self._init_pool(data, label, cat_features, text_features, embedding_features, embedding_features_data, pairs, weight,\n"
     ]
    },
    {
     "name": "stdout",
     "output_type": "stream",
     "text": [
      "Learning rate set to 0.121949\n",
      "0:\tlearn: 1.2791667\ttotal: 42.6ms\tremaining: 42.6s\n",
      "200:\tlearn: 0.7590014\ttotal: 5.79s\tremaining: 23s\n",
      "400:\tlearn: 0.7485075\ttotal: 11.5s\tremaining: 17.2s\n",
      "600:\tlearn: 0.7406526\ttotal: 17.4s\tremaining: 11.5s\n",
      "800:\tlearn: 0.7343332\ttotal: 23.3s\tremaining: 5.78s\n",
      "999:\tlearn: 0.7290787\ttotal: 29.1s\tremaining: 0us\n",
      "saving...\n",
      "chunk 56 done\n",
      "chunk 57\n",
      "joined_u\n",
      "joined_v\n",
      "start training...\n"
     ]
    },
    {
     "name": "stderr",
     "output_type": "stream",
     "text": [
      "/Users/sl_ai/anaconda3/envs/hack/lib/python3.8/site-packages/catboost/core.py:1411: FutureWarning: iteritems is deprecated and will be removed in a future version. Use .items instead.\n",
      "  self._init_pool(data, label, cat_features, text_features, embedding_features, embedding_features_data, pairs, weight,\n"
     ]
    },
    {
     "name": "stdout",
     "output_type": "stream",
     "text": [
      "Learning rate set to 0.121949\n",
      "0:\tlearn: 1.3245130\ttotal: 41.1ms\tremaining: 41.1s\n",
      "200:\tlearn: 0.8117231\ttotal: 5.88s\tremaining: 23.4s\n",
      "400:\tlearn: 0.7979074\ttotal: 11.9s\tremaining: 17.8s\n",
      "600:\tlearn: 0.7884345\ttotal: 17.8s\tremaining: 11.8s\n",
      "800:\tlearn: 0.7804189\ttotal: 23.8s\tremaining: 5.9s\n",
      "999:\tlearn: 0.7739286\ttotal: 29.7s\tremaining: 0us\n",
      "saving...\n",
      "chunk 57 done\n",
      "chunk 58\n",
      "joined_u\n",
      "joined_v\n",
      "start training...\n"
     ]
    },
    {
     "name": "stderr",
     "output_type": "stream",
     "text": [
      "/Users/sl_ai/anaconda3/envs/hack/lib/python3.8/site-packages/catboost/core.py:1411: FutureWarning: iteritems is deprecated and will be removed in a future version. Use .items instead.\n",
      "  self._init_pool(data, label, cat_features, text_features, embedding_features, embedding_features_data, pairs, weight,\n"
     ]
    },
    {
     "name": "stdout",
     "output_type": "stream",
     "text": [
      "Learning rate set to 0.121949\n",
      "0:\tlearn: 1.3005361\ttotal: 44.7ms\tremaining: 44.7s\n",
      "200:\tlearn: 0.7592092\ttotal: 5.96s\tremaining: 23.7s\n",
      "400:\tlearn: 0.7487043\ttotal: 12s\tremaining: 17.9s\n",
      "600:\tlearn: 0.7409011\ttotal: 17.9s\tremaining: 11.9s\n",
      "800:\tlearn: 0.7344537\ttotal: 24s\tremaining: 5.97s\n",
      "999:\tlearn: 0.7291693\ttotal: 29.9s\tremaining: 0us\n",
      "saving...\n",
      "chunk 58 done\n",
      "chunk 59\n",
      "joined_u\n",
      "joined_v\n",
      "start training...\n"
     ]
    },
    {
     "name": "stderr",
     "output_type": "stream",
     "text": [
      "/Users/sl_ai/anaconda3/envs/hack/lib/python3.8/site-packages/catboost/core.py:1411: FutureWarning: iteritems is deprecated and will be removed in a future version. Use .items instead.\n",
      "  self._init_pool(data, label, cat_features, text_features, embedding_features, embedding_features_data, pairs, weight,\n"
     ]
    },
    {
     "name": "stdout",
     "output_type": "stream",
     "text": [
      "Learning rate set to 0.121949\n",
      "0:\tlearn: 1.2699525\ttotal: 45.8ms\tremaining: 45.7s\n",
      "200:\tlearn: 0.7499984\ttotal: 5.83s\tremaining: 23.2s\n",
      "400:\tlearn: 0.7398447\ttotal: 11.6s\tremaining: 17.3s\n",
      "600:\tlearn: 0.7309620\ttotal: 17.3s\tremaining: 11.5s\n",
      "800:\tlearn: 0.7249947\ttotal: 23.1s\tremaining: 5.75s\n",
      "999:\tlearn: 0.7186665\ttotal: 28.9s\tremaining: 0us\n",
      "saving...\n",
      "chunk 59 done\n",
      "chunk 60\n",
      "joined_u\n",
      "joined_v\n",
      "start training...\n"
     ]
    },
    {
     "name": "stderr",
     "output_type": "stream",
     "text": [
      "/Users/sl_ai/anaconda3/envs/hack/lib/python3.8/site-packages/catboost/core.py:1411: FutureWarning: iteritems is deprecated and will be removed in a future version. Use .items instead.\n",
      "  self._init_pool(data, label, cat_features, text_features, embedding_features, embedding_features_data, pairs, weight,\n"
     ]
    },
    {
     "name": "stdout",
     "output_type": "stream",
     "text": [
      "Learning rate set to 0.121949\n",
      "0:\tlearn: 1.2698755\ttotal: 39.8ms\tremaining: 39.8s\n",
      "200:\tlearn: 0.7682727\ttotal: 6.02s\tremaining: 23.9s\n",
      "400:\tlearn: 0.7560092\ttotal: 12.1s\tremaining: 18s\n",
      "600:\tlearn: 0.7473862\ttotal: 18.2s\tremaining: 12.1s\n",
      "800:\tlearn: 0.7406095\ttotal: 24.2s\tremaining: 6s\n",
      "999:\tlearn: 0.7349788\ttotal: 30s\tremaining: 0us\n",
      "saving...\n",
      "chunk 60 done\n",
      "chunk 61\n",
      "joined_u\n",
      "joined_v\n",
      "start training...\n"
     ]
    },
    {
     "name": "stderr",
     "output_type": "stream",
     "text": [
      "/Users/sl_ai/anaconda3/envs/hack/lib/python3.8/site-packages/catboost/core.py:1411: FutureWarning: iteritems is deprecated and will be removed in a future version. Use .items instead.\n",
      "  self._init_pool(data, label, cat_features, text_features, embedding_features, embedding_features_data, pairs, weight,\n"
     ]
    },
    {
     "name": "stdout",
     "output_type": "stream",
     "text": [
      "Learning rate set to 0.121949\n",
      "0:\tlearn: 1.2811671\ttotal: 43.9ms\tremaining: 43.8s\n",
      "200:\tlearn: 0.7557374\ttotal: 5.94s\tremaining: 23.6s\n",
      "400:\tlearn: 0.7455403\ttotal: 11.8s\tremaining: 17.6s\n",
      "600:\tlearn: 0.7379487\ttotal: 17.7s\tremaining: 11.8s\n",
      "800:\tlearn: 0.7319239\ttotal: 23.6s\tremaining: 5.87s\n",
      "999:\tlearn: 0.7266031\ttotal: 29.6s\tremaining: 0us\n",
      "saving...\n",
      "chunk 61 done\n",
      "chunk 62\n",
      "joined_u\n",
      "joined_v\n",
      "start training...\n"
     ]
    },
    {
     "name": "stderr",
     "output_type": "stream",
     "text": [
      "/Users/sl_ai/anaconda3/envs/hack/lib/python3.8/site-packages/catboost/core.py:1411: FutureWarning: iteritems is deprecated and will be removed in a future version. Use .items instead.\n",
      "  self._init_pool(data, label, cat_features, text_features, embedding_features, embedding_features_data, pairs, weight,\n"
     ]
    },
    {
     "name": "stdout",
     "output_type": "stream",
     "text": [
      "Learning rate set to 0.121949\n",
      "0:\tlearn: 1.2505447\ttotal: 43.1ms\tremaining: 43.1s\n",
      "200:\tlearn: 0.7435118\ttotal: 5.75s\tremaining: 22.9s\n",
      "400:\tlearn: 0.7327410\ttotal: 11.4s\tremaining: 17.1s\n",
      "600:\tlearn: 0.7247579\ttotal: 17.2s\tremaining: 11.4s\n",
      "800:\tlearn: 0.7183540\ttotal: 22.9s\tremaining: 5.7s\n",
      "999:\tlearn: 0.7131616\ttotal: 29.3s\tremaining: 0us\n",
      "saving...\n",
      "chunk 62 done\n",
      "chunk 63\n",
      "joined_u\n",
      "joined_v\n",
      "start training...\n"
     ]
    },
    {
     "name": "stderr",
     "output_type": "stream",
     "text": [
      "/Users/sl_ai/anaconda3/envs/hack/lib/python3.8/site-packages/catboost/core.py:1411: FutureWarning: iteritems is deprecated and will be removed in a future version. Use .items instead.\n",
      "  self._init_pool(data, label, cat_features, text_features, embedding_features, embedding_features_data, pairs, weight,\n"
     ]
    },
    {
     "name": "stdout",
     "output_type": "stream",
     "text": [
      "Learning rate set to 0.121949\n",
      "0:\tlearn: 1.2360513\ttotal: 46.8ms\tremaining: 46.7s\n",
      "200:\tlearn: 0.7358203\ttotal: 6.05s\tremaining: 24s\n",
      "400:\tlearn: 0.7263947\ttotal: 12.1s\tremaining: 18s\n",
      "600:\tlearn: 0.7195732\ttotal: 18.1s\tremaining: 12s\n",
      "800:\tlearn: 0.7137900\ttotal: 24.1s\tremaining: 5.98s\n",
      "999:\tlearn: 0.7088551\ttotal: 30.2s\tremaining: 0us\n",
      "saving...\n",
      "chunk 63 done\n",
      "chunk 64\n",
      "joined_u\n",
      "joined_v\n",
      "start training...\n"
     ]
    },
    {
     "name": "stderr",
     "output_type": "stream",
     "text": [
      "/Users/sl_ai/anaconda3/envs/hack/lib/python3.8/site-packages/catboost/core.py:1411: FutureWarning: iteritems is deprecated and will be removed in a future version. Use .items instead.\n",
      "  self._init_pool(data, label, cat_features, text_features, embedding_features, embedding_features_data, pairs, weight,\n"
     ]
    },
    {
     "name": "stdout",
     "output_type": "stream",
     "text": [
      "Learning rate set to 0.121949\n",
      "0:\tlearn: 1.2706091\ttotal: 46ms\tremaining: 46s\n",
      "200:\tlearn: 0.7526749\ttotal: 5.95s\tremaining: 23.7s\n",
      "400:\tlearn: 0.7411577\ttotal: 11.8s\tremaining: 17.7s\n",
      "600:\tlearn: 0.7330993\ttotal: 17.6s\tremaining: 11.7s\n",
      "800:\tlearn: 0.7267051\ttotal: 23.6s\tremaining: 5.87s\n",
      "999:\tlearn: 0.7216578\ttotal: 29.3s\tremaining: 0us\n",
      "saving...\n",
      "chunk 64 done\n",
      "chunk 65\n",
      "joined_u\n",
      "joined_v\n",
      "start training...\n"
     ]
    },
    {
     "name": "stderr",
     "output_type": "stream",
     "text": [
      "/Users/sl_ai/anaconda3/envs/hack/lib/python3.8/site-packages/catboost/core.py:1411: FutureWarning: iteritems is deprecated and will be removed in a future version. Use .items instead.\n",
      "  self._init_pool(data, label, cat_features, text_features, embedding_features, embedding_features_data, pairs, weight,\n"
     ]
    },
    {
     "name": "stdout",
     "output_type": "stream",
     "text": [
      "Learning rate set to 0.121949\n",
      "0:\tlearn: 1.2631397\ttotal: 46.9ms\tremaining: 46.8s\n",
      "200:\tlearn: 0.7375806\ttotal: 6.06s\tremaining: 24.1s\n",
      "400:\tlearn: 0.7279369\ttotal: 12s\tremaining: 18s\n",
      "600:\tlearn: 0.7208021\ttotal: 18s\tremaining: 11.9s\n",
      "800:\tlearn: 0.7146117\ttotal: 24.1s\tremaining: 5.98s\n",
      "999:\tlearn: 0.7095865\ttotal: 30s\tremaining: 0us\n",
      "saving...\n",
      "chunk 65 done\n",
      "chunk 66\n",
      "joined_u\n",
      "joined_v\n",
      "start training...\n"
     ]
    },
    {
     "name": "stderr",
     "output_type": "stream",
     "text": [
      "/Users/sl_ai/anaconda3/envs/hack/lib/python3.8/site-packages/catboost/core.py:1411: FutureWarning: iteritems is deprecated and will be removed in a future version. Use .items instead.\n",
      "  self._init_pool(data, label, cat_features, text_features, embedding_features, embedding_features_data, pairs, weight,\n"
     ]
    },
    {
     "name": "stdout",
     "output_type": "stream",
     "text": [
      "Learning rate set to 0.121949\n",
      "0:\tlearn: 1.3119577\ttotal: 39.1ms\tremaining: 39.1s\n",
      "200:\tlearn: 0.7758865\ttotal: 5.93s\tremaining: 23.6s\n",
      "400:\tlearn: 0.7638112\ttotal: 11.8s\tremaining: 17.6s\n",
      "600:\tlearn: 0.7554573\ttotal: 17.8s\tremaining: 11.8s\n",
      "800:\tlearn: 0.7489160\ttotal: 23.8s\tremaining: 5.92s\n",
      "999:\tlearn: 0.7431900\ttotal: 29.7s\tremaining: 0us\n",
      "saving...\n",
      "chunk 66 done\n",
      "chunk 67\n",
      "joined_u\n",
      "joined_v\n",
      "start training...\n"
     ]
    },
    {
     "name": "stderr",
     "output_type": "stream",
     "text": [
      "/Users/sl_ai/anaconda3/envs/hack/lib/python3.8/site-packages/catboost/core.py:1411: FutureWarning: iteritems is deprecated and will be removed in a future version. Use .items instead.\n",
      "  self._init_pool(data, label, cat_features, text_features, embedding_features, embedding_features_data, pairs, weight,\n"
     ]
    },
    {
     "name": "stdout",
     "output_type": "stream",
     "text": [
      "Learning rate set to 0.121949\n",
      "0:\tlearn: 1.2904445\ttotal: 47.5ms\tremaining: 47.4s\n",
      "200:\tlearn: 0.7778447\ttotal: 5.76s\tremaining: 22.9s\n",
      "400:\tlearn: 0.7665703\ttotal: 11.6s\tremaining: 17.3s\n",
      "600:\tlearn: 0.7591044\ttotal: 17.4s\tremaining: 11.6s\n",
      "800:\tlearn: 0.7527953\ttotal: 23.1s\tremaining: 5.74s\n",
      "999:\tlearn: 0.7469758\ttotal: 29s\tremaining: 0us\n",
      "saving...\n",
      "chunk 67 done\n",
      "chunk 68\n",
      "joined_u\n",
      "joined_v\n",
      "start training...\n"
     ]
    },
    {
     "name": "stderr",
     "output_type": "stream",
     "text": [
      "/Users/sl_ai/anaconda3/envs/hack/lib/python3.8/site-packages/catboost/core.py:1411: FutureWarning: iteritems is deprecated and will be removed in a future version. Use .items instead.\n",
      "  self._init_pool(data, label, cat_features, text_features, embedding_features, embedding_features_data, pairs, weight,\n"
     ]
    },
    {
     "name": "stdout",
     "output_type": "stream",
     "text": [
      "Learning rate set to 0.121949\n",
      "0:\tlearn: 1.1940719\ttotal: 45.2ms\tremaining: 45.2s\n",
      "200:\tlearn: 0.7441926\ttotal: 5.96s\tremaining: 23.7s\n",
      "400:\tlearn: 0.7332419\ttotal: 12.1s\tremaining: 18s\n",
      "600:\tlearn: 0.7250174\ttotal: 18.1s\tremaining: 12s\n",
      "800:\tlearn: 0.7182987\ttotal: 24s\tremaining: 5.96s\n",
      "999:\tlearn: 0.7127644\ttotal: 30s\tremaining: 0us\n",
      "saving...\n",
      "chunk 68 done\n",
      "chunk 69\n",
      "joined_u\n",
      "joined_v\n",
      "start training...\n"
     ]
    },
    {
     "name": "stderr",
     "output_type": "stream",
     "text": [
      "/Users/sl_ai/anaconda3/envs/hack/lib/python3.8/site-packages/catboost/core.py:1411: FutureWarning: iteritems is deprecated and will be removed in a future version. Use .items instead.\n",
      "  self._init_pool(data, label, cat_features, text_features, embedding_features, embedding_features_data, pairs, weight,\n"
     ]
    },
    {
     "name": "stdout",
     "output_type": "stream",
     "text": [
      "Learning rate set to 0.121949\n",
      "0:\tlearn: 1.2721317\ttotal: 41.2ms\tremaining: 41.1s\n",
      "200:\tlearn: 0.7537071\ttotal: 5.99s\tremaining: 23.8s\n",
      "400:\tlearn: 0.7427113\ttotal: 12.1s\tremaining: 18.1s\n",
      "600:\tlearn: 0.7347813\ttotal: 18s\tremaining: 12s\n",
      "800:\tlearn: 0.7284218\ttotal: 24.1s\tremaining: 5.98s\n",
      "999:\tlearn: 0.7229991\ttotal: 29.9s\tremaining: 0us\n",
      "saving...\n",
      "chunk 69 done\n",
      "chunk 70\n",
      "joined_u\n",
      "joined_v\n",
      "start training...\n"
     ]
    },
    {
     "name": "stderr",
     "output_type": "stream",
     "text": [
      "/Users/sl_ai/anaconda3/envs/hack/lib/python3.8/site-packages/catboost/core.py:1411: FutureWarning: iteritems is deprecated and will be removed in a future version. Use .items instead.\n",
      "  self._init_pool(data, label, cat_features, text_features, embedding_features, embedding_features_data, pairs, weight,\n"
     ]
    },
    {
     "name": "stdout",
     "output_type": "stream",
     "text": [
      "Learning rate set to 0.121949\n",
      "0:\tlearn: 1.2373631\ttotal: 40.4ms\tremaining: 40.3s\n",
      "200:\tlearn: 0.7372293\ttotal: 5.85s\tremaining: 23.3s\n",
      "400:\tlearn: 0.7258983\ttotal: 11.7s\tremaining: 17.4s\n",
      "600:\tlearn: 0.7183445\ttotal: 17.4s\tremaining: 11.5s\n",
      "800:\tlearn: 0.7120827\ttotal: 23.2s\tremaining: 5.77s\n",
      "999:\tlearn: 0.7071595\ttotal: 28.9s\tremaining: 0us\n",
      "saving...\n",
      "chunk 70 done\n",
      "chunk 71\n",
      "joined_u\n",
      "joined_v\n",
      "start training...\n"
     ]
    },
    {
     "name": "stderr",
     "output_type": "stream",
     "text": [
      "/Users/sl_ai/anaconda3/envs/hack/lib/python3.8/site-packages/catboost/core.py:1411: FutureWarning: iteritems is deprecated and will be removed in a future version. Use .items instead.\n",
      "  self._init_pool(data, label, cat_features, text_features, embedding_features, embedding_features_data, pairs, weight,\n"
     ]
    },
    {
     "name": "stdout",
     "output_type": "stream",
     "text": [
      "Learning rate set to 0.121949\n",
      "0:\tlearn: 1.2999319\ttotal: 42.6ms\tremaining: 42.5s\n",
      "200:\tlearn: 0.7618148\ttotal: 6.12s\tremaining: 24.3s\n",
      "400:\tlearn: 0.7509851\ttotal: 12s\tremaining: 17.9s\n",
      "600:\tlearn: 0.7435689\ttotal: 18s\tremaining: 12s\n",
      "800:\tlearn: 0.7375316\ttotal: 24s\tremaining: 5.96s\n",
      "999:\tlearn: 0.7323638\ttotal: 30s\tremaining: 0us\n",
      "saving...\n",
      "chunk 71 done\n",
      "chunk 72\n",
      "joined_u\n",
      "joined_v\n",
      "start training...\n"
     ]
    },
    {
     "name": "stderr",
     "output_type": "stream",
     "text": [
      "/Users/sl_ai/anaconda3/envs/hack/lib/python3.8/site-packages/catboost/core.py:1411: FutureWarning: iteritems is deprecated and will be removed in a future version. Use .items instead.\n",
      "  self._init_pool(data, label, cat_features, text_features, embedding_features, embedding_features_data, pairs, weight,\n"
     ]
    },
    {
     "name": "stdout",
     "output_type": "stream",
     "text": [
      "Learning rate set to 0.121949\n",
      "0:\tlearn: 1.2765231\ttotal: 37.7ms\tremaining: 37.7s\n",
      "200:\tlearn: 0.7522158\ttotal: 5.71s\tremaining: 22.7s\n",
      "400:\tlearn: 0.7420416\ttotal: 11.5s\tremaining: 17.1s\n",
      "600:\tlearn: 0.7348577\ttotal: 17.3s\tremaining: 11.5s\n",
      "800:\tlearn: 0.7289015\ttotal: 23s\tremaining: 5.71s\n",
      "999:\tlearn: 0.7240686\ttotal: 28.7s\tremaining: 0us\n",
      "saving...\n",
      "chunk 72 done\n",
      "chunk 73\n",
      "joined_u\n",
      "joined_v\n",
      "start training...\n"
     ]
    },
    {
     "name": "stderr",
     "output_type": "stream",
     "text": [
      "/Users/sl_ai/anaconda3/envs/hack/lib/python3.8/site-packages/catboost/core.py:1411: FutureWarning: iteritems is deprecated and will be removed in a future version. Use .items instead.\n",
      "  self._init_pool(data, label, cat_features, text_features, embedding_features, embedding_features_data, pairs, weight,\n"
     ]
    },
    {
     "name": "stdout",
     "output_type": "stream",
     "text": [
      "Learning rate set to 0.121949\n",
      "0:\tlearn: 1.2213023\ttotal: 44.4ms\tremaining: 44.4s\n",
      "200:\tlearn: 0.7359045\ttotal: 5.9s\tremaining: 23.5s\n",
      "400:\tlearn: 0.7255417\ttotal: 11.8s\tremaining: 17.6s\n",
      "600:\tlearn: 0.7180386\ttotal: 17.8s\tremaining: 11.8s\n",
      "800:\tlearn: 0.7122648\ttotal: 23.7s\tremaining: 5.88s\n",
      "999:\tlearn: 0.7071751\ttotal: 29.7s\tremaining: 0us\n",
      "saving...\n",
      "chunk 73 done\n",
      "chunk 74\n",
      "joined_u\n",
      "joined_v\n",
      "start training...\n"
     ]
    },
    {
     "name": "stderr",
     "output_type": "stream",
     "text": [
      "/Users/sl_ai/anaconda3/envs/hack/lib/python3.8/site-packages/catboost/core.py:1411: FutureWarning: iteritems is deprecated and will be removed in a future version. Use .items instead.\n",
      "  self._init_pool(data, label, cat_features, text_features, embedding_features, embedding_features_data, pairs, weight,\n"
     ]
    },
    {
     "name": "stdout",
     "output_type": "stream",
     "text": [
      "Learning rate set to 0.121949\n",
      "0:\tlearn: 1.2626723\ttotal: 49.2ms\tremaining: 49.1s\n",
      "200:\tlearn: 0.7703863\ttotal: 6.09s\tremaining: 24.2s\n",
      "400:\tlearn: 0.7593956\ttotal: 12.4s\tremaining: 18.5s\n",
      "600:\tlearn: 0.7514560\ttotal: 18.5s\tremaining: 12.3s\n",
      "800:\tlearn: 0.7449635\ttotal: 24.6s\tremaining: 6.11s\n",
      "999:\tlearn: 0.7392655\ttotal: 30.8s\tremaining: 0us\n",
      "saving...\n",
      "chunk 74 done\n",
      "chunk 75\n",
      "joined_u\n",
      "joined_v\n",
      "start training...\n"
     ]
    },
    {
     "name": "stderr",
     "output_type": "stream",
     "text": [
      "/Users/sl_ai/anaconda3/envs/hack/lib/python3.8/site-packages/catboost/core.py:1411: FutureWarning: iteritems is deprecated and will be removed in a future version. Use .items instead.\n",
      "  self._init_pool(data, label, cat_features, text_features, embedding_features, embedding_features_data, pairs, weight,\n"
     ]
    },
    {
     "name": "stdout",
     "output_type": "stream",
     "text": [
      "Learning rate set to 0.121949\n",
      "0:\tlearn: 1.2952260\ttotal: 40.6ms\tremaining: 40.5s\n",
      "200:\tlearn: 0.7565109\ttotal: 6.03s\tremaining: 24s\n",
      "400:\tlearn: 0.7471158\ttotal: 11.9s\tremaining: 17.7s\n",
      "600:\tlearn: 0.7396538\ttotal: 17.9s\tremaining: 11.9s\n",
      "800:\tlearn: 0.7337103\ttotal: 24s\tremaining: 5.97s\n",
      "999:\tlearn: 0.7287212\ttotal: 29.9s\tremaining: 0us\n",
      "saving...\n",
      "chunk 75 done\n",
      "chunk 76\n",
      "joined_u\n",
      "joined_v\n",
      "start training...\n"
     ]
    },
    {
     "name": "stderr",
     "output_type": "stream",
     "text": [
      "/Users/sl_ai/anaconda3/envs/hack/lib/python3.8/site-packages/catboost/core.py:1411: FutureWarning: iteritems is deprecated and will be removed in a future version. Use .items instead.\n",
      "  self._init_pool(data, label, cat_features, text_features, embedding_features, embedding_features_data, pairs, weight,\n"
     ]
    },
    {
     "name": "stdout",
     "output_type": "stream",
     "text": [
      "Learning rate set to 0.121949\n",
      "0:\tlearn: 1.2329262\ttotal: 40.3ms\tremaining: 40.3s\n",
      "200:\tlearn: 0.7313927\ttotal: 5.95s\tremaining: 23.7s\n",
      "400:\tlearn: 0.7199118\ttotal: 11.7s\tremaining: 17.5s\n",
      "600:\tlearn: 0.7117884\ttotal: 17.8s\tremaining: 11.8s\n",
      "800:\tlearn: 0.7054913\ttotal: 23.5s\tremaining: 5.84s\n",
      "999:\tlearn: 0.7000275\ttotal: 29.3s\tremaining: 0us\n",
      "saving...\n",
      "chunk 76 done\n",
      "chunk 77\n",
      "joined_u\n",
      "joined_v\n",
      "start training...\n"
     ]
    },
    {
     "name": "stderr",
     "output_type": "stream",
     "text": [
      "/Users/sl_ai/anaconda3/envs/hack/lib/python3.8/site-packages/catboost/core.py:1411: FutureWarning: iteritems is deprecated and will be removed in a future version. Use .items instead.\n",
      "  self._init_pool(data, label, cat_features, text_features, embedding_features, embedding_features_data, pairs, weight,\n"
     ]
    },
    {
     "name": "stdout",
     "output_type": "stream",
     "text": [
      "Learning rate set to 0.121949\n",
      "0:\tlearn: 1.2662015\ttotal: 48.3ms\tremaining: 48.2s\n",
      "200:\tlearn: 0.7486810\ttotal: 5.94s\tremaining: 23.6s\n",
      "400:\tlearn: 0.7387335\ttotal: 11.8s\tremaining: 17.7s\n",
      "600:\tlearn: 0.7317687\ttotal: 17.9s\tremaining: 11.9s\n",
      "800:\tlearn: 0.7260096\ttotal: 23.7s\tremaining: 5.89s\n",
      "999:\tlearn: 0.7210488\ttotal: 29.6s\tremaining: 0us\n",
      "saving...\n",
      "chunk 77 done\n",
      "chunk 78\n",
      "joined_u\n",
      "joined_v\n",
      "start training...\n"
     ]
    },
    {
     "name": "stderr",
     "output_type": "stream",
     "text": [
      "/Users/sl_ai/anaconda3/envs/hack/lib/python3.8/site-packages/catboost/core.py:1411: FutureWarning: iteritems is deprecated and will be removed in a future version. Use .items instead.\n",
      "  self._init_pool(data, label, cat_features, text_features, embedding_features, embedding_features_data, pairs, weight,\n"
     ]
    },
    {
     "name": "stdout",
     "output_type": "stream",
     "text": [
      "Learning rate set to 0.121949\n",
      "0:\tlearn: 1.2251349\ttotal: 36.6ms\tremaining: 36.6s\n",
      "200:\tlearn: 0.7268480\ttotal: 5.87s\tremaining: 23.3s\n",
      "400:\tlearn: 0.7170739\ttotal: 11.9s\tremaining: 17.7s\n",
      "600:\tlearn: 0.7099301\ttotal: 17.5s\tremaining: 11.6s\n",
      "800:\tlearn: 0.7042083\ttotal: 23.3s\tremaining: 5.79s\n",
      "999:\tlearn: 0.6991881\ttotal: 29.1s\tremaining: 0us\n",
      "saving...\n",
      "chunk 78 done\n",
      "chunk 79\n",
      "joined_u\n",
      "joined_v\n",
      "start training...\n"
     ]
    },
    {
     "name": "stderr",
     "output_type": "stream",
     "text": [
      "/Users/sl_ai/anaconda3/envs/hack/lib/python3.8/site-packages/catboost/core.py:1411: FutureWarning: iteritems is deprecated and will be removed in a future version. Use .items instead.\n",
      "  self._init_pool(data, label, cat_features, text_features, embedding_features, embedding_features_data, pairs, weight,\n"
     ]
    },
    {
     "name": "stdout",
     "output_type": "stream",
     "text": [
      "Learning rate set to 0.121949\n",
      "0:\tlearn: 1.2700280\ttotal: 42.7ms\tremaining: 42.7s\n",
      "200:\tlearn: 0.7602468\ttotal: 5.87s\tremaining: 23.3s\n",
      "400:\tlearn: 0.7496814\ttotal: 11.9s\tremaining: 17.7s\n",
      "600:\tlearn: 0.7422665\ttotal: 17.9s\tremaining: 11.9s\n",
      "800:\tlearn: 0.7360655\ttotal: 23.8s\tremaining: 5.92s\n",
      "999:\tlearn: 0.7308391\ttotal: 29.8s\tremaining: 0us\n",
      "saving...\n",
      "chunk 79 done\n",
      "chunk 80\n",
      "joined_u\n",
      "joined_v\n",
      "start training...\n"
     ]
    },
    {
     "name": "stderr",
     "output_type": "stream",
     "text": [
      "/Users/sl_ai/anaconda3/envs/hack/lib/python3.8/site-packages/catboost/core.py:1411: FutureWarning: iteritems is deprecated and will be removed in a future version. Use .items instead.\n",
      "  self._init_pool(data, label, cat_features, text_features, embedding_features, embedding_features_data, pairs, weight,\n"
     ]
    },
    {
     "name": "stdout",
     "output_type": "stream",
     "text": [
      "Learning rate set to 0.121949\n",
      "0:\tlearn: 1.2932474\ttotal: 46.2ms\tremaining: 46.2s\n",
      "200:\tlearn: 0.7603160\ttotal: 6s\tremaining: 23.9s\n",
      "400:\tlearn: 0.7500808\ttotal: 12s\tremaining: 17.9s\n",
      "600:\tlearn: 0.7427634\ttotal: 17.8s\tremaining: 11.8s\n",
      "800:\tlearn: 0.7369399\ttotal: 23.8s\tremaining: 5.92s\n",
      "999:\tlearn: 0.7319351\ttotal: 29.6s\tremaining: 0us\n",
      "saving...\n",
      "chunk 80 done\n",
      "chunk 81\n",
      "joined_u\n",
      "joined_v\n",
      "start training...\n"
     ]
    },
    {
     "name": "stderr",
     "output_type": "stream",
     "text": [
      "/Users/sl_ai/anaconda3/envs/hack/lib/python3.8/site-packages/catboost/core.py:1411: FutureWarning: iteritems is deprecated and will be removed in a future version. Use .items instead.\n",
      "  self._init_pool(data, label, cat_features, text_features, embedding_features, embedding_features_data, pairs, weight,\n"
     ]
    },
    {
     "name": "stdout",
     "output_type": "stream",
     "text": [
      "Learning rate set to 0.121949\n",
      "0:\tlearn: 1.2667479\ttotal: 42.1ms\tremaining: 42.1s\n",
      "200:\tlearn: 0.7619816\ttotal: 5.92s\tremaining: 23.5s\n",
      "400:\tlearn: 0.7512016\ttotal: 11.9s\tremaining: 17.7s\n",
      "600:\tlearn: 0.7435980\ttotal: 18.3s\tremaining: 12.2s\n",
      "800:\tlearn: 0.7376468\ttotal: 24.4s\tremaining: 6.07s\n",
      "999:\tlearn: 0.7323952\ttotal: 30.6s\tremaining: 0us\n",
      "saving...\n",
      "chunk 81 done\n",
      "chunk 82\n",
      "joined_u\n",
      "joined_v\n",
      "start training...\n"
     ]
    },
    {
     "name": "stderr",
     "output_type": "stream",
     "text": [
      "/Users/sl_ai/anaconda3/envs/hack/lib/python3.8/site-packages/catboost/core.py:1411: FutureWarning: iteritems is deprecated and will be removed in a future version. Use .items instead.\n",
      "  self._init_pool(data, label, cat_features, text_features, embedding_features, embedding_features_data, pairs, weight,\n"
     ]
    },
    {
     "name": "stdout",
     "output_type": "stream",
     "text": [
      "Learning rate set to 0.121949\n",
      "0:\tlearn: 1.2444770\ttotal: 40.7ms\tremaining: 40.7s\n",
      "200:\tlearn: 0.7453646\ttotal: 6.26s\tremaining: 24.9s\n",
      "400:\tlearn: 0.7343260\ttotal: 12.6s\tremaining: 18.8s\n",
      "600:\tlearn: 0.7266153\ttotal: 18.8s\tremaining: 12.5s\n",
      "800:\tlearn: 0.7202659\ttotal: 24.8s\tremaining: 6.17s\n",
      "999:\tlearn: 0.7149559\ttotal: 30.9s\tremaining: 0us\n",
      "saving...\n",
      "chunk 82 done\n",
      "chunk 83\n",
      "joined_u\n",
      "joined_v\n",
      "start training...\n"
     ]
    },
    {
     "name": "stderr",
     "output_type": "stream",
     "text": [
      "/Users/sl_ai/anaconda3/envs/hack/lib/python3.8/site-packages/catboost/core.py:1411: FutureWarning: iteritems is deprecated and will be removed in a future version. Use .items instead.\n",
      "  self._init_pool(data, label, cat_features, text_features, embedding_features, embedding_features_data, pairs, weight,\n"
     ]
    },
    {
     "name": "stdout",
     "output_type": "stream",
     "text": [
      "Learning rate set to 0.121949\n",
      "0:\tlearn: 1.3537266\ttotal: 42.4ms\tremaining: 42.3s\n",
      "200:\tlearn: 0.7962169\ttotal: 5.95s\tremaining: 23.6s\n",
      "400:\tlearn: 0.7833853\ttotal: 11.9s\tremaining: 17.8s\n",
      "600:\tlearn: 0.7743026\ttotal: 17.9s\tremaining: 11.9s\n",
      "800:\tlearn: 0.7672677\ttotal: 23.9s\tremaining: 5.93s\n",
      "999:\tlearn: 0.7612978\ttotal: 29.9s\tremaining: 0us\n",
      "saving...\n",
      "chunk 83 done\n",
      "chunk 84\n",
      "joined_u\n",
      "joined_v\n",
      "start training...\n"
     ]
    },
    {
     "name": "stderr",
     "output_type": "stream",
     "text": [
      "/Users/sl_ai/anaconda3/envs/hack/lib/python3.8/site-packages/catboost/core.py:1411: FutureWarning: iteritems is deprecated and will be removed in a future version. Use .items instead.\n",
      "  self._init_pool(data, label, cat_features, text_features, embedding_features, embedding_features_data, pairs, weight,\n"
     ]
    },
    {
     "name": "stdout",
     "output_type": "stream",
     "text": [
      "Learning rate set to 0.121949\n",
      "0:\tlearn: 1.2461155\ttotal: 40.7ms\tremaining: 40.7s\n",
      "200:\tlearn: 0.7488522\ttotal: 5.73s\tremaining: 22.8s\n",
      "400:\tlearn: 0.7375536\ttotal: 11.8s\tremaining: 17.6s\n",
      "600:\tlearn: 0.7299700\ttotal: 17.4s\tremaining: 11.6s\n",
      "800:\tlearn: 0.7237978\ttotal: 23.4s\tremaining: 5.82s\n",
      "999:\tlearn: 0.7185154\ttotal: 29.5s\tremaining: 0us\n",
      "saving...\n",
      "chunk 84 done\n",
      "chunk 85\n",
      "joined_u\n",
      "joined_v\n",
      "start training...\n"
     ]
    },
    {
     "name": "stderr",
     "output_type": "stream",
     "text": [
      "/Users/sl_ai/anaconda3/envs/hack/lib/python3.8/site-packages/catboost/core.py:1411: FutureWarning: iteritems is deprecated and will be removed in a future version. Use .items instead.\n",
      "  self._init_pool(data, label, cat_features, text_features, embedding_features, embedding_features_data, pairs, weight,\n"
     ]
    },
    {
     "name": "stdout",
     "output_type": "stream",
     "text": [
      "Learning rate set to 0.121949\n",
      "0:\tlearn: 1.2092425\ttotal: 43.5ms\tremaining: 43.4s\n",
      "200:\tlearn: 0.7439980\ttotal: 6.36s\tremaining: 25.3s\n",
      "400:\tlearn: 0.7336969\ttotal: 12.5s\tremaining: 18.7s\n",
      "600:\tlearn: 0.7264272\ttotal: 18.5s\tremaining: 12.3s\n",
      "800:\tlearn: 0.7203636\ttotal: 24.5s\tremaining: 6.09s\n",
      "999:\tlearn: 0.7150844\ttotal: 30.8s\tremaining: 0us\n",
      "saving...\n",
      "chunk 85 done\n",
      "chunk 86\n",
      "joined_u\n",
      "joined_v\n",
      "start training...\n"
     ]
    },
    {
     "name": "stderr",
     "output_type": "stream",
     "text": [
      "/Users/sl_ai/anaconda3/envs/hack/lib/python3.8/site-packages/catboost/core.py:1411: FutureWarning: iteritems is deprecated and will be removed in a future version. Use .items instead.\n",
      "  self._init_pool(data, label, cat_features, text_features, embedding_features, embedding_features_data, pairs, weight,\n"
     ]
    },
    {
     "name": "stdout",
     "output_type": "stream",
     "text": [
      "Learning rate set to 0.121949\n",
      "0:\tlearn: 1.2904902\ttotal: 48.9ms\tremaining: 48.9s\n",
      "200:\tlearn: 0.7815148\ttotal: 5.95s\tremaining: 23.6s\n",
      "400:\tlearn: 0.7695588\ttotal: 11.8s\tremaining: 17.6s\n",
      "600:\tlearn: 0.7610976\ttotal: 18.1s\tremaining: 12s\n",
      "800:\tlearn: 0.7541654\ttotal: 24s\tremaining: 5.97s\n",
      "999:\tlearn: 0.7487293\ttotal: 30s\tremaining: 0us\n",
      "saving...\n",
      "chunk 86 done\n",
      "chunk 87\n",
      "joined_u\n",
      "joined_v\n",
      "start training...\n"
     ]
    },
    {
     "name": "stderr",
     "output_type": "stream",
     "text": [
      "/Users/sl_ai/anaconda3/envs/hack/lib/python3.8/site-packages/catboost/core.py:1411: FutureWarning: iteritems is deprecated and will be removed in a future version. Use .items instead.\n",
      "  self._init_pool(data, label, cat_features, text_features, embedding_features, embedding_features_data, pairs, weight,\n"
     ]
    },
    {
     "name": "stdout",
     "output_type": "stream",
     "text": [
      "Learning rate set to 0.121949\n",
      "0:\tlearn: 1.2564753\ttotal: 43.1ms\tremaining: 43s\n",
      "200:\tlearn: 0.7460473\ttotal: 5.89s\tremaining: 23.4s\n",
      "400:\tlearn: 0.7356458\ttotal: 11.7s\tremaining: 17.5s\n",
      "600:\tlearn: 0.7282775\ttotal: 17.5s\tremaining: 11.6s\n",
      "800:\tlearn: 0.7221193\ttotal: 23.2s\tremaining: 5.76s\n",
      "999:\tlearn: 0.7170502\ttotal: 29s\tremaining: 0us\n",
      "saving...\n",
      "chunk 87 done\n",
      "chunk 88\n",
      "joined_u\n",
      "joined_v\n",
      "start training...\n"
     ]
    },
    {
     "name": "stderr",
     "output_type": "stream",
     "text": [
      "/Users/sl_ai/anaconda3/envs/hack/lib/python3.8/site-packages/catboost/core.py:1411: FutureWarning: iteritems is deprecated and will be removed in a future version. Use .items instead.\n",
      "  self._init_pool(data, label, cat_features, text_features, embedding_features, embedding_features_data, pairs, weight,\n"
     ]
    },
    {
     "name": "stdout",
     "output_type": "stream",
     "text": [
      "Learning rate set to 0.121949\n",
      "0:\tlearn: 1.2467526\ttotal: 40.8ms\tremaining: 40.7s\n",
      "200:\tlearn: 0.7533927\ttotal: 5.93s\tremaining: 23.6s\n",
      "400:\tlearn: 0.7434288\ttotal: 12s\tremaining: 17.9s\n",
      "600:\tlearn: 0.7359966\ttotal: 18s\tremaining: 11.9s\n",
      "800:\tlearn: 0.7298899\ttotal: 24.1s\tremaining: 5.99s\n",
      "999:\tlearn: 0.7247381\ttotal: 30.4s\tremaining: 0us\n",
      "saving...\n",
      "chunk 88 done\n",
      "chunk 89\n",
      "joined_u\n",
      "joined_v\n",
      "start training...\n"
     ]
    },
    {
     "name": "stderr",
     "output_type": "stream",
     "text": [
      "/Users/sl_ai/anaconda3/envs/hack/lib/python3.8/site-packages/catboost/core.py:1411: FutureWarning: iteritems is deprecated and will be removed in a future version. Use .items instead.\n",
      "  self._init_pool(data, label, cat_features, text_features, embedding_features, embedding_features_data, pairs, weight,\n"
     ]
    },
    {
     "name": "stdout",
     "output_type": "stream",
     "text": [
      "Learning rate set to 0.121949\n",
      "0:\tlearn: 1.2526213\ttotal: 48ms\tremaining: 48s\n",
      "200:\tlearn: 0.7410679\ttotal: 6.59s\tremaining: 26.2s\n",
      "400:\tlearn: 0.7311919\ttotal: 12.6s\tremaining: 18.8s\n",
      "600:\tlearn: 0.7240119\ttotal: 18.9s\tremaining: 12.5s\n",
      "800:\tlearn: 0.7179632\ttotal: 24.9s\tremaining: 6.18s\n",
      "999:\tlearn: 0.7127829\ttotal: 30.8s\tremaining: 0us\n",
      "saving...\n",
      "chunk 89 done\n",
      "chunk 90\n",
      "joined_u\n",
      "joined_v\n",
      "start training...\n"
     ]
    },
    {
     "name": "stderr",
     "output_type": "stream",
     "text": [
      "/Users/sl_ai/anaconda3/envs/hack/lib/python3.8/site-packages/catboost/core.py:1411: FutureWarning: iteritems is deprecated and will be removed in a future version. Use .items instead.\n",
      "  self._init_pool(data, label, cat_features, text_features, embedding_features, embedding_features_data, pairs, weight,\n"
     ]
    },
    {
     "name": "stdout",
     "output_type": "stream",
     "text": [
      "Learning rate set to 0.121949\n",
      "0:\tlearn: 1.2308119\ttotal: 47.1ms\tremaining: 47s\n",
      "200:\tlearn: 0.7316386\ttotal: 5.87s\tremaining: 23.3s\n",
      "400:\tlearn: 0.7225562\ttotal: 11.7s\tremaining: 17.4s\n",
      "600:\tlearn: 0.7155538\ttotal: 17.4s\tremaining: 11.6s\n",
      "800:\tlearn: 0.7098041\ttotal: 23.2s\tremaining: 5.77s\n",
      "999:\tlearn: 0.7048300\ttotal: 28.9s\tremaining: 0us\n",
      "saving...\n",
      "chunk 90 done\n",
      "chunk 91\n",
      "joined_u\n",
      "joined_v\n",
      "start training...\n"
     ]
    },
    {
     "name": "stderr",
     "output_type": "stream",
     "text": [
      "/Users/sl_ai/anaconda3/envs/hack/lib/python3.8/site-packages/catboost/core.py:1411: FutureWarning: iteritems is deprecated and will be removed in a future version. Use .items instead.\n",
      "  self._init_pool(data, label, cat_features, text_features, embedding_features, embedding_features_data, pairs, weight,\n"
     ]
    },
    {
     "name": "stdout",
     "output_type": "stream",
     "text": [
      "Learning rate set to 0.121949\n",
      "0:\tlearn: 1.2149882\ttotal: 45.5ms\tremaining: 45.5s\n",
      "200:\tlearn: 0.7458963\ttotal: 5.93s\tremaining: 23.6s\n",
      "400:\tlearn: 0.7355125\ttotal: 11.9s\tremaining: 17.7s\n",
      "600:\tlearn: 0.7275380\ttotal: 18s\tremaining: 11.9s\n",
      "800:\tlearn: 0.7215369\ttotal: 24s\tremaining: 5.97s\n",
      "999:\tlearn: 0.7162898\ttotal: 30s\tremaining: 0us\n",
      "saving...\n",
      "chunk 91 done\n",
      "chunk 92\n",
      "joined_u\n",
      "joined_v\n",
      "start training...\n"
     ]
    },
    {
     "name": "stderr",
     "output_type": "stream",
     "text": [
      "/Users/sl_ai/anaconda3/envs/hack/lib/python3.8/site-packages/catboost/core.py:1411: FutureWarning: iteritems is deprecated and will be removed in a future version. Use .items instead.\n",
      "  self._init_pool(data, label, cat_features, text_features, embedding_features, embedding_features_data, pairs, weight,\n"
     ]
    },
    {
     "name": "stdout",
     "output_type": "stream",
     "text": [
      "Learning rate set to 0.121949\n",
      "0:\tlearn: 1.3116767\ttotal: 51.7ms\tremaining: 51.6s\n",
      "200:\tlearn: 0.7665708\ttotal: 5.99s\tremaining: 23.8s\n",
      "400:\tlearn: 0.7564653\ttotal: 12.1s\tremaining: 18s\n",
      "600:\tlearn: 0.7494990\ttotal: 18.1s\tremaining: 12s\n",
      "800:\tlearn: 0.7438091\ttotal: 24.5s\tremaining: 6.09s\n",
      "999:\tlearn: 0.7386424\ttotal: 31s\tremaining: 0us\n",
      "saving...\n",
      "chunk 92 done\n",
      "chunk 93\n",
      "joined_u\n",
      "joined_v\n",
      "start training...\n"
     ]
    },
    {
     "name": "stderr",
     "output_type": "stream",
     "text": [
      "/Users/sl_ai/anaconda3/envs/hack/lib/python3.8/site-packages/catboost/core.py:1411: FutureWarning: iteritems is deprecated and will be removed in a future version. Use .items instead.\n",
      "  self._init_pool(data, label, cat_features, text_features, embedding_features, embedding_features_data, pairs, weight,\n"
     ]
    },
    {
     "name": "stdout",
     "output_type": "stream",
     "text": [
      "Learning rate set to 0.121949\n",
      "0:\tlearn: 1.2032225\ttotal: 41.2ms\tremaining: 41.2s\n",
      "200:\tlearn: 0.7271800\ttotal: 6.43s\tremaining: 25.6s\n",
      "400:\tlearn: 0.7167080\ttotal: 12.4s\tremaining: 18.5s\n",
      "600:\tlearn: 0.7093963\ttotal: 18.1s\tremaining: 12s\n",
      "800:\tlearn: 0.7033214\ttotal: 23.9s\tremaining: 5.94s\n",
      "999:\tlearn: 0.6979378\ttotal: 29.7s\tremaining: 0us\n",
      "saving...\n",
      "chunk 93 done\n",
      "chunk 94\n",
      "joined_u\n",
      "joined_v\n",
      "start training...\n"
     ]
    },
    {
     "name": "stderr",
     "output_type": "stream",
     "text": [
      "/Users/sl_ai/anaconda3/envs/hack/lib/python3.8/site-packages/catboost/core.py:1411: FutureWarning: iteritems is deprecated and will be removed in a future version. Use .items instead.\n",
      "  self._init_pool(data, label, cat_features, text_features, embedding_features, embedding_features_data, pairs, weight,\n"
     ]
    },
    {
     "name": "stdout",
     "output_type": "stream",
     "text": [
      "Learning rate set to 0.121949\n",
      "0:\tlearn: 1.2555156\ttotal: 44.1ms\tremaining: 44.1s\n",
      "200:\tlearn: 0.7592224\ttotal: 6.02s\tremaining: 23.9s\n",
      "400:\tlearn: 0.7477178\ttotal: 11.9s\tremaining: 17.7s\n",
      "600:\tlearn: 0.7396929\ttotal: 17.9s\tremaining: 11.9s\n",
      "800:\tlearn: 0.7334012\ttotal: 23.8s\tremaining: 5.91s\n",
      "999:\tlearn: 0.7280443\ttotal: 29.6s\tremaining: 0us\n",
      "saving...\n",
      "chunk 94 done\n",
      "chunk 95\n",
      "joined_u\n",
      "joined_v\n",
      "start training...\n"
     ]
    },
    {
     "name": "stderr",
     "output_type": "stream",
     "text": [
      "/Users/sl_ai/anaconda3/envs/hack/lib/python3.8/site-packages/catboost/core.py:1411: FutureWarning: iteritems is deprecated and will be removed in a future version. Use .items instead.\n",
      "  self._init_pool(data, label, cat_features, text_features, embedding_features, embedding_features_data, pairs, weight,\n"
     ]
    },
    {
     "name": "stdout",
     "output_type": "stream",
     "text": [
      "Learning rate set to 0.121949\n",
      "0:\tlearn: 1.2932038\ttotal: 44.6ms\tremaining: 44.6s\n",
      "200:\tlearn: 0.7499669\ttotal: 6.25s\tremaining: 24.8s\n",
      "400:\tlearn: 0.7400745\ttotal: 12.4s\tremaining: 18.6s\n",
      "600:\tlearn: 0.7331602\ttotal: 18.6s\tremaining: 12.4s\n",
      "800:\tlearn: 0.7274976\ttotal: 25s\tremaining: 6.2s\n",
      "999:\tlearn: 0.7225894\ttotal: 30.9s\tremaining: 0us\n",
      "saving...\n",
      "chunk 95 done\n",
      "chunk 96\n",
      "joined_u\n",
      "joined_v\n",
      "start training...\n"
     ]
    },
    {
     "name": "stderr",
     "output_type": "stream",
     "text": [
      "/Users/sl_ai/anaconda3/envs/hack/lib/python3.8/site-packages/catboost/core.py:1411: FutureWarning: iteritems is deprecated and will be removed in a future version. Use .items instead.\n",
      "  self._init_pool(data, label, cat_features, text_features, embedding_features, embedding_features_data, pairs, weight,\n"
     ]
    },
    {
     "name": "stdout",
     "output_type": "stream",
     "text": [
      "Learning rate set to 0.121949\n",
      "0:\tlearn: 1.2157906\ttotal: 42.7ms\tremaining: 42.7s\n",
      "200:\tlearn: 0.7303597\ttotal: 5.84s\tremaining: 23.2s\n",
      "400:\tlearn: 0.7207105\ttotal: 11.6s\tremaining: 17.3s\n",
      "600:\tlearn: 0.7136812\ttotal: 17.4s\tremaining: 11.6s\n",
      "800:\tlearn: 0.7078395\ttotal: 23.5s\tremaining: 5.83s\n",
      "999:\tlearn: 0.7028957\ttotal: 29.4s\tremaining: 0us\n",
      "saving...\n",
      "chunk 96 done\n",
      "chunk 97\n",
      "joined_u\n",
      "joined_v\n",
      "start training...\n"
     ]
    },
    {
     "name": "stderr",
     "output_type": "stream",
     "text": [
      "/Users/sl_ai/anaconda3/envs/hack/lib/python3.8/site-packages/catboost/core.py:1411: FutureWarning: iteritems is deprecated and will be removed in a future version. Use .items instead.\n",
      "  self._init_pool(data, label, cat_features, text_features, embedding_features, embedding_features_data, pairs, weight,\n"
     ]
    },
    {
     "name": "stdout",
     "output_type": "stream",
     "text": [
      "Learning rate set to 0.121949\n",
      "0:\tlearn: 1.2843622\ttotal: 46.8ms\tremaining: 46.8s\n",
      "200:\tlearn: 0.7846276\ttotal: 5.94s\tremaining: 23.6s\n",
      "400:\tlearn: 0.7738658\ttotal: 11.9s\tremaining: 17.7s\n",
      "600:\tlearn: 0.7659200\ttotal: 17.8s\tremaining: 11.8s\n",
      "800:\tlearn: 0.7593994\ttotal: 23.8s\tremaining: 5.91s\n",
      "999:\tlearn: 0.7539221\ttotal: 29.7s\tremaining: 0us\n",
      "saving...\n",
      "chunk 97 done\n",
      "chunk 98\n",
      "joined_u\n",
      "joined_v\n",
      "start training...\n"
     ]
    },
    {
     "name": "stderr",
     "output_type": "stream",
     "text": [
      "/Users/sl_ai/anaconda3/envs/hack/lib/python3.8/site-packages/catboost/core.py:1411: FutureWarning: iteritems is deprecated and will be removed in a future version. Use .items instead.\n",
      "  self._init_pool(data, label, cat_features, text_features, embedding_features, embedding_features_data, pairs, weight,\n"
     ]
    },
    {
     "name": "stdout",
     "output_type": "stream",
     "text": [
      "Learning rate set to 0.121949\n",
      "0:\tlearn: 1.2383485\ttotal: 41.9ms\tremaining: 41.8s\n",
      "200:\tlearn: 0.7376555\ttotal: 5.8s\tremaining: 23.1s\n",
      "400:\tlearn: 0.7261423\ttotal: 11.5s\tremaining: 17.2s\n",
      "600:\tlearn: 0.7185227\ttotal: 17.3s\tremaining: 11.5s\n",
      "800:\tlearn: 0.7125600\ttotal: 23s\tremaining: 5.71s\n",
      "999:\tlearn: 0.7073416\ttotal: 28.7s\tremaining: 0us\n",
      "saving...\n",
      "chunk 98 done\n",
      "chunk 99\n",
      "joined_u\n",
      "joined_v\n",
      "start training...\n"
     ]
    },
    {
     "name": "stderr",
     "output_type": "stream",
     "text": [
      "/Users/sl_ai/anaconda3/envs/hack/lib/python3.8/site-packages/catboost/core.py:1411: FutureWarning: iteritems is deprecated and will be removed in a future version. Use .items instead.\n",
      "  self._init_pool(data, label, cat_features, text_features, embedding_features, embedding_features_data, pairs, weight,\n"
     ]
    },
    {
     "name": "stdout",
     "output_type": "stream",
     "text": [
      "Learning rate set to 0.121949\n",
      "0:\tlearn: 1.2441593\ttotal: 38.5ms\tremaining: 38.5s\n",
      "200:\tlearn: 0.7636464\ttotal: 6s\tremaining: 23.9s\n",
      "400:\tlearn: 0.7496412\ttotal: 11.9s\tremaining: 17.8s\n",
      "600:\tlearn: 0.7406920\ttotal: 17.9s\tremaining: 11.9s\n",
      "800:\tlearn: 0.7328963\ttotal: 23.9s\tremaining: 5.94s\n",
      "999:\tlearn: 0.7266710\ttotal: 29.8s\tremaining: 0us\n",
      "saving...\n",
      "chunk 99 done\n",
      "chunk 100\n",
      "joined_u\n",
      "joined_v\n",
      "start training...\n"
     ]
    },
    {
     "name": "stderr",
     "output_type": "stream",
     "text": [
      "/Users/sl_ai/anaconda3/envs/hack/lib/python3.8/site-packages/catboost/core.py:1411: FutureWarning: iteritems is deprecated and will be removed in a future version. Use .items instead.\n",
      "  self._init_pool(data, label, cat_features, text_features, embedding_features, embedding_features_data, pairs, weight,\n"
     ]
    },
    {
     "name": "stdout",
     "output_type": "stream",
     "text": [
      "Learning rate set to 0.121949\n",
      "0:\tlearn: 1.2668503\ttotal: 46.4ms\tremaining: 46.3s\n",
      "200:\tlearn: 0.7552309\ttotal: 5.85s\tremaining: 23.3s\n",
      "400:\tlearn: 0.7446850\ttotal: 11.7s\tremaining: 17.4s\n",
      "600:\tlearn: 0.7373899\ttotal: 17.6s\tremaining: 11.7s\n",
      "800:\tlearn: 0.7312267\ttotal: 23.5s\tremaining: 5.84s\n",
      "999:\tlearn: 0.7260107\ttotal: 29.4s\tremaining: 0us\n",
      "saving...\n",
      "chunk 100 done\n",
      "chunk 101\n",
      "joined_u\n",
      "joined_v\n",
      "start training...\n"
     ]
    },
    {
     "name": "stderr",
     "output_type": "stream",
     "text": [
      "/Users/sl_ai/anaconda3/envs/hack/lib/python3.8/site-packages/catboost/core.py:1411: FutureWarning: iteritems is deprecated and will be removed in a future version. Use .items instead.\n",
      "  self._init_pool(data, label, cat_features, text_features, embedding_features, embedding_features_data, pairs, weight,\n"
     ]
    },
    {
     "name": "stdout",
     "output_type": "stream",
     "text": [
      "Learning rate set to 0.121949\n",
      "0:\tlearn: 1.3008119\ttotal: 45.2ms\tremaining: 45.2s\n",
      "200:\tlearn: 0.8054242\ttotal: 5.91s\tremaining: 23.5s\n",
      "400:\tlearn: 0.7933962\ttotal: 11.6s\tremaining: 17.4s\n",
      "600:\tlearn: 0.7843401\ttotal: 17.5s\tremaining: 11.6s\n",
      "800:\tlearn: 0.7772602\ttotal: 23.1s\tremaining: 5.73s\n",
      "999:\tlearn: 0.7708227\ttotal: 28.9s\tremaining: 0us\n",
      "saving...\n",
      "chunk 101 done\n",
      "chunk 102\n",
      "joined_u\n",
      "joined_v\n",
      "start training...\n"
     ]
    },
    {
     "name": "stderr",
     "output_type": "stream",
     "text": [
      "/Users/sl_ai/anaconda3/envs/hack/lib/python3.8/site-packages/catboost/core.py:1411: FutureWarning: iteritems is deprecated and will be removed in a future version. Use .items instead.\n",
      "  self._init_pool(data, label, cat_features, text_features, embedding_features, embedding_features_data, pairs, weight,\n"
     ]
    },
    {
     "name": "stdout",
     "output_type": "stream",
     "text": [
      "Learning rate set to 0.121949\n",
      "0:\tlearn: 1.2009899\ttotal: 38.1ms\tremaining: 38.1s\n",
      "200:\tlearn: 0.7255362\ttotal: 5.85s\tremaining: 23.3s\n",
      "400:\tlearn: 0.7144828\ttotal: 11.8s\tremaining: 17.6s\n",
      "600:\tlearn: 0.7072149\ttotal: 17.7s\tremaining: 11.8s\n",
      "800:\tlearn: 0.7007023\ttotal: 23.7s\tremaining: 5.88s\n",
      "999:\tlearn: 0.6955184\ttotal: 29.6s\tremaining: 0us\n",
      "saving...\n",
      "chunk 102 done\n",
      "chunk 103\n",
      "joined_u\n",
      "joined_v\n",
      "start training...\n"
     ]
    },
    {
     "name": "stderr",
     "output_type": "stream",
     "text": [
      "/Users/sl_ai/anaconda3/envs/hack/lib/python3.8/site-packages/catboost/core.py:1411: FutureWarning: iteritems is deprecated and will be removed in a future version. Use .items instead.\n",
      "  self._init_pool(data, label, cat_features, text_features, embedding_features, embedding_features_data, pairs, weight,\n"
     ]
    },
    {
     "name": "stdout",
     "output_type": "stream",
     "text": [
      "Learning rate set to 0.121949\n",
      "0:\tlearn: 1.2386217\ttotal: 50.3ms\tremaining: 50.2s\n",
      "200:\tlearn: 0.7522193\ttotal: 5.88s\tremaining: 23.4s\n",
      "400:\tlearn: 0.7413274\ttotal: 12s\tremaining: 17.9s\n",
      "600:\tlearn: 0.7335581\ttotal: 18.1s\tremaining: 12s\n",
      "800:\tlearn: 0.7275390\ttotal: 24.5s\tremaining: 6.08s\n",
      "999:\tlearn: 0.7221194\ttotal: 30.4s\tremaining: 0us\n",
      "saving...\n",
      "chunk 103 done\n",
      "chunk 104\n",
      "joined_u\n",
      "joined_v\n",
      "start training...\n"
     ]
    },
    {
     "name": "stderr",
     "output_type": "stream",
     "text": [
      "/Users/sl_ai/anaconda3/envs/hack/lib/python3.8/site-packages/catboost/core.py:1411: FutureWarning: iteritems is deprecated and will be removed in a future version. Use .items instead.\n",
      "  self._init_pool(data, label, cat_features, text_features, embedding_features, embedding_features_data, pairs, weight,\n"
     ]
    },
    {
     "name": "stdout",
     "output_type": "stream",
     "text": [
      "Learning rate set to 0.121949\n",
      "0:\tlearn: 1.2132936\ttotal: 44.5ms\tremaining: 44.5s\n",
      "200:\tlearn: 0.7437066\ttotal: 5.86s\tremaining: 23.3s\n",
      "400:\tlearn: 0.7321191\ttotal: 11.6s\tremaining: 17.4s\n",
      "600:\tlearn: 0.7238324\ttotal: 17.5s\tremaining: 11.6s\n",
      "800:\tlearn: 0.7170304\ttotal: 23.3s\tremaining: 5.8s\n",
      "999:\tlearn: 0.7115827\ttotal: 29.1s\tremaining: 0us\n",
      "saving...\n",
      "chunk 104 done\n",
      "chunk 105\n",
      "joined_u\n",
      "joined_v\n",
      "start training...\n"
     ]
    },
    {
     "name": "stderr",
     "output_type": "stream",
     "text": [
      "/Users/sl_ai/anaconda3/envs/hack/lib/python3.8/site-packages/catboost/core.py:1411: FutureWarning: iteritems is deprecated and will be removed in a future version. Use .items instead.\n",
      "  self._init_pool(data, label, cat_features, text_features, embedding_features, embedding_features_data, pairs, weight,\n"
     ]
    },
    {
     "name": "stdout",
     "output_type": "stream",
     "text": [
      "Learning rate set to 0.121949\n",
      "0:\tlearn: 1.2891427\ttotal: 55.1ms\tremaining: 55s\n",
      "200:\tlearn: 0.7927256\ttotal: 6.08s\tremaining: 24.2s\n",
      "400:\tlearn: 0.7806062\ttotal: 12s\tremaining: 18s\n",
      "600:\tlearn: 0.7718000\ttotal: 18.1s\tremaining: 12s\n",
      "800:\tlearn: 0.7649172\ttotal: 24.1s\tremaining: 5.99s\n",
      "999:\tlearn: 0.7590520\ttotal: 30s\tremaining: 0us\n",
      "saving...\n",
      "chunk 105 done\n",
      "chunk 106\n",
      "joined_u\n",
      "joined_v\n",
      "start training...\n"
     ]
    },
    {
     "name": "stderr",
     "output_type": "stream",
     "text": [
      "/Users/sl_ai/anaconda3/envs/hack/lib/python3.8/site-packages/catboost/core.py:1411: FutureWarning: iteritems is deprecated and will be removed in a future version. Use .items instead.\n",
      "  self._init_pool(data, label, cat_features, text_features, embedding_features, embedding_features_data, pairs, weight,\n"
     ]
    },
    {
     "name": "stdout",
     "output_type": "stream",
     "text": [
      "Learning rate set to 0.121949\n",
      "0:\tlearn: 1.2769884\ttotal: 45.4ms\tremaining: 45.4s\n",
      "200:\tlearn: 0.7592151\ttotal: 5.78s\tremaining: 23s\n",
      "400:\tlearn: 0.7491707\ttotal: 11.6s\tremaining: 17.3s\n",
      "600:\tlearn: 0.7412594\ttotal: 17.4s\tremaining: 11.6s\n",
      "800:\tlearn: 0.7348950\ttotal: 23.1s\tremaining: 5.75s\n",
      "999:\tlearn: 0.7294874\ttotal: 28.9s\tremaining: 0us\n",
      "saving...\n",
      "chunk 106 done\n",
      "chunk 107\n",
      "joined_u\n",
      "joined_v\n",
      "start training...\n"
     ]
    },
    {
     "name": "stderr",
     "output_type": "stream",
     "text": [
      "/Users/sl_ai/anaconda3/envs/hack/lib/python3.8/site-packages/catboost/core.py:1411: FutureWarning: iteritems is deprecated and will be removed in a future version. Use .items instead.\n",
      "  self._init_pool(data, label, cat_features, text_features, embedding_features, embedding_features_data, pairs, weight,\n"
     ]
    },
    {
     "name": "stdout",
     "output_type": "stream",
     "text": [
      "Learning rate set to 0.121949\n",
      "0:\tlearn: 1.2045053\ttotal: 47.7ms\tremaining: 47.6s\n",
      "200:\tlearn: 0.7414433\ttotal: 5.8s\tremaining: 23.1s\n",
      "400:\tlearn: 0.7309165\ttotal: 11.9s\tremaining: 17.7s\n",
      "600:\tlearn: 0.7238401\ttotal: 17.6s\tremaining: 11.7s\n",
      "800:\tlearn: 0.7180272\ttotal: 23.5s\tremaining: 5.84s\n",
      "999:\tlearn: 0.7132760\ttotal: 29.4s\tremaining: 0us\n",
      "saving...\n",
      "chunk 107 done\n",
      "chunk 108\n",
      "joined_u\n",
      "joined_v\n",
      "start training...\n"
     ]
    },
    {
     "name": "stderr",
     "output_type": "stream",
     "text": [
      "/Users/sl_ai/anaconda3/envs/hack/lib/python3.8/site-packages/catboost/core.py:1411: FutureWarning: iteritems is deprecated and will be removed in a future version. Use .items instead.\n",
      "  self._init_pool(data, label, cat_features, text_features, embedding_features, embedding_features_data, pairs, weight,\n"
     ]
    },
    {
     "name": "stdout",
     "output_type": "stream",
     "text": [
      "Learning rate set to 0.121949\n",
      "0:\tlearn: 1.2582840\ttotal: 42.9ms\tremaining: 42.8s\n",
      "200:\tlearn: 0.7487649\ttotal: 5.88s\tremaining: 23.4s\n",
      "400:\tlearn: 0.7381607\ttotal: 11.8s\tremaining: 17.6s\n",
      "600:\tlearn: 0.7299420\ttotal: 17.8s\tremaining: 11.8s\n",
      "800:\tlearn: 0.7233061\ttotal: 23.9s\tremaining: 5.93s\n",
      "999:\tlearn: 0.7179177\ttotal: 29.9s\tremaining: 0us\n",
      "saving...\n",
      "chunk 108 done\n",
      "chunk 109\n",
      "joined_u\n",
      "joined_v\n",
      "start training...\n"
     ]
    },
    {
     "name": "stderr",
     "output_type": "stream",
     "text": [
      "/Users/sl_ai/anaconda3/envs/hack/lib/python3.8/site-packages/catboost/core.py:1411: FutureWarning: iteritems is deprecated and will be removed in a future version. Use .items instead.\n",
      "  self._init_pool(data, label, cat_features, text_features, embedding_features, embedding_features_data, pairs, weight,\n"
     ]
    },
    {
     "name": "stdout",
     "output_type": "stream",
     "text": [
      "Learning rate set to 0.121949\n",
      "0:\tlearn: 1.2693374\ttotal: 43.2ms\tremaining: 43.2s\n",
      "200:\tlearn: 0.7672508\ttotal: 6.53s\tremaining: 26s\n",
      "400:\tlearn: 0.7573012\ttotal: 12.5s\tremaining: 18.7s\n",
      "600:\tlearn: 0.7500890\ttotal: 18.4s\tremaining: 12.2s\n",
      "800:\tlearn: 0.7437287\ttotal: 24.4s\tremaining: 6.06s\n",
      "999:\tlearn: 0.7385512\ttotal: 30.1s\tremaining: 0us\n",
      "saving...\n",
      "chunk 109 done\n",
      "chunk 110\n",
      "joined_u\n",
      "joined_v\n",
      "start training...\n"
     ]
    },
    {
     "name": "stderr",
     "output_type": "stream",
     "text": [
      "/Users/sl_ai/anaconda3/envs/hack/lib/python3.8/site-packages/catboost/core.py:1411: FutureWarning: iteritems is deprecated and will be removed in a future version. Use .items instead.\n",
      "  self._init_pool(data, label, cat_features, text_features, embedding_features, embedding_features_data, pairs, weight,\n"
     ]
    },
    {
     "name": "stdout",
     "output_type": "stream",
     "text": [
      "Learning rate set to 0.121949\n",
      "0:\tlearn: 1.2712112\ttotal: 45.5ms\tremaining: 45.5s\n",
      "200:\tlearn: 0.7410406\ttotal: 5.75s\tremaining: 22.8s\n",
      "400:\tlearn: 0.7307493\ttotal: 11.4s\tremaining: 17.1s\n",
      "600:\tlearn: 0.7230906\ttotal: 17.2s\tremaining: 11.4s\n",
      "800:\tlearn: 0.7169938\ttotal: 22.9s\tremaining: 5.68s\n",
      "999:\tlearn: 0.7118716\ttotal: 28.8s\tremaining: 0us\n",
      "saving...\n",
      "chunk 110 done\n",
      "chunk 111\n",
      "joined_u\n",
      "joined_v\n",
      "start training...\n"
     ]
    },
    {
     "name": "stderr",
     "output_type": "stream",
     "text": [
      "/Users/sl_ai/anaconda3/envs/hack/lib/python3.8/site-packages/catboost/core.py:1411: FutureWarning: iteritems is deprecated and will be removed in a future version. Use .items instead.\n",
      "  self._init_pool(data, label, cat_features, text_features, embedding_features, embedding_features_data, pairs, weight,\n"
     ]
    },
    {
     "name": "stdout",
     "output_type": "stream",
     "text": [
      "Learning rate set to 0.121949\n",
      "0:\tlearn: 1.2343964\ttotal: 48.8ms\tremaining: 48.8s\n",
      "200:\tlearn: 0.7741367\ttotal: 6.16s\tremaining: 24.5s\n",
      "400:\tlearn: 0.7534605\ttotal: 12.5s\tremaining: 18.7s\n",
      "600:\tlearn: 0.7444686\ttotal: 18.7s\tremaining: 12.4s\n",
      "800:\tlearn: 0.7362254\ttotal: 25.3s\tremaining: 6.29s\n",
      "999:\tlearn: 0.7310167\ttotal: 31.4s\tremaining: 0us\n",
      "saving...\n",
      "chunk 111 done\n",
      "chunk 112\n",
      "joined_u\n",
      "joined_v\n",
      "start training...\n"
     ]
    },
    {
     "name": "stderr",
     "output_type": "stream",
     "text": [
      "/Users/sl_ai/anaconda3/envs/hack/lib/python3.8/site-packages/catboost/core.py:1411: FutureWarning: iteritems is deprecated and will be removed in a future version. Use .items instead.\n",
      "  self._init_pool(data, label, cat_features, text_features, embedding_features, embedding_features_data, pairs, weight,\n"
     ]
    },
    {
     "name": "stdout",
     "output_type": "stream",
     "text": [
      "Learning rate set to 0.121949\n",
      "0:\tlearn: 1.2703451\ttotal: 42.7ms\tremaining: 42.6s\n",
      "200:\tlearn: 0.7815351\ttotal: 5.88s\tremaining: 23.4s\n",
      "400:\tlearn: 0.7702261\ttotal: 11.9s\tremaining: 17.8s\n",
      "600:\tlearn: 0.7621575\ttotal: 17.9s\tremaining: 11.9s\n",
      "800:\tlearn: 0.7556642\ttotal: 23.8s\tremaining: 5.91s\n",
      "999:\tlearn: 0.7499876\ttotal: 29.7s\tremaining: 0us\n",
      "saving...\n",
      "chunk 112 done\n",
      "chunk 113\n",
      "joined_u\n",
      "joined_v\n",
      "start training...\n"
     ]
    },
    {
     "name": "stderr",
     "output_type": "stream",
     "text": [
      "/Users/sl_ai/anaconda3/envs/hack/lib/python3.8/site-packages/catboost/core.py:1411: FutureWarning: iteritems is deprecated and will be removed in a future version. Use .items instead.\n",
      "  self._init_pool(data, label, cat_features, text_features, embedding_features, embedding_features_data, pairs, weight,\n"
     ]
    },
    {
     "name": "stdout",
     "output_type": "stream",
     "text": [
      "Learning rate set to 0.121949\n",
      "0:\tlearn: 1.3152955\ttotal: 48.6ms\tremaining: 48.5s\n",
      "200:\tlearn: 0.7714048\ttotal: 5.81s\tremaining: 23.1s\n",
      "400:\tlearn: 0.7614999\ttotal: 11.6s\tremaining: 17.4s\n",
      "600:\tlearn: 0.7540380\ttotal: 17.3s\tremaining: 11.5s\n",
      "800:\tlearn: 0.7481220\ttotal: 23s\tremaining: 5.72s\n",
      "999:\tlearn: 0.7429580\ttotal: 28.7s\tremaining: 0us\n",
      "saving...\n",
      "chunk 113 done\n",
      "chunk 114\n",
      "joined_u\n",
      "joined_v\n",
      "start training...\n"
     ]
    },
    {
     "name": "stderr",
     "output_type": "stream",
     "text": [
      "/Users/sl_ai/anaconda3/envs/hack/lib/python3.8/site-packages/catboost/core.py:1411: FutureWarning: iteritems is deprecated and will be removed in a future version. Use .items instead.\n",
      "  self._init_pool(data, label, cat_features, text_features, embedding_features, embedding_features_data, pairs, weight,\n"
     ]
    },
    {
     "name": "stdout",
     "output_type": "stream",
     "text": [
      "Learning rate set to 0.121949\n",
      "0:\tlearn: 1.1878552\ttotal: 40ms\tremaining: 39.9s\n",
      "200:\tlearn: 0.7417085\ttotal: 5.98s\tremaining: 23.8s\n",
      "400:\tlearn: 0.7312690\ttotal: 11.9s\tremaining: 17.8s\n",
      "600:\tlearn: 0.7238553\ttotal: 17.8s\tremaining: 11.8s\n",
      "800:\tlearn: 0.7178215\ttotal: 23.8s\tremaining: 5.91s\n",
      "999:\tlearn: 0.7127978\ttotal: 29.7s\tremaining: 0us\n",
      "saving...\n",
      "chunk 114 done\n",
      "chunk 115\n",
      "joined_u\n",
      "joined_v\n",
      "start training...\n"
     ]
    },
    {
     "name": "stderr",
     "output_type": "stream",
     "text": [
      "/Users/sl_ai/anaconda3/envs/hack/lib/python3.8/site-packages/catboost/core.py:1411: FutureWarning: iteritems is deprecated and will be removed in a future version. Use .items instead.\n",
      "  self._init_pool(data, label, cat_features, text_features, embedding_features, embedding_features_data, pairs, weight,\n"
     ]
    },
    {
     "name": "stdout",
     "output_type": "stream",
     "text": [
      "Learning rate set to 0.121949\n",
      "0:\tlearn: 1.2802651\ttotal: 43.8ms\tremaining: 43.7s\n",
      "200:\tlearn: 0.7508656\ttotal: 5.72s\tremaining: 22.7s\n",
      "400:\tlearn: 0.7405113\ttotal: 11.4s\tremaining: 17s\n",
      "600:\tlearn: 0.7323994\ttotal: 17.1s\tremaining: 11.4s\n",
      "800:\tlearn: 0.7264241\ttotal: 22.8s\tremaining: 5.67s\n",
      "999:\tlearn: 0.7210986\ttotal: 28.6s\tremaining: 0us\n",
      "saving...\n",
      "chunk 115 done\n",
      "chunk 116\n",
      "joined_u\n",
      "joined_v\n",
      "start training...\n"
     ]
    },
    {
     "name": "stderr",
     "output_type": "stream",
     "text": [
      "/Users/sl_ai/anaconda3/envs/hack/lib/python3.8/site-packages/catboost/core.py:1411: FutureWarning: iteritems is deprecated and will be removed in a future version. Use .items instead.\n",
      "  self._init_pool(data, label, cat_features, text_features, embedding_features, embedding_features_data, pairs, weight,\n"
     ]
    },
    {
     "name": "stdout",
     "output_type": "stream",
     "text": [
      "Learning rate set to 0.121949\n",
      "0:\tlearn: 1.2718916\ttotal: 44.7ms\tremaining: 44.6s\n",
      "200:\tlearn: 0.7768172\ttotal: 5.92s\tremaining: 23.5s\n",
      "400:\tlearn: 0.7660906\ttotal: 11.9s\tremaining: 17.8s\n",
      "600:\tlearn: 0.7584894\ttotal: 18s\tremaining: 12s\n",
      "800:\tlearn: 0.7522390\ttotal: 23.9s\tremaining: 5.93s\n",
      "999:\tlearn: 0.7464679\ttotal: 29.7s\tremaining: 0us\n",
      "saving...\n",
      "chunk 116 done\n",
      "chunk 117\n",
      "joined_u\n",
      "joined_v\n",
      "start training...\n"
     ]
    },
    {
     "name": "stderr",
     "output_type": "stream",
     "text": [
      "/Users/sl_ai/anaconda3/envs/hack/lib/python3.8/site-packages/catboost/core.py:1411: FutureWarning: iteritems is deprecated and will be removed in a future version. Use .items instead.\n",
      "  self._init_pool(data, label, cat_features, text_features, embedding_features, embedding_features_data, pairs, weight,\n"
     ]
    },
    {
     "name": "stdout",
     "output_type": "stream",
     "text": [
      "Learning rate set to 0.121949\n",
      "0:\tlearn: 1.2578723\ttotal: 46.8ms\tremaining: 46.8s\n",
      "200:\tlearn: 0.7675294\ttotal: 5.93s\tremaining: 23.6s\n",
      "400:\tlearn: 0.7567480\ttotal: 11.9s\tremaining: 17.8s\n",
      "600:\tlearn: 0.7489919\ttotal: 17.8s\tremaining: 11.8s\n",
      "800:\tlearn: 0.7423098\ttotal: 23.7s\tremaining: 5.88s\n",
      "999:\tlearn: 0.7366890\ttotal: 29.6s\tremaining: 0us\n",
      "saving...\n",
      "chunk 117 done\n",
      "chunk 118\n",
      "joined_u\n",
      "joined_v\n",
      "start training...\n"
     ]
    },
    {
     "name": "stderr",
     "output_type": "stream",
     "text": [
      "/Users/sl_ai/anaconda3/envs/hack/lib/python3.8/site-packages/catboost/core.py:1411: FutureWarning: iteritems is deprecated and will be removed in a future version. Use .items instead.\n",
      "  self._init_pool(data, label, cat_features, text_features, embedding_features, embedding_features_data, pairs, weight,\n"
     ]
    },
    {
     "name": "stdout",
     "output_type": "stream",
     "text": [
      "Learning rate set to 0.121949\n",
      "0:\tlearn: 1.2466250\ttotal: 42ms\tremaining: 41.9s\n",
      "200:\tlearn: 0.7406842\ttotal: 5.59s\tremaining: 22.2s\n",
      "400:\tlearn: 0.7304432\ttotal: 11.3s\tremaining: 16.9s\n",
      "600:\tlearn: 0.7226201\ttotal: 17s\tremaining: 11.3s\n",
      "800:\tlearn: 0.7164324\ttotal: 22.6s\tremaining: 5.61s\n",
      "999:\tlearn: 0.7110452\ttotal: 28.4s\tremaining: 0us\n",
      "saving...\n",
      "chunk 118 done\n",
      "chunk 119\n",
      "joined_u\n",
      "joined_v\n",
      "start training...\n"
     ]
    },
    {
     "name": "stderr",
     "output_type": "stream",
     "text": [
      "/Users/sl_ai/anaconda3/envs/hack/lib/python3.8/site-packages/catboost/core.py:1411: FutureWarning: iteritems is deprecated and will be removed in a future version. Use .items instead.\n",
      "  self._init_pool(data, label, cat_features, text_features, embedding_features, embedding_features_data, pairs, weight,\n"
     ]
    },
    {
     "name": "stdout",
     "output_type": "stream",
     "text": [
      "Learning rate set to 0.121949\n",
      "0:\tlearn: 1.2596148\ttotal: 51ms\tremaining: 51s\n",
      "200:\tlearn: 0.7556844\ttotal: 6s\tremaining: 23.8s\n",
      "400:\tlearn: 0.7451927\ttotal: 11.8s\tremaining: 17.6s\n",
      "600:\tlearn: 0.7378088\ttotal: 17.8s\tremaining: 11.8s\n",
      "800:\tlearn: 0.7314917\ttotal: 23.9s\tremaining: 5.93s\n",
      "999:\tlearn: 0.7263657\ttotal: 29.7s\tremaining: 0us\n",
      "saving...\n",
      "chunk 119 done\n",
      "chunk 120\n",
      "joined_u\n",
      "joined_v\n",
      "start training...\n"
     ]
    },
    {
     "name": "stderr",
     "output_type": "stream",
     "text": [
      "/Users/sl_ai/anaconda3/envs/hack/lib/python3.8/site-packages/catboost/core.py:1411: FutureWarning: iteritems is deprecated and will be removed in a future version. Use .items instead.\n",
      "  self._init_pool(data, label, cat_features, text_features, embedding_features, embedding_features_data, pairs, weight,\n"
     ]
    },
    {
     "name": "stdout",
     "output_type": "stream",
     "text": [
      "Learning rate set to 0.121949\n",
      "0:\tlearn: 1.2798944\ttotal: 42.9ms\tremaining: 42.9s\n",
      "200:\tlearn: 0.7633319\ttotal: 6s\tremaining: 23.8s\n",
      "400:\tlearn: 0.7531193\ttotal: 11.8s\tremaining: 17.6s\n",
      "600:\tlearn: 0.7455936\ttotal: 17.7s\tremaining: 11.7s\n",
      "800:\tlearn: 0.7393421\ttotal: 23.6s\tremaining: 5.87s\n",
      "999:\tlearn: 0.7340336\ttotal: 29.4s\tremaining: 0us\n",
      "saving...\n",
      "chunk 120 done\n",
      "chunk 121\n",
      "joined_u\n",
      "joined_v\n",
      "start training...\n"
     ]
    },
    {
     "name": "stderr",
     "output_type": "stream",
     "text": [
      "/Users/sl_ai/anaconda3/envs/hack/lib/python3.8/site-packages/catboost/core.py:1411: FutureWarning: iteritems is deprecated and will be removed in a future version. Use .items instead.\n",
      "  self._init_pool(data, label, cat_features, text_features, embedding_features, embedding_features_data, pairs, weight,\n"
     ]
    },
    {
     "name": "stdout",
     "output_type": "stream",
     "text": [
      "Learning rate set to 0.121949\n",
      "0:\tlearn: 1.2717345\ttotal: 38.7ms\tremaining: 38.7s\n",
      "200:\tlearn: 0.7661466\ttotal: 5.75s\tremaining: 22.9s\n",
      "400:\tlearn: 0.7543932\ttotal: 11.5s\tremaining: 17.1s\n",
      "600:\tlearn: 0.7464624\ttotal: 17.2s\tremaining: 11.5s\n",
      "800:\tlearn: 0.7398291\ttotal: 23s\tremaining: 5.71s\n",
      "999:\tlearn: 0.7338602\ttotal: 28.7s\tremaining: 0us\n",
      "saving...\n",
      "chunk 121 done\n",
      "chunk 122\n",
      "joined_u\n",
      "joined_v\n",
      "start training...\n"
     ]
    },
    {
     "name": "stderr",
     "output_type": "stream",
     "text": [
      "/Users/sl_ai/anaconda3/envs/hack/lib/python3.8/site-packages/catboost/core.py:1411: FutureWarning: iteritems is deprecated and will be removed in a future version. Use .items instead.\n",
      "  self._init_pool(data, label, cat_features, text_features, embedding_features, embedding_features_data, pairs, weight,\n"
     ]
    },
    {
     "name": "stdout",
     "output_type": "stream",
     "text": [
      "Learning rate set to 0.121949\n",
      "0:\tlearn: 1.2423376\ttotal: 41.7ms\tremaining: 41.7s\n",
      "200:\tlearn: 0.7550039\ttotal: 5.92s\tremaining: 23.5s\n",
      "400:\tlearn: 0.7441209\ttotal: 11.8s\tremaining: 17.6s\n",
      "600:\tlearn: 0.7367474\ttotal: 17.7s\tremaining: 11.8s\n",
      "800:\tlearn: 0.7308213\ttotal: 23.5s\tremaining: 5.85s\n",
      "999:\tlearn: 0.7254120\ttotal: 29.4s\tremaining: 0us\n",
      "saving...\n",
      "chunk 122 done\n",
      "chunk 123\n",
      "joined_u\n",
      "joined_v\n",
      "start training...\n"
     ]
    },
    {
     "name": "stderr",
     "output_type": "stream",
     "text": [
      "/Users/sl_ai/anaconda3/envs/hack/lib/python3.8/site-packages/catboost/core.py:1411: FutureWarning: iteritems is deprecated and will be removed in a future version. Use .items instead.\n",
      "  self._init_pool(data, label, cat_features, text_features, embedding_features, embedding_features_data, pairs, weight,\n"
     ]
    },
    {
     "name": "stdout",
     "output_type": "stream",
     "text": [
      "Learning rate set to 0.099752\n",
      "0:\tlearn: 1.4747047\ttotal: 15.5ms\tremaining: 15.5s\n",
      "200:\tlearn: 0.8269846\ttotal: 1.9s\tremaining: 7.55s\n",
      "400:\tlearn: 0.8059987\ttotal: 3.76s\tremaining: 5.62s\n",
      "600:\tlearn: 0.7900475\ttotal: 5.64s\tremaining: 3.74s\n",
      "800:\tlearn: 0.7775601\ttotal: 7.54s\tremaining: 1.87s\n",
      "999:\tlearn: 0.7673456\ttotal: 9.4s\tremaining: 0us\n",
      "saving...\n",
      "chunk 123 done\n"
     ]
    }
   ],
   "source": [
    "i = 1\n",
    "with pd.read_csv(DATA_PATH, chunksize=CHUNKSIZE) as reader:\n",
    "    print('start learning...')\n",
    "    for df in reader: \n",
    "        print(f'chunk {i}')\n",
    "        joined_u = pd.merge(df, attrs, left_on=['ego_id', 'u'], right_on=['ego_id', 'u'], how='left')\n",
    "        print('joined_u')\n",
    "        joined_v = pd.merge(joined_u, attrs, left_on=['ego_id', 'v'], right_on=['ego_id', 'u'], how='left', suffixes=('_u', '_v'))\n",
    "        print('joined_v')\n",
    "\n",
    "        joined_v = joined_v[[\n",
    "            'ego_id', 'u_u', 'v', 't', 'x1', 'x2', 'x3', 'age_u', 'city_id_u',\n",
    "            'sex_u', 'school_u', 'university_u', 'age_v', 'city_id_v',\n",
    "            'sex_v', 'school_v', 'university_v'\n",
    "        ]]\n",
    "        joined_v.columns = [\n",
    "            'ego_id', 'u', 'v', 't', 'x1', 'x2', 'x3', 'age_u', 'city_id_u',\n",
    "            'sex_u', 'school_u', 'university_u', 'age_v', 'city_id_v',\n",
    "            'sex_v', 'school_v', 'university_v'\n",
    "        ]\n",
    "\n",
    "        y_train = joined_v['x1']\n",
    "        X_train = joined_v.drop(columns=['x1'])     \n",
    "        print('start training...')\n",
    "        lgbm.fit(X_train, y_train)\n",
    "        cb_reg_1.fit(X_train, y_train)\n",
    "\n",
    "        print('saving...')\n",
    "        with open('lgbm_model.pkl', 'wb') as file:\n",
    "            pickle.dump(lgbm, file)\n",
    "\n",
    "        cb_reg_1.save_model('cboost_model')\n",
    "        print(f'chunk {i} done')\n",
    "        i += 1\n"
   ]
  },
  {
   "cell_type": "code",
   "execution_count": null,
   "metadata": {},
   "outputs": [],
   "source": []
  },
  {
   "cell_type": "code",
   "execution_count": null,
   "metadata": {},
   "outputs": [],
   "source": []
  }
 ],
 "metadata": {
  "kernelspec": {
   "display_name": "Python 3 (ipykernel)",
   "language": "python",
   "name": "python3"
  },
  "language_info": {
   "codemirror_mode": {
    "name": "ipython",
    "version": 3
   },
   "file_extension": ".py",
   "mimetype": "text/x-python",
   "name": "python",
   "nbconvert_exporter": "python",
   "pygments_lexer": "ipython3",
   "version": "3.9.6"
  }
 },
 "nbformat": 4,
 "nbformat_minor": 2
}
